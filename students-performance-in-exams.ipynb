{
 "cells": [
  {
   "cell_type": "markdown",
   "id": "5c7e4e59",
   "metadata": {
    "papermill": {
     "duration": 0.019396,
     "end_time": "2022-07-19T06:53:10.105329",
     "exception": false,
     "start_time": "2022-07-19T06:53:10.085933",
     "status": "completed"
    },
    "tags": []
   },
   "source": [
    "# Import libraries"
   ]
  },
  {
   "cell_type": "code",
   "execution_count": 1,
   "id": "403533d6",
   "metadata": {
    "execution": {
     "iopub.execute_input": "2022-07-19T06:53:10.139664Z",
     "iopub.status.busy": "2022-07-19T06:53:10.138844Z",
     "iopub.status.idle": "2022-07-19T06:53:12.376248Z",
     "shell.execute_reply": "2022-07-19T06:53:12.375287Z"
    },
    "papermill": {
     "duration": 2.257435,
     "end_time": "2022-07-19T06:53:12.378911",
     "exception": false,
     "start_time": "2022-07-19T06:53:10.121476",
     "status": "completed"
    },
    "tags": []
   },
   "outputs": [],
   "source": [
    "import pandas as pd\n",
    "import warnings\n",
    "warnings.filterwarnings('ignore')\n",
    "import missingno as msn\n",
    "import plotly.express as px\n",
    "import matplotlib.pyplot as plt\n",
    "import seaborn as sns\n",
    "import numpy as np"
   ]
  },
  {
   "cell_type": "markdown",
   "id": "f3e5695c",
   "metadata": {
    "papermill": {
     "duration": 0.01575,
     "end_time": "2022-07-19T06:53:12.410711",
     "exception": false,
     "start_time": "2022-07-19T06:53:12.394961",
     "status": "completed"
    },
    "tags": []
   },
   "source": [
    "# Extract dataset"
   ]
  },
  {
   "cell_type": "code",
   "execution_count": 2,
   "id": "5ccbcb8c",
   "metadata": {
    "execution": {
     "iopub.execute_input": "2022-07-19T06:53:12.444864Z",
     "iopub.status.busy": "2022-07-19T06:53:12.444249Z",
     "iopub.status.idle": "2022-07-19T06:53:12.462289Z",
     "shell.execute_reply": "2022-07-19T06:53:12.461375Z"
    },
    "papermill": {
     "duration": 0.037828,
     "end_time": "2022-07-19T06:53:12.464529",
     "exception": false,
     "start_time": "2022-07-19T06:53:12.426701",
     "status": "completed"
    },
    "tags": []
   },
   "outputs": [],
   "source": [
    "df=pd.read_csv('../input/students-performance-in-exams/StudentsPerformance.csv')"
   ]
  },
  {
   "cell_type": "code",
   "execution_count": 3,
   "id": "cf254c89",
   "metadata": {
    "execution": {
     "iopub.execute_input": "2022-07-19T06:53:12.498323Z",
     "iopub.status.busy": "2022-07-19T06:53:12.497976Z",
     "iopub.status.idle": "2022-07-19T06:53:12.518642Z",
     "shell.execute_reply": "2022-07-19T06:53:12.517819Z"
    },
    "papermill": {
     "duration": 0.040466,
     "end_time": "2022-07-19T06:53:12.521031",
     "exception": false,
     "start_time": "2022-07-19T06:53:12.480565",
     "status": "completed"
    },
    "scrolled": true,
    "tags": []
   },
   "outputs": [
    {
     "data": {
      "text/html": [
       "<div>\n",
       "<style scoped>\n",
       "    .dataframe tbody tr th:only-of-type {\n",
       "        vertical-align: middle;\n",
       "    }\n",
       "\n",
       "    .dataframe tbody tr th {\n",
       "        vertical-align: top;\n",
       "    }\n",
       "\n",
       "    .dataframe thead th {\n",
       "        text-align: right;\n",
       "    }\n",
       "</style>\n",
       "<table border=\"1\" class=\"dataframe\">\n",
       "  <thead>\n",
       "    <tr style=\"text-align: right;\">\n",
       "      <th></th>\n",
       "      <th>gender</th>\n",
       "      <th>race/ethnicity</th>\n",
       "      <th>parental level of education</th>\n",
       "      <th>lunch</th>\n",
       "      <th>test preparation course</th>\n",
       "      <th>math score</th>\n",
       "      <th>reading score</th>\n",
       "      <th>writing score</th>\n",
       "    </tr>\n",
       "  </thead>\n",
       "  <tbody>\n",
       "    <tr>\n",
       "      <th>0</th>\n",
       "      <td>female</td>\n",
       "      <td>group B</td>\n",
       "      <td>bachelor's degree</td>\n",
       "      <td>standard</td>\n",
       "      <td>none</td>\n",
       "      <td>72</td>\n",
       "      <td>72</td>\n",
       "      <td>74</td>\n",
       "    </tr>\n",
       "    <tr>\n",
       "      <th>1</th>\n",
       "      <td>female</td>\n",
       "      <td>group C</td>\n",
       "      <td>some college</td>\n",
       "      <td>standard</td>\n",
       "      <td>completed</td>\n",
       "      <td>69</td>\n",
       "      <td>90</td>\n",
       "      <td>88</td>\n",
       "    </tr>\n",
       "    <tr>\n",
       "      <th>2</th>\n",
       "      <td>female</td>\n",
       "      <td>group B</td>\n",
       "      <td>master's degree</td>\n",
       "      <td>standard</td>\n",
       "      <td>none</td>\n",
       "      <td>90</td>\n",
       "      <td>95</td>\n",
       "      <td>93</td>\n",
       "    </tr>\n",
       "    <tr>\n",
       "      <th>3</th>\n",
       "      <td>male</td>\n",
       "      <td>group A</td>\n",
       "      <td>associate's degree</td>\n",
       "      <td>free/reduced</td>\n",
       "      <td>none</td>\n",
       "      <td>47</td>\n",
       "      <td>57</td>\n",
       "      <td>44</td>\n",
       "    </tr>\n",
       "    <tr>\n",
       "      <th>4</th>\n",
       "      <td>male</td>\n",
       "      <td>group C</td>\n",
       "      <td>some college</td>\n",
       "      <td>standard</td>\n",
       "      <td>none</td>\n",
       "      <td>76</td>\n",
       "      <td>78</td>\n",
       "      <td>75</td>\n",
       "    </tr>\n",
       "  </tbody>\n",
       "</table>\n",
       "</div>"
      ],
      "text/plain": [
       "   gender race/ethnicity parental level of education         lunch  \\\n",
       "0  female        group B           bachelor's degree      standard   \n",
       "1  female        group C                some college      standard   \n",
       "2  female        group B             master's degree      standard   \n",
       "3    male        group A          associate's degree  free/reduced   \n",
       "4    male        group C                some college      standard   \n",
       "\n",
       "  test preparation course  math score  reading score  writing score  \n",
       "0                    none          72             72             74  \n",
       "1               completed          69             90             88  \n",
       "2                    none          90             95             93  \n",
       "3                    none          47             57             44  \n",
       "4                    none          76             78             75  "
      ]
     },
     "execution_count": 3,
     "metadata": {},
     "output_type": "execute_result"
    }
   ],
   "source": [
    "df.head()"
   ]
  },
  {
   "cell_type": "markdown",
   "id": "b0929601",
   "metadata": {
    "papermill": {
     "duration": 0.015804,
     "end_time": "2022-07-19T06:53:12.553114",
     "exception": false,
     "start_time": "2022-07-19T06:53:12.537310",
     "status": "completed"
    },
    "tags": []
   },
   "source": [
    "let's see columns"
   ]
  },
  {
   "cell_type": "code",
   "execution_count": 4,
   "id": "ca23ec33",
   "metadata": {
    "execution": {
     "iopub.execute_input": "2022-07-19T06:53:12.587762Z",
     "iopub.status.busy": "2022-07-19T06:53:12.586649Z",
     "iopub.status.idle": "2022-07-19T06:53:12.593581Z",
     "shell.execute_reply": "2022-07-19T06:53:12.592787Z"
    },
    "papermill": {
     "duration": 0.026574,
     "end_time": "2022-07-19T06:53:12.595915",
     "exception": false,
     "start_time": "2022-07-19T06:53:12.569341",
     "status": "completed"
    },
    "tags": []
   },
   "outputs": [
    {
     "data": {
      "text/plain": [
       "Index(['gender', 'race/ethnicity', 'parental level of education', 'lunch',\n",
       "       'test preparation course', 'math score', 'reading score',\n",
       "       'writing score'],\n",
       "      dtype='object')"
      ]
     },
     "execution_count": 4,
     "metadata": {},
     "output_type": "execute_result"
    }
   ],
   "source": [
    "df.columns"
   ]
  },
  {
   "cell_type": "code",
   "execution_count": 5,
   "id": "1de4c830",
   "metadata": {
    "execution": {
     "iopub.execute_input": "2022-07-19T06:53:12.631348Z",
     "iopub.status.busy": "2022-07-19T06:53:12.630564Z",
     "iopub.status.idle": "2022-07-19T06:53:12.637243Z",
     "shell.execute_reply": "2022-07-19T06:53:12.636202Z"
    },
    "papermill": {
     "duration": 0.027015,
     "end_time": "2022-07-19T06:53:12.639323",
     "exception": false,
     "start_time": "2022-07-19T06:53:12.612308",
     "status": "completed"
    },
    "tags": []
   },
   "outputs": [
    {
     "data": {
      "text/plain": [
       "(1000, 8)"
      ]
     },
     "execution_count": 5,
     "metadata": {},
     "output_type": "execute_result"
    }
   ],
   "source": [
    "df.shape"
   ]
  },
  {
   "cell_type": "code",
   "execution_count": 6,
   "id": "b4621c7a",
   "metadata": {
    "execution": {
     "iopub.execute_input": "2022-07-19T06:53:12.674110Z",
     "iopub.status.busy": "2022-07-19T06:53:12.673366Z",
     "iopub.status.idle": "2022-07-19T06:53:12.698967Z",
     "shell.execute_reply": "2022-07-19T06:53:12.697764Z"
    },
    "papermill": {
     "duration": 0.045897,
     "end_time": "2022-07-19T06:53:12.701519",
     "exception": false,
     "start_time": "2022-07-19T06:53:12.655622",
     "status": "completed"
    },
    "tags": []
   },
   "outputs": [
    {
     "name": "stdout",
     "output_type": "stream",
     "text": [
      "<class 'pandas.core.frame.DataFrame'>\n",
      "RangeIndex: 1000 entries, 0 to 999\n",
      "Data columns (total 8 columns):\n",
      " #   Column                       Non-Null Count  Dtype \n",
      "---  ------                       --------------  ----- \n",
      " 0   gender                       1000 non-null   object\n",
      " 1   race/ethnicity               1000 non-null   object\n",
      " 2   parental level of education  1000 non-null   object\n",
      " 3   lunch                        1000 non-null   object\n",
      " 4   test preparation course      1000 non-null   object\n",
      " 5   math score                   1000 non-null   int64 \n",
      " 6   reading score                1000 non-null   int64 \n",
      " 7   writing score                1000 non-null   int64 \n",
      "dtypes: int64(3), object(5)\n",
      "memory usage: 62.6+ KB\n"
     ]
    }
   ],
   "source": [
    "df.info()"
   ]
  },
  {
   "cell_type": "raw",
   "id": "e4db5749",
   "metadata": {
    "papermill": {
     "duration": 0.016205,
     "end_time": "2022-07-19T06:53:12.735335",
     "exception": false,
     "start_time": "2022-07-19T06:53:12.719130",
     "status": "completed"
    },
    "tags": []
   },
   "source": [
    "find null values"
   ]
  },
  {
   "cell_type": "code",
   "execution_count": 7,
   "id": "4db23a6d",
   "metadata": {
    "execution": {
     "iopub.execute_input": "2022-07-19T06:53:12.770274Z",
     "iopub.status.busy": "2022-07-19T06:53:12.769608Z",
     "iopub.status.idle": "2022-07-19T06:53:12.777344Z",
     "shell.execute_reply": "2022-07-19T06:53:12.776615Z"
    },
    "papermill": {
     "duration": 0.027609,
     "end_time": "2022-07-19T06:53:12.779408",
     "exception": false,
     "start_time": "2022-07-19T06:53:12.751799",
     "status": "completed"
    },
    "tags": []
   },
   "outputs": [
    {
     "data": {
      "text/plain": [
       "gender                         0\n",
       "race/ethnicity                 0\n",
       "parental level of education    0\n",
       "lunch                          0\n",
       "test preparation course        0\n",
       "math score                     0\n",
       "reading score                  0\n",
       "writing score                  0\n",
       "dtype: int64"
      ]
     },
     "execution_count": 7,
     "metadata": {},
     "output_type": "execute_result"
    }
   ],
   "source": [
    "df.isnull().sum()"
   ]
  },
  {
   "cell_type": "markdown",
   "id": "4c870319",
   "metadata": {
    "papermill": {
     "duration": 0.016792,
     "end_time": "2022-07-19T06:53:12.812790",
     "exception": false,
     "start_time": "2022-07-19T06:53:12.795998",
     "status": "completed"
    },
    "tags": []
   },
   "source": [
    "using missingno bar to see null values"
   ]
  },
  {
   "cell_type": "code",
   "execution_count": 8,
   "id": "c08ebf7c",
   "metadata": {
    "execution": {
     "iopub.execute_input": "2022-07-19T06:53:12.848127Z",
     "iopub.status.busy": "2022-07-19T06:53:12.847189Z",
     "iopub.status.idle": "2022-07-19T06:53:13.330546Z",
     "shell.execute_reply": "2022-07-19T06:53:13.329419Z"
    },
    "papermill": {
     "duration": 0.507599,
     "end_time": "2022-07-19T06:53:13.336996",
     "exception": false,
     "start_time": "2022-07-19T06:53:12.829397",
     "status": "completed"
    },
    "tags": []
   },
   "outputs": [
    {
     "data": {
      "image/png": "[encoded data removed]",
      "text/plain": [
       "<Figure size 1728x720 with 3 Axes>"
      ]
     },
     "metadata": {
      "needs_background": "light"
     },
     "output_type": "display_data"
    }
   ],
   "source": [
    "msn.bar(df)\n",
    "plt.show()"
   ]
  },
  {
   "cell_type": "markdown",
   "id": "f2fb2dbf",
   "metadata": {
    "papermill": {
     "duration": 0.017051,
     "end_time": "2022-07-19T06:53:13.384074",
     "exception": false,
     "start_time": "2022-07-19T06:53:13.367023",
     "status": "completed"
    },
    "tags": []
   },
   "source": [
    "As you see there are not null values and we don't need to drop column"
   ]
  },
  {
   "cell_type": "code",
   "execution_count": 9,
   "id": "5c5135da",
   "metadata": {
    "execution": {
     "iopub.execute_input": "2022-07-19T06:53:13.420955Z",
     "iopub.status.busy": "2022-07-19T06:53:13.420254Z",
     "iopub.status.idle": "2022-07-19T06:53:13.429499Z",
     "shell.execute_reply": "2022-07-19T06:53:13.428766Z"
    },
    "papermill": {
     "duration": 0.030107,
     "end_time": "2022-07-19T06:53:13.431439",
     "exception": false,
     "start_time": "2022-07-19T06:53:13.401332",
     "status": "completed"
    },
    "tags": []
   },
   "outputs": [
    {
     "data": {
      "text/plain": [
       "gender                         0.0\n",
       "race/ethnicity                 0.0\n",
       "parental level of education    0.0\n",
       "lunch                          0.0\n",
       "test preparation course        0.0\n",
       "math score                     0.0\n",
       "reading score                  0.0\n",
       "writing score                  0.0\n",
       "dtype: float64"
      ]
     },
     "execution_count": 9,
     "metadata": {},
     "output_type": "execute_result"
    }
   ],
   "source": [
    "df.isnull().sum()/df.shape[0]"
   ]
  },
  {
   "cell_type": "code",
   "execution_count": 10,
   "id": "898c81a7",
   "metadata": {
    "execution": {
     "iopub.execute_input": "2022-07-19T06:53:13.468030Z",
     "iopub.status.busy": "2022-07-19T06:53:13.467356Z",
     "iopub.status.idle": "2022-07-19T06:53:13.478791Z",
     "shell.execute_reply": "2022-07-19T06:53:13.478009Z"
    },
    "papermill": {
     "duration": 0.031939,
     "end_time": "2022-07-19T06:53:13.480715",
     "exception": false,
     "start_time": "2022-07-19T06:53:13.448776",
     "status": "completed"
    },
    "tags": []
   },
   "outputs": [
    {
     "data": {
      "text/html": [
       "<div>\n",
       "<style scoped>\n",
       "    .dataframe tbody tr th:only-of-type {\n",
       "        vertical-align: middle;\n",
       "    }\n",
       "\n",
       "    .dataframe tbody tr th {\n",
       "        vertical-align: top;\n",
       "    }\n",
       "\n",
       "    .dataframe thead th {\n",
       "        text-align: right;\n",
       "    }\n",
       "</style>\n",
       "<table border=\"1\" class=\"dataframe\">\n",
       "  <thead>\n",
       "    <tr style=\"text-align: right;\">\n",
       "      <th></th>\n",
       "      <th>gender</th>\n",
       "      <th>race/ethnicity</th>\n",
       "      <th>parental level of education</th>\n",
       "      <th>lunch</th>\n",
       "      <th>test preparation course</th>\n",
       "      <th>math score</th>\n",
       "      <th>reading score</th>\n",
       "      <th>writing score</th>\n",
       "    </tr>\n",
       "  </thead>\n",
       "  <tbody>\n",
       "    <tr>\n",
       "      <th>0</th>\n",
       "      <td>female</td>\n",
       "      <td>group B</td>\n",
       "      <td>bachelor's degree</td>\n",
       "      <td>standard</td>\n",
       "      <td>none</td>\n",
       "      <td>72</td>\n",
       "      <td>72</td>\n",
       "      <td>74</td>\n",
       "    </tr>\n",
       "    <tr>\n",
       "      <th>1</th>\n",
       "      <td>female</td>\n",
       "      <td>group C</td>\n",
       "      <td>some college</td>\n",
       "      <td>standard</td>\n",
       "      <td>completed</td>\n",
       "      <td>69</td>\n",
       "      <td>90</td>\n",
       "      <td>88</td>\n",
       "    </tr>\n",
       "    <tr>\n",
       "      <th>2</th>\n",
       "      <td>female</td>\n",
       "      <td>group B</td>\n",
       "      <td>master's degree</td>\n",
       "      <td>standard</td>\n",
       "      <td>none</td>\n",
       "      <td>90</td>\n",
       "      <td>95</td>\n",
       "      <td>93</td>\n",
       "    </tr>\n",
       "    <tr>\n",
       "      <th>3</th>\n",
       "      <td>male</td>\n",
       "      <td>group A</td>\n",
       "      <td>associate's degree</td>\n",
       "      <td>free/reduced</td>\n",
       "      <td>none</td>\n",
       "      <td>47</td>\n",
       "      <td>57</td>\n",
       "      <td>44</td>\n",
       "    </tr>\n",
       "    <tr>\n",
       "      <th>4</th>\n",
       "      <td>male</td>\n",
       "      <td>group C</td>\n",
       "      <td>some college</td>\n",
       "      <td>standard</td>\n",
       "      <td>none</td>\n",
       "      <td>76</td>\n",
       "      <td>78</td>\n",
       "      <td>75</td>\n",
       "    </tr>\n",
       "  </tbody>\n",
       "</table>\n",
       "</div>"
      ],
      "text/plain": [
       "   gender race/ethnicity parental level of education         lunch  \\\n",
       "0  female        group B           bachelor's degree      standard   \n",
       "1  female        group C                some college      standard   \n",
       "2  female        group B             master's degree      standard   \n",
       "3    male        group A          associate's degree  free/reduced   \n",
       "4    male        group C                some college      standard   \n",
       "\n",
       "  test preparation course  math score  reading score  writing score  \n",
       "0                    none          72             72             74  \n",
       "1               completed          69             90             88  \n",
       "2                    none          90             95             93  \n",
       "3                    none          47             57             44  \n",
       "4                    none          76             78             75  "
      ]
     },
     "execution_count": 10,
     "metadata": {},
     "output_type": "execute_result"
    }
   ],
   "source": [
    "df.head()"
   ]
  },
  {
   "cell_type": "raw",
   "id": "a6250da2",
   "metadata": {
    "papermill": {
     "duration": 0.01733,
     "end_time": "2022-07-19T06:53:13.515461",
     "exception": false,
     "start_time": "2022-07-19T06:53:13.498131",
     "status": "completed"
    },
    "tags": []
   },
   "source": [
    "gender values"
   ]
  },
  {
   "cell_type": "code",
   "execution_count": 11,
   "id": "c661ea90",
   "metadata": {
    "execution": {
     "iopub.execute_input": "2022-07-19T06:53:13.552693Z",
     "iopub.status.busy": "2022-07-19T06:53:13.552035Z",
     "iopub.status.idle": "2022-07-19T06:53:13.558793Z",
     "shell.execute_reply": "2022-07-19T06:53:13.558033Z"
    },
    "papermill": {
     "duration": 0.027649,
     "end_time": "2022-07-19T06:53:13.560657",
     "exception": false,
     "start_time": "2022-07-19T06:53:13.533008",
     "status": "completed"
    },
    "tags": []
   },
   "outputs": [
    {
     "data": {
      "text/plain": [
       "female    518\n",
       "male      482\n",
       "Name: gender, dtype: int64"
      ]
     },
     "execution_count": 11,
     "metadata": {},
     "output_type": "execute_result"
    }
   ],
   "source": [
    "df['gender'].value_counts()"
   ]
  },
  {
   "cell_type": "code",
   "execution_count": 12,
   "id": "fe162d16",
   "metadata": {
    "execution": {
     "iopub.execute_input": "2022-07-19T06:53:13.598221Z",
     "iopub.status.busy": "2022-07-19T06:53:13.597178Z",
     "iopub.status.idle": "2022-07-19T06:53:13.604711Z",
     "shell.execute_reply": "2022-07-19T06:53:13.603651Z"
    },
    "papermill": {
     "duration": 0.028298,
     "end_time": "2022-07-19T06:53:13.606683",
     "exception": false,
     "start_time": "2022-07-19T06:53:13.578385",
     "status": "completed"
    },
    "tags": []
   },
   "outputs": [
    {
     "data": {
      "text/plain": [
       "group C    319\n",
       "group D    262\n",
       "group B    190\n",
       "group E    140\n",
       "group A     89\n",
       "Name: race/ethnicity, dtype: int64"
      ]
     },
     "execution_count": 12,
     "metadata": {},
     "output_type": "execute_result"
    }
   ],
   "source": [
    "df['race/ethnicity'].value_counts()"
   ]
  },
  {
   "cell_type": "code",
   "execution_count": 13,
   "id": "0548aa8d",
   "metadata": {
    "execution": {
     "iopub.execute_input": "2022-07-19T06:53:13.644800Z",
     "iopub.status.busy": "2022-07-19T06:53:13.644140Z",
     "iopub.status.idle": "2022-07-19T06:53:13.651397Z",
     "shell.execute_reply": "2022-07-19T06:53:13.650664Z"
    },
    "papermill": {
     "duration": 0.028396,
     "end_time": "2022-07-19T06:53:13.653245",
     "exception": false,
     "start_time": "2022-07-19T06:53:13.624849",
     "status": "completed"
    },
    "tags": []
   },
   "outputs": [
    {
     "data": {
      "text/plain": [
       "none         642\n",
       "completed    358\n",
       "Name: test preparation course, dtype: int64"
      ]
     },
     "execution_count": 13,
     "metadata": {},
     "output_type": "execute_result"
    }
   ],
   "source": [
    "df['test preparation course'].value_counts()"
   ]
  },
  {
   "cell_type": "raw",
   "id": "945f2914",
   "metadata": {
    "papermill": {
     "duration": 0.017684,
     "end_time": "2022-07-19T06:53:13.688904",
     "exception": false,
     "start_time": "2022-07-19T06:53:13.671220",
     "status": "completed"
    },
    "tags": []
   },
   "source": [
    "column unique values"
   ]
  },
  {
   "cell_type": "code",
   "execution_count": 14,
   "id": "7492dce7",
   "metadata": {
    "execution": {
     "iopub.execute_input": "2022-07-19T06:53:13.727199Z",
     "iopub.status.busy": "2022-07-19T06:53:13.726493Z",
     "iopub.status.idle": "2022-07-19T06:53:13.734885Z",
     "shell.execute_reply": "2022-07-19T06:53:13.734047Z"
    },
    "papermill": {
     "duration": 0.030124,
     "end_time": "2022-07-19T06:53:13.737188",
     "exception": false,
     "start_time": "2022-07-19T06:53:13.707064",
     "status": "completed"
    },
    "tags": []
   },
   "outputs": [
    {
     "data": {
      "text/plain": [
       "gender                          2\n",
       "race/ethnicity                  5\n",
       "parental level of education     6\n",
       "lunch                           2\n",
       "test preparation course         2\n",
       "math score                     81\n",
       "reading score                  72\n",
       "writing score                  77\n",
       "dtype: int64"
      ]
     },
     "execution_count": 14,
     "metadata": {},
     "output_type": "execute_result"
    }
   ],
   "source": [
    "df.nunique()"
   ]
  },
  {
   "cell_type": "raw",
   "id": "22860b8f",
   "metadata": {
    "papermill": {
     "duration": 0.017882,
     "end_time": "2022-07-19T06:53:13.774008",
     "exception": false,
     "start_time": "2022-07-19T06:53:13.756126",
     "status": "completed"
    },
    "tags": []
   },
   "source": [
    "describing mean,std,min,max"
   ]
  },
  {
   "cell_type": "code",
   "execution_count": 15,
   "id": "d28e79df",
   "metadata": {
    "execution": {
     "iopub.execute_input": "2022-07-19T06:53:13.815025Z",
     "iopub.status.busy": "2022-07-19T06:53:13.814180Z",
     "iopub.status.idle": "2022-07-19T06:53:13.838232Z",
     "shell.execute_reply": "2022-07-19T06:53:13.837427Z"
    },
    "papermill": {
     "duration": 0.047642,
     "end_time": "2022-07-19T06:53:13.840325",
     "exception": false,
     "start_time": "2022-07-19T06:53:13.792683",
     "status": "completed"
    },
    "tags": []
   },
   "outputs": [
    {
     "data": {
      "text/html": [
       "<div>\n",
       "<style scoped>\n",
       "    .dataframe tbody tr th:only-of-type {\n",
       "        vertical-align: middle;\n",
       "    }\n",
       "\n",
       "    .dataframe tbody tr th {\n",
       "        vertical-align: top;\n",
       "    }\n",
       "\n",
       "    .dataframe thead th {\n",
       "        text-align: right;\n",
       "    }\n",
       "</style>\n",
       "<table border=\"1\" class=\"dataframe\">\n",
       "  <thead>\n",
       "    <tr style=\"text-align: right;\">\n",
       "      <th></th>\n",
       "      <th>count</th>\n",
       "      <th>mean</th>\n",
       "      <th>std</th>\n",
       "      <th>min</th>\n",
       "      <th>25%</th>\n",
       "      <th>50%</th>\n",
       "      <th>75%</th>\n",
       "      <th>max</th>\n",
       "    </tr>\n",
       "  </thead>\n",
       "  <tbody>\n",
       "    <tr>\n",
       "      <th>math score</th>\n",
       "      <td>1000.0</td>\n",
       "      <td>66.089</td>\n",
       "      <td>15.163080</td>\n",
       "      <td>0.0</td>\n",
       "      <td>57.00</td>\n",
       "      <td>66.0</td>\n",
       "      <td>77.0</td>\n",
       "      <td>100.0</td>\n",
       "    </tr>\n",
       "    <tr>\n",
       "      <th>reading score</th>\n",
       "      <td>1000.0</td>\n",
       "      <td>69.169</td>\n",
       "      <td>14.600192</td>\n",
       "      <td>17.0</td>\n",
       "      <td>59.00</td>\n",
       "      <td>70.0</td>\n",
       "      <td>79.0</td>\n",
       "      <td>100.0</td>\n",
       "    </tr>\n",
       "    <tr>\n",
       "      <th>writing score</th>\n",
       "      <td>1000.0</td>\n",
       "      <td>68.054</td>\n",
       "      <td>15.195657</td>\n",
       "      <td>10.0</td>\n",
       "      <td>57.75</td>\n",
       "      <td>69.0</td>\n",
       "      <td>79.0</td>\n",
       "      <td>100.0</td>\n",
       "    </tr>\n",
       "  </tbody>\n",
       "</table>\n",
       "</div>"
      ],
      "text/plain": [
       "                count    mean        std   min    25%   50%   75%    max\n",
       "math score     1000.0  66.089  15.163080   0.0  57.00  66.0  77.0  100.0\n",
       "reading score  1000.0  69.169  14.600192  17.0  59.00  70.0  79.0  100.0\n",
       "writing score  1000.0  68.054  15.195657  10.0  57.75  69.0  79.0  100.0"
      ]
     },
     "execution_count": 15,
     "metadata": {},
     "output_type": "execute_result"
    }
   ],
   "source": [
    "df.describe().T"
   ]
  },
  {
   "cell_type": "code",
   "execution_count": 16,
   "id": "e43c9e2b",
   "metadata": {
    "execution": {
     "iopub.execute_input": "2022-07-19T06:53:13.880282Z",
     "iopub.status.busy": "2022-07-19T06:53:13.879720Z",
     "iopub.status.idle": "2022-07-19T06:53:13.891158Z",
     "shell.execute_reply": "2022-07-19T06:53:13.890428Z"
    },
    "papermill": {
     "duration": 0.033689,
     "end_time": "2022-07-19T06:53:13.893455",
     "exception": false,
     "start_time": "2022-07-19T06:53:13.859766",
     "status": "completed"
    },
    "tags": []
   },
   "outputs": [
    {
     "data": {
      "text/html": [
       "<div>\n",
       "<style scoped>\n",
       "    .dataframe tbody tr th:only-of-type {\n",
       "        vertical-align: middle;\n",
       "    }\n",
       "\n",
       "    .dataframe tbody tr th {\n",
       "        vertical-align: top;\n",
       "    }\n",
       "\n",
       "    .dataframe thead th {\n",
       "        text-align: right;\n",
       "    }\n",
       "</style>\n",
       "<table border=\"1\" class=\"dataframe\">\n",
       "  <thead>\n",
       "    <tr style=\"text-align: right;\">\n",
       "      <th></th>\n",
       "      <th>gender</th>\n",
       "      <th>race/ethnicity</th>\n",
       "      <th>parental level of education</th>\n",
       "      <th>lunch</th>\n",
       "      <th>test preparation course</th>\n",
       "      <th>math score</th>\n",
       "      <th>reading score</th>\n",
       "      <th>writing score</th>\n",
       "    </tr>\n",
       "  </thead>\n",
       "  <tbody>\n",
       "    <tr>\n",
       "      <th>0</th>\n",
       "      <td>female</td>\n",
       "      <td>group B</td>\n",
       "      <td>bachelor's degree</td>\n",
       "      <td>standard</td>\n",
       "      <td>none</td>\n",
       "      <td>72</td>\n",
       "      <td>72</td>\n",
       "      <td>74</td>\n",
       "    </tr>\n",
       "    <tr>\n",
       "      <th>1</th>\n",
       "      <td>female</td>\n",
       "      <td>group C</td>\n",
       "      <td>some college</td>\n",
       "      <td>standard</td>\n",
       "      <td>completed</td>\n",
       "      <td>69</td>\n",
       "      <td>90</td>\n",
       "      <td>88</td>\n",
       "    </tr>\n",
       "    <tr>\n",
       "      <th>2</th>\n",
       "      <td>female</td>\n",
       "      <td>group B</td>\n",
       "      <td>master's degree</td>\n",
       "      <td>standard</td>\n",
       "      <td>none</td>\n",
       "      <td>90</td>\n",
       "      <td>95</td>\n",
       "      <td>93</td>\n",
       "    </tr>\n",
       "    <tr>\n",
       "      <th>3</th>\n",
       "      <td>male</td>\n",
       "      <td>group A</td>\n",
       "      <td>associate's degree</td>\n",
       "      <td>free/reduced</td>\n",
       "      <td>none</td>\n",
       "      <td>47</td>\n",
       "      <td>57</td>\n",
       "      <td>44</td>\n",
       "    </tr>\n",
       "    <tr>\n",
       "      <th>4</th>\n",
       "      <td>male</td>\n",
       "      <td>group C</td>\n",
       "      <td>some college</td>\n",
       "      <td>standard</td>\n",
       "      <td>none</td>\n",
       "      <td>76</td>\n",
       "      <td>78</td>\n",
       "      <td>75</td>\n",
       "    </tr>\n",
       "  </tbody>\n",
       "</table>\n",
       "</div>"
      ],
      "text/plain": [
       "   gender race/ethnicity parental level of education         lunch  \\\n",
       "0  female        group B           bachelor's degree      standard   \n",
       "1  female        group C                some college      standard   \n",
       "2  female        group B             master's degree      standard   \n",
       "3    male        group A          associate's degree  free/reduced   \n",
       "4    male        group C                some college      standard   \n",
       "\n",
       "  test preparation course  math score  reading score  writing score  \n",
       "0                    none          72             72             74  \n",
       "1               completed          69             90             88  \n",
       "2                    none          90             95             93  \n",
       "3                    none          47             57             44  \n",
       "4                    none          76             78             75  "
      ]
     },
     "execution_count": 16,
     "metadata": {},
     "output_type": "execute_result"
    }
   ],
   "source": [
    "df.head()"
   ]
  },
  {
   "cell_type": "markdown",
   "id": "37104b8d",
   "metadata": {
    "papermill": {
     "duration": 0.01918,
     "end_time": "2022-07-19T06:53:13.931621",
     "exception": false,
     "start_time": "2022-07-19T06:53:13.912441",
     "status": "completed"
    },
    "tags": []
   },
   "source": [
    "# Data visualization"
   ]
  },
  {
   "cell_type": "markdown",
   "id": "a3482c40",
   "metadata": {
    "papermill": {
     "duration": 0.017853,
     "end_time": "2022-07-19T06:53:13.967800",
     "exception": false,
     "start_time": "2022-07-19T06:53:13.949947",
     "status": "completed"
    },
    "tags": []
   },
   "source": [
    "# Race\\ethnicity values"
   ]
  },
  {
   "cell_type": "code",
   "execution_count": 17,
   "id": "8ea94fa8",
   "metadata": {
    "execution": {
     "iopub.execute_input": "2022-07-19T06:53:14.006942Z",
     "iopub.status.busy": "2022-07-19T06:53:14.006538Z",
     "iopub.status.idle": "2022-07-19T06:53:14.199609Z",
     "shell.execute_reply": "2022-07-19T06:53:14.198384Z"
    },
    "papermill": {
     "duration": 0.214843,
     "end_time": "2022-07-19T06:53:14.201997",
     "exception": false,
     "start_time": "2022-07-19T06:53:13.987154",
     "status": "completed"
    },
    "tags": []
   },
   "outputs": [
    {
     "data": {
      "image/png": "[encoded data removed]",
      "text/plain": [
       "<Figure size 864x648 with 1 Axes>"
      ]
     },
     "metadata": {
      "needs_background": "light"
     },
     "output_type": "display_data"
    }
   ],
   "source": [
    "sns.set_palette('bright')\n",
    "plt.figure(figsize=(12,9))\n",
    "sns.countplot(df['race/ethnicity'])\n",
    "plt.title('Groups and values')\n",
    "plt.show()"
   ]
  },
  {
   "cell_type": "code",
   "execution_count": 18,
   "id": "04922cf3",
   "metadata": {
    "execution": {
     "iopub.execute_input": "2022-07-19T06:53:14.240789Z",
     "iopub.status.busy": "2022-07-19T06:53:14.240377Z",
     "iopub.status.idle": "2022-07-19T06:53:14.249383Z",
     "shell.execute_reply": "2022-07-19T06:53:14.248641Z"
    },
    "papermill": {
     "duration": 0.030552,
     "end_time": "2022-07-19T06:53:14.251252",
     "exception": false,
     "start_time": "2022-07-19T06:53:14.220700",
     "status": "completed"
    },
    "tags": []
   },
   "outputs": [
    {
     "data": {
      "text/plain": [
       "standard        645\n",
       "free/reduced    355\n",
       "Name: lunch, dtype: int64"
      ]
     },
     "execution_count": 18,
     "metadata": {},
     "output_type": "execute_result"
    }
   ],
   "source": [
    "df['lunch'].value_counts()"
   ]
  },
  {
   "cell_type": "markdown",
   "id": "5eb6a477",
   "metadata": {
    "papermill": {
     "duration": 0.018351,
     "end_time": "2022-07-19T06:53:14.288430",
     "exception": false,
     "start_time": "2022-07-19T06:53:14.270079",
     "status": "completed"
    },
    "tags": []
   },
   "source": [
    "lunch values according to gender values"
   ]
  },
  {
   "cell_type": "markdown",
   "id": "1617199b",
   "metadata": {
    "papermill": {
     "duration": 0.018303,
     "end_time": "2022-07-19T06:53:14.325514",
     "exception": false,
     "start_time": "2022-07-19T06:53:14.307211",
     "status": "completed"
    },
    "tags": []
   },
   "source": [
    "we can set palette using seaborn like that:  sns.set_palette('pastel')"
   ]
  },
  {
   "cell_type": "code",
   "execution_count": 19,
   "id": "8aace8b8",
   "metadata": {
    "execution": {
     "iopub.execute_input": "2022-07-19T06:53:14.365744Z",
     "iopub.status.busy": "2022-07-19T06:53:14.365110Z",
     "iopub.status.idle": "2022-07-19T06:53:14.558158Z",
     "shell.execute_reply": "2022-07-19T06:53:14.557068Z"
    },
    "papermill": {
     "duration": 0.21529,
     "end_time": "2022-07-19T06:53:14.560455",
     "exception": false,
     "start_time": "2022-07-19T06:53:14.345165",
     "status": "completed"
    },
    "tags": []
   },
   "outputs": [
    {
     "data": {
      "image/png": "[encoded data removed]",
      "text/plain": [
       "<Figure size 864x648 with 1 Axes>"
      ]
     },
     "metadata": {
      "needs_background": "light"
     },
     "output_type": "display_data"
    }
   ],
   "source": [
    "sns.set_palette('pastel')\n",
    "plt.figure(figsize=(12,9))\n",
    "sns.countplot(x='gender', hue='lunch', data=df)\n",
    "plt.title('lunch values ')\n",
    "plt.show()"
   ]
  },
  {
   "cell_type": "markdown",
   "id": "03301c83",
   "metadata": {
    "papermill": {
     "duration": 0.018775,
     "end_time": "2022-07-19T06:53:14.598306",
     "exception": false,
     "start_time": "2022-07-19T06:53:14.579531",
     "status": "completed"
    },
    "tags": []
   },
   "source": [
    "Let's see what we can do with data "
   ]
  },
  {
   "cell_type": "code",
   "execution_count": 20,
   "id": "85523715",
   "metadata": {
    "execution": {
     "iopub.execute_input": "2022-07-19T06:53:14.638541Z",
     "iopub.status.busy": "2022-07-19T06:53:14.637857Z",
     "iopub.status.idle": "2022-07-19T06:53:14.649850Z",
     "shell.execute_reply": "2022-07-19T06:53:14.648870Z"
    },
    "papermill": {
     "duration": 0.034981,
     "end_time": "2022-07-19T06:53:14.652329",
     "exception": false,
     "start_time": "2022-07-19T06:53:14.617348",
     "status": "completed"
    },
    "tags": []
   },
   "outputs": [
    {
     "data": {
      "text/html": [
       "<div>\n",
       "<style scoped>\n",
       "    .dataframe tbody tr th:only-of-type {\n",
       "        vertical-align: middle;\n",
       "    }\n",
       "\n",
       "    .dataframe tbody tr th {\n",
       "        vertical-align: top;\n",
       "    }\n",
       "\n",
       "    .dataframe thead th {\n",
       "        text-align: right;\n",
       "    }\n",
       "</style>\n",
       "<table border=\"1\" class=\"dataframe\">\n",
       "  <thead>\n",
       "    <tr style=\"text-align: right;\">\n",
       "      <th></th>\n",
       "      <th>gender</th>\n",
       "      <th>race/ethnicity</th>\n",
       "      <th>parental level of education</th>\n",
       "      <th>lunch</th>\n",
       "      <th>test preparation course</th>\n",
       "      <th>math score</th>\n",
       "      <th>reading score</th>\n",
       "      <th>writing score</th>\n",
       "    </tr>\n",
       "  </thead>\n",
       "  <tbody>\n",
       "    <tr>\n",
       "      <th>0</th>\n",
       "      <td>female</td>\n",
       "      <td>group B</td>\n",
       "      <td>bachelor's degree</td>\n",
       "      <td>standard</td>\n",
       "      <td>none</td>\n",
       "      <td>72</td>\n",
       "      <td>72</td>\n",
       "      <td>74</td>\n",
       "    </tr>\n",
       "    <tr>\n",
       "      <th>1</th>\n",
       "      <td>female</td>\n",
       "      <td>group C</td>\n",
       "      <td>some college</td>\n",
       "      <td>standard</td>\n",
       "      <td>completed</td>\n",
       "      <td>69</td>\n",
       "      <td>90</td>\n",
       "      <td>88</td>\n",
       "    </tr>\n",
       "    <tr>\n",
       "      <th>2</th>\n",
       "      <td>female</td>\n",
       "      <td>group B</td>\n",
       "      <td>master's degree</td>\n",
       "      <td>standard</td>\n",
       "      <td>none</td>\n",
       "      <td>90</td>\n",
       "      <td>95</td>\n",
       "      <td>93</td>\n",
       "    </tr>\n",
       "    <tr>\n",
       "      <th>3</th>\n",
       "      <td>male</td>\n",
       "      <td>group A</td>\n",
       "      <td>associate's degree</td>\n",
       "      <td>free/reduced</td>\n",
       "      <td>none</td>\n",
       "      <td>47</td>\n",
       "      <td>57</td>\n",
       "      <td>44</td>\n",
       "    </tr>\n",
       "    <tr>\n",
       "      <th>4</th>\n",
       "      <td>male</td>\n",
       "      <td>group C</td>\n",
       "      <td>some college</td>\n",
       "      <td>standard</td>\n",
       "      <td>none</td>\n",
       "      <td>76</td>\n",
       "      <td>78</td>\n",
       "      <td>75</td>\n",
       "    </tr>\n",
       "  </tbody>\n",
       "</table>\n",
       "</div>"
      ],
      "text/plain": [
       "   gender race/ethnicity parental level of education         lunch  \\\n",
       "0  female        group B           bachelor's degree      standard   \n",
       "1  female        group C                some college      standard   \n",
       "2  female        group B             master's degree      standard   \n",
       "3    male        group A          associate's degree  free/reduced   \n",
       "4    male        group C                some college      standard   \n",
       "\n",
       "  test preparation course  math score  reading score  writing score  \n",
       "0                    none          72             72             74  \n",
       "1               completed          69             90             88  \n",
       "2                    none          90             95             93  \n",
       "3                    none          47             57             44  \n",
       "4                    none          76             78             75  "
      ]
     },
     "execution_count": 20,
     "metadata": {},
     "output_type": "execute_result"
    }
   ],
   "source": [
    "df.head()"
   ]
  },
  {
   "cell_type": "code",
   "execution_count": 21,
   "id": "f516074b",
   "metadata": {
    "execution": {
     "iopub.execute_input": "2022-07-19T06:53:14.694421Z",
     "iopub.status.busy": "2022-07-19T06:53:14.694002Z",
     "iopub.status.idle": "2022-07-19T06:53:14.702790Z",
     "shell.execute_reply": "2022-07-19T06:53:14.701634Z"
    },
    "papermill": {
     "duration": 0.032602,
     "end_time": "2022-07-19T06:53:14.705042",
     "exception": false,
     "start_time": "2022-07-19T06:53:14.672440",
     "status": "completed"
    },
    "tags": []
   },
   "outputs": [
    {
     "data": {
      "text/plain": [
       "some college          226\n",
       "associate's degree    222\n",
       "high school           196\n",
       "some high school      179\n",
       "bachelor's degree     118\n",
       "master's degree        59\n",
       "Name: parental level of education, dtype: int64"
      ]
     },
     "execution_count": 21,
     "metadata": {},
     "output_type": "execute_result"
    }
   ],
   "source": [
    "df['parental level of education'].value_counts()"
   ]
  },
  {
   "cell_type": "markdown",
   "id": "b0ba08ad",
   "metadata": {
    "papermill": {
     "duration": 0.019014,
     "end_time": "2022-07-19T06:53:14.743939",
     "exception": false,
     "start_time": "2022-07-19T06:53:14.724925",
     "status": "completed"
    },
    "tags": []
   },
   "source": [
    "# Educational level values"
   ]
  },
  {
   "cell_type": "code",
   "execution_count": 22,
   "id": "f2ed3ca9",
   "metadata": {
    "execution": {
     "iopub.execute_input": "2022-07-19T06:53:14.784792Z",
     "iopub.status.busy": "2022-07-19T06:53:14.784398Z",
     "iopub.status.idle": "2022-07-19T06:53:14.985962Z",
     "shell.execute_reply": "2022-07-19T06:53:14.984663Z"
    },
    "papermill": {
     "duration": 0.225292,
     "end_time": "2022-07-19T06:53:14.988508",
     "exception": false,
     "start_time": "2022-07-19T06:53:14.763216",
     "status": "completed"
    },
    "tags": []
   },
   "outputs": [
    {
     "data": {
      "image/png": "[encoded data removed]",
      "text/plain": [
       "<Figure size 720x432 with 1 Axes>"
      ]
     },
     "metadata": {
      "needs_background": "light"
     },
     "output_type": "display_data"
    }
   ],
   "source": [
    "plt.figure(figsize=(10,6))\n",
    "df['parental level of education'].value_counts().sort_values(ascending=False).plot.bar(colormap='Paired')\n",
    "plt.title('Educational level values')\n",
    "plt.xlabel('educational level')\n",
    "plt.ylabel('count')\n",
    "\n",
    "plt.show()"
   ]
  },
  {
   "cell_type": "code",
   "execution_count": 23,
   "id": "945f4f72",
   "metadata": {
    "execution": {
     "iopub.execute_input": "2022-07-19T06:53:15.030542Z",
     "iopub.status.busy": "2022-07-19T06:53:15.029415Z",
     "iopub.status.idle": "2022-07-19T06:53:15.042017Z",
     "shell.execute_reply": "2022-07-19T06:53:15.041039Z"
    },
    "papermill": {
     "duration": 0.035251,
     "end_time": "2022-07-19T06:53:15.044073",
     "exception": false,
     "start_time": "2022-07-19T06:53:15.008822",
     "status": "completed"
    },
    "scrolled": true,
    "tags": []
   },
   "outputs": [
    {
     "data": {
      "text/html": [
       "<div>\n",
       "<style scoped>\n",
       "    .dataframe tbody tr th:only-of-type {\n",
       "        vertical-align: middle;\n",
       "    }\n",
       "\n",
       "    .dataframe tbody tr th {\n",
       "        vertical-align: top;\n",
       "    }\n",
       "\n",
       "    .dataframe thead th {\n",
       "        text-align: right;\n",
       "    }\n",
       "</style>\n",
       "<table border=\"1\" class=\"dataframe\">\n",
       "  <thead>\n",
       "    <tr style=\"text-align: right;\">\n",
       "      <th></th>\n",
       "      <th>gender</th>\n",
       "      <th>race/ethnicity</th>\n",
       "      <th>parental level of education</th>\n",
       "      <th>lunch</th>\n",
       "      <th>test preparation course</th>\n",
       "      <th>math score</th>\n",
       "      <th>reading score</th>\n",
       "      <th>writing score</th>\n",
       "    </tr>\n",
       "  </thead>\n",
       "  <tbody>\n",
       "    <tr>\n",
       "      <th>0</th>\n",
       "      <td>female</td>\n",
       "      <td>group B</td>\n",
       "      <td>bachelor's degree</td>\n",
       "      <td>standard</td>\n",
       "      <td>none</td>\n",
       "      <td>72</td>\n",
       "      <td>72</td>\n",
       "      <td>74</td>\n",
       "    </tr>\n",
       "    <tr>\n",
       "      <th>1</th>\n",
       "      <td>female</td>\n",
       "      <td>group C</td>\n",
       "      <td>some college</td>\n",
       "      <td>standard</td>\n",
       "      <td>completed</td>\n",
       "      <td>69</td>\n",
       "      <td>90</td>\n",
       "      <td>88</td>\n",
       "    </tr>\n",
       "    <tr>\n",
       "      <th>2</th>\n",
       "      <td>female</td>\n",
       "      <td>group B</td>\n",
       "      <td>master's degree</td>\n",
       "      <td>standard</td>\n",
       "      <td>none</td>\n",
       "      <td>90</td>\n",
       "      <td>95</td>\n",
       "      <td>93</td>\n",
       "    </tr>\n",
       "    <tr>\n",
       "      <th>3</th>\n",
       "      <td>male</td>\n",
       "      <td>group A</td>\n",
       "      <td>associate's degree</td>\n",
       "      <td>free/reduced</td>\n",
       "      <td>none</td>\n",
       "      <td>47</td>\n",
       "      <td>57</td>\n",
       "      <td>44</td>\n",
       "    </tr>\n",
       "    <tr>\n",
       "      <th>4</th>\n",
       "      <td>male</td>\n",
       "      <td>group C</td>\n",
       "      <td>some college</td>\n",
       "      <td>standard</td>\n",
       "      <td>none</td>\n",
       "      <td>76</td>\n",
       "      <td>78</td>\n",
       "      <td>75</td>\n",
       "    </tr>\n",
       "  </tbody>\n",
       "</table>\n",
       "</div>"
      ],
      "text/plain": [
       "   gender race/ethnicity parental level of education         lunch  \\\n",
       "0  female        group B           bachelor's degree      standard   \n",
       "1  female        group C                some college      standard   \n",
       "2  female        group B             master's degree      standard   \n",
       "3    male        group A          associate's degree  free/reduced   \n",
       "4    male        group C                some college      standard   \n",
       "\n",
       "  test preparation course  math score  reading score  writing score  \n",
       "0                    none          72             72             74  \n",
       "1               completed          69             90             88  \n",
       "2                    none          90             95             93  \n",
       "3                    none          47             57             44  \n",
       "4                    none          76             78             75  "
      ]
     },
     "execution_count": 23,
     "metadata": {},
     "output_type": "execute_result"
    }
   ],
   "source": [
    "df.head()"
   ]
  },
  {
   "cell_type": "markdown",
   "id": "ec19f75d",
   "metadata": {
    "papermill": {
     "duration": 0.020202,
     "end_time": "2022-07-19T06:53:15.084015",
     "exception": false,
     "start_time": "2022-07-19T06:53:15.063813",
     "status": "completed"
    },
    "tags": []
   },
   "source": [
    "# math scores of groups which contained race/ethnicity"
   ]
  },
  {
   "cell_type": "code",
   "execution_count": 24,
   "id": "c431d229",
   "metadata": {
    "execution": {
     "iopub.execute_input": "2022-07-19T06:53:15.127364Z",
     "iopub.status.busy": "2022-07-19T06:53:15.126191Z",
     "iopub.status.idle": "2022-07-19T06:53:15.829677Z",
     "shell.execute_reply": "2022-07-19T06:53:15.828762Z"
    },
    "papermill": {
     "duration": 0.727069,
     "end_time": "2022-07-19T06:53:15.831758",
     "exception": false,
     "start_time": "2022-07-19T06:53:15.104689",
     "status": "completed"
    },
    "tags": []
   },
   "outputs": [
    {
     "data": {
      "image/png": "[encoded data removed]",
      "text/plain": [
       "<Figure size 864x648 with 1 Axes>"
      ]
     },
     "metadata": {
      "needs_background": "light"
     },
     "output_type": "display_data"
    }
   ],
   "source": [
    "sns.set_palette('bright') \n",
    "plt.figure(figsize=(12,9))\n",
    "sns.histplot(x='math score', data=df, kde=True, hue='race/ethnicity')\n",
    "plt.title('math scores of groups')\n",
    "plt.show()"
   ]
  },
  {
   "cell_type": "code",
   "execution_count": 25,
   "id": "bd2e03e4",
   "metadata": {
    "execution": {
     "iopub.execute_input": "2022-07-19T06:53:15.876608Z",
     "iopub.status.busy": "2022-07-19T06:53:15.875975Z",
     "iopub.status.idle": "2022-07-19T06:53:15.888215Z",
     "shell.execute_reply": "2022-07-19T06:53:15.887398Z"
    },
    "papermill": {
     "duration": 0.036834,
     "end_time": "2022-07-19T06:53:15.890313",
     "exception": false,
     "start_time": "2022-07-19T06:53:15.853479",
     "status": "completed"
    },
    "tags": []
   },
   "outputs": [
    {
     "data": {
      "text/html": [
       "<div>\n",
       "<style scoped>\n",
       "    .dataframe tbody tr th:only-of-type {\n",
       "        vertical-align: middle;\n",
       "    }\n",
       "\n",
       "    .dataframe tbody tr th {\n",
       "        vertical-align: top;\n",
       "    }\n",
       "\n",
       "    .dataframe thead th {\n",
       "        text-align: right;\n",
       "    }\n",
       "</style>\n",
       "<table border=\"1\" class=\"dataframe\">\n",
       "  <thead>\n",
       "    <tr style=\"text-align: right;\">\n",
       "      <th></th>\n",
       "      <th>gender</th>\n",
       "      <th>race/ethnicity</th>\n",
       "      <th>parental level of education</th>\n",
       "      <th>lunch</th>\n",
       "      <th>test preparation course</th>\n",
       "      <th>math score</th>\n",
       "      <th>reading score</th>\n",
       "      <th>writing score</th>\n",
       "    </tr>\n",
       "  </thead>\n",
       "  <tbody>\n",
       "    <tr>\n",
       "      <th>0</th>\n",
       "      <td>female</td>\n",
       "      <td>group B</td>\n",
       "      <td>bachelor's degree</td>\n",
       "      <td>standard</td>\n",
       "      <td>none</td>\n",
       "      <td>72</td>\n",
       "      <td>72</td>\n",
       "      <td>74</td>\n",
       "    </tr>\n",
       "    <tr>\n",
       "      <th>1</th>\n",
       "      <td>female</td>\n",
       "      <td>group C</td>\n",
       "      <td>some college</td>\n",
       "      <td>standard</td>\n",
       "      <td>completed</td>\n",
       "      <td>69</td>\n",
       "      <td>90</td>\n",
       "      <td>88</td>\n",
       "    </tr>\n",
       "    <tr>\n",
       "      <th>2</th>\n",
       "      <td>female</td>\n",
       "      <td>group B</td>\n",
       "      <td>master's degree</td>\n",
       "      <td>standard</td>\n",
       "      <td>none</td>\n",
       "      <td>90</td>\n",
       "      <td>95</td>\n",
       "      <td>93</td>\n",
       "    </tr>\n",
       "    <tr>\n",
       "      <th>3</th>\n",
       "      <td>male</td>\n",
       "      <td>group A</td>\n",
       "      <td>associate's degree</td>\n",
       "      <td>free/reduced</td>\n",
       "      <td>none</td>\n",
       "      <td>47</td>\n",
       "      <td>57</td>\n",
       "      <td>44</td>\n",
       "    </tr>\n",
       "    <tr>\n",
       "      <th>4</th>\n",
       "      <td>male</td>\n",
       "      <td>group C</td>\n",
       "      <td>some college</td>\n",
       "      <td>standard</td>\n",
       "      <td>none</td>\n",
       "      <td>76</td>\n",
       "      <td>78</td>\n",
       "      <td>75</td>\n",
       "    </tr>\n",
       "  </tbody>\n",
       "</table>\n",
       "</div>"
      ],
      "text/plain": [
       "   gender race/ethnicity parental level of education         lunch  \\\n",
       "0  female        group B           bachelor's degree      standard   \n",
       "1  female        group C                some college      standard   \n",
       "2  female        group B             master's degree      standard   \n",
       "3    male        group A          associate's degree  free/reduced   \n",
       "4    male        group C                some college      standard   \n",
       "\n",
       "  test preparation course  math score  reading score  writing score  \n",
       "0                    none          72             72             74  \n",
       "1               completed          69             90             88  \n",
       "2                    none          90             95             93  \n",
       "3                    none          47             57             44  \n",
       "4                    none          76             78             75  "
      ]
     },
     "execution_count": 25,
     "metadata": {},
     "output_type": "execute_result"
    }
   ],
   "source": [
    "df.head()"
   ]
  },
  {
   "cell_type": "code",
   "execution_count": 26,
   "id": "5693dba2",
   "metadata": {
    "execution": {
     "iopub.execute_input": "2022-07-19T06:53:15.934610Z",
     "iopub.status.busy": "2022-07-19T06:53:15.933988Z",
     "iopub.status.idle": "2022-07-19T06:53:15.939582Z",
     "shell.execute_reply": "2022-07-19T06:53:15.938821Z"
    },
    "papermill": {
     "duration": 0.030141,
     "end_time": "2022-07-19T06:53:15.941479",
     "exception": false,
     "start_time": "2022-07-19T06:53:15.911338",
     "status": "completed"
    },
    "tags": []
   },
   "outputs": [
    {
     "data": {
      "text/plain": [
       "72"
      ]
     },
     "execution_count": 26,
     "metadata": {},
     "output_type": "execute_result"
    }
   ],
   "source": [
    "df['reading score'].nunique()"
   ]
  },
  {
   "cell_type": "raw",
   "id": "6332cd2f",
   "metadata": {
    "papermill": {
     "duration": 0.02095,
     "end_time": "2022-07-19T06:53:15.983430",
     "exception": false,
     "start_time": "2022-07-19T06:53:15.962480",
     "status": "completed"
    },
    "tags": []
   },
   "source": [
    "# reading and writing scores in scatterplot"
   ]
  },
  {
   "cell_type": "code",
   "execution_count": 27,
   "id": "561576e7",
   "metadata": {
    "execution": {
     "iopub.execute_input": "2022-07-19T06:53:16.027746Z",
     "iopub.status.busy": "2022-07-19T06:53:16.027158Z",
     "iopub.status.idle": "2022-07-19T06:53:16.333983Z",
     "shell.execute_reply": "2022-07-19T06:53:16.332768Z"
    },
    "papermill": {
     "duration": 0.331869,
     "end_time": "2022-07-19T06:53:16.336379",
     "exception": false,
     "start_time": "2022-07-19T06:53:16.004510",
     "status": "completed"
    },
    "tags": []
   },
   "outputs": [
    {
     "data": {
      "image/png": "[encoded data removed]",
      "text/plain": [
       "<Figure size 1152x648 with 1 Axes>"
      ]
     },
     "metadata": {
      "needs_background": "light"
     },
     "output_type": "display_data"
    }
   ],
   "source": [
    "plt.figure(figsize=(16,9))\n",
    "sns.scatterplot(x='reading score', y='writing score', hue='gender', data=df)\n",
    "plt.title('reading and writing scores')\n",
    "\n",
    "plt.show()"
   ]
  },
  {
   "cell_type": "code",
   "execution_count": 28,
   "id": "45105168",
   "metadata": {
    "execution": {
     "iopub.execute_input": "2022-07-19T06:53:16.390489Z",
     "iopub.status.busy": "2022-07-19T06:53:16.389730Z",
     "iopub.status.idle": "2022-07-19T06:53:16.406536Z",
     "shell.execute_reply": "2022-07-19T06:53:16.405449Z"
    },
    "papermill": {
     "duration": 0.049105,
     "end_time": "2022-07-19T06:53:16.409144",
     "exception": false,
     "start_time": "2022-07-19T06:53:16.360039",
     "status": "completed"
    },
    "tags": []
   },
   "outputs": [
    {
     "data": {
      "text/html": [
       "<div>\n",
       "<style scoped>\n",
       "    .dataframe tbody tr th:only-of-type {\n",
       "        vertical-align: middle;\n",
       "    }\n",
       "\n",
       "    .dataframe tbody tr th {\n",
       "        vertical-align: top;\n",
       "    }\n",
       "\n",
       "    .dataframe thead th {\n",
       "        text-align: right;\n",
       "    }\n",
       "</style>\n",
       "<table border=\"1\" class=\"dataframe\">\n",
       "  <thead>\n",
       "    <tr style=\"text-align: right;\">\n",
       "      <th></th>\n",
       "      <th>gender</th>\n",
       "      <th>race/ethnicity</th>\n",
       "      <th>parental level of education</th>\n",
       "      <th>lunch</th>\n",
       "      <th>test preparation course</th>\n",
       "      <th>math score</th>\n",
       "      <th>reading score</th>\n",
       "      <th>writing score</th>\n",
       "    </tr>\n",
       "  </thead>\n",
       "  <tbody>\n",
       "    <tr>\n",
       "      <th>0</th>\n",
       "      <td>female</td>\n",
       "      <td>group B</td>\n",
       "      <td>bachelor's degree</td>\n",
       "      <td>standard</td>\n",
       "      <td>none</td>\n",
       "      <td>72</td>\n",
       "      <td>72</td>\n",
       "      <td>74</td>\n",
       "    </tr>\n",
       "    <tr>\n",
       "      <th>1</th>\n",
       "      <td>female</td>\n",
       "      <td>group C</td>\n",
       "      <td>some college</td>\n",
       "      <td>standard</td>\n",
       "      <td>completed</td>\n",
       "      <td>69</td>\n",
       "      <td>90</td>\n",
       "      <td>88</td>\n",
       "    </tr>\n",
       "    <tr>\n",
       "      <th>2</th>\n",
       "      <td>female</td>\n",
       "      <td>group B</td>\n",
       "      <td>master's degree</td>\n",
       "      <td>standard</td>\n",
       "      <td>none</td>\n",
       "      <td>90</td>\n",
       "      <td>95</td>\n",
       "      <td>93</td>\n",
       "    </tr>\n",
       "    <tr>\n",
       "      <th>3</th>\n",
       "      <td>male</td>\n",
       "      <td>group A</td>\n",
       "      <td>associate's degree</td>\n",
       "      <td>free/reduced</td>\n",
       "      <td>none</td>\n",
       "      <td>47</td>\n",
       "      <td>57</td>\n",
       "      <td>44</td>\n",
       "    </tr>\n",
       "    <tr>\n",
       "      <th>4</th>\n",
       "      <td>male</td>\n",
       "      <td>group C</td>\n",
       "      <td>some college</td>\n",
       "      <td>standard</td>\n",
       "      <td>none</td>\n",
       "      <td>76</td>\n",
       "      <td>78</td>\n",
       "      <td>75</td>\n",
       "    </tr>\n",
       "  </tbody>\n",
       "</table>\n",
       "</div>"
      ],
      "text/plain": [
       "   gender race/ethnicity parental level of education         lunch  \\\n",
       "0  female        group B           bachelor's degree      standard   \n",
       "1  female        group C                some college      standard   \n",
       "2  female        group B             master's degree      standard   \n",
       "3    male        group A          associate's degree  free/reduced   \n",
       "4    male        group C                some college      standard   \n",
       "\n",
       "  test preparation course  math score  reading score  writing score  \n",
       "0                    none          72             72             74  \n",
       "1               completed          69             90             88  \n",
       "2                    none          90             95             93  \n",
       "3                    none          47             57             44  \n",
       "4                    none          76             78             75  "
      ]
     },
     "execution_count": 28,
     "metadata": {},
     "output_type": "execute_result"
    }
   ],
   "source": [
    "df.head()"
   ]
  },
  {
   "cell_type": "code",
   "execution_count": 29,
   "id": "f3deef51",
   "metadata": {
    "execution": {
     "iopub.execute_input": "2022-07-19T06:53:16.458468Z",
     "iopub.status.busy": "2022-07-19T06:53:16.458085Z",
     "iopub.status.idle": "2022-07-19T06:53:16.465061Z",
     "shell.execute_reply": "2022-07-19T06:53:16.464277Z"
    },
    "papermill": {
     "duration": 0.037815,
     "end_time": "2022-07-19T06:53:16.470112",
     "exception": false,
     "start_time": "2022-07-19T06:53:16.432297",
     "status": "completed"
    },
    "tags": []
   },
   "outputs": [
    {
     "name": "stdout",
     "output_type": "stream",
     "text": [
      "some college          226\n",
      "associate's degree    222\n",
      "high school           196\n",
      "some high school      179\n",
      "bachelor's degree     118\n",
      "master's degree        59\n",
      "Name: parental level of education, dtype: int64\n"
     ]
    }
   ],
   "source": [
    "education=df['parental level of education'].value_counts()\n",
    "print(education)"
   ]
  },
  {
   "cell_type": "markdown",
   "id": "7cec76e8",
   "metadata": {
    "papermill": {
     "duration": 0.024141,
     "end_time": "2022-07-19T06:53:16.522949",
     "exception": false,
     "start_time": "2022-07-19T06:53:16.498808",
     "status": "completed"
    },
    "tags": []
   },
   "source": [
    "Educational degrees in pie chart"
   ]
  },
  {
   "cell_type": "code",
   "execution_count": 30,
   "id": "617d5555",
   "metadata": {
    "execution": {
     "iopub.execute_input": "2022-07-19T06:53:16.572553Z",
     "iopub.status.busy": "2022-07-19T06:53:16.571508Z",
     "iopub.status.idle": "2022-07-19T06:53:16.737010Z",
     "shell.execute_reply": "2022-07-19T06:53:16.735333Z"
    },
    "papermill": {
     "duration": 0.193429,
     "end_time": "2022-07-19T06:53:16.740359",
     "exception": false,
     "start_time": "2022-07-19T06:53:16.546930",
     "status": "completed"
    },
    "tags": []
   },
   "outputs": [
    {
     "data": {
      "image/png": "[encoded data removed]",
      "text/plain": [
       "<Figure size 720x504 with 1 Axes>"
      ]
     },
     "metadata": {},
     "output_type": "display_data"
    }
   ],
   "source": [
    "sns.set_palette('bright')\n",
    "plt.figure(figsize=(10,7))\n",
    "labels=education.index\n",
    "sizes=education.values\n",
    "plt.pie(sizes,labels=labels,autopct='%1.1f%%',\n",
    "        shadow=True,startangle=90)\n",
    "plt.show()"
   ]
  },
  {
   "cell_type": "code",
   "execution_count": 31,
   "id": "3439c5eb",
   "metadata": {
    "execution": {
     "iopub.execute_input": "2022-07-19T06:53:16.817425Z",
     "iopub.status.busy": "2022-07-19T06:53:16.817044Z",
     "iopub.status.idle": "2022-07-19T06:53:16.831429Z",
     "shell.execute_reply": "2022-07-19T06:53:16.830306Z"
    },
    "papermill": {
     "duration": 0.049309,
     "end_time": "2022-07-19T06:53:16.833981",
     "exception": false,
     "start_time": "2022-07-19T06:53:16.784672",
     "status": "completed"
    },
    "tags": []
   },
   "outputs": [
    {
     "data": {
      "text/html": [
       "<div>\n",
       "<style scoped>\n",
       "    .dataframe tbody tr th:only-of-type {\n",
       "        vertical-align: middle;\n",
       "    }\n",
       "\n",
       "    .dataframe tbody tr th {\n",
       "        vertical-align: top;\n",
       "    }\n",
       "\n",
       "    .dataframe thead th {\n",
       "        text-align: right;\n",
       "    }\n",
       "</style>\n",
       "<table border=\"1\" class=\"dataframe\">\n",
       "  <thead>\n",
       "    <tr style=\"text-align: right;\">\n",
       "      <th></th>\n",
       "      <th>gender</th>\n",
       "      <th>race/ethnicity</th>\n",
       "      <th>parental level of education</th>\n",
       "      <th>lunch</th>\n",
       "      <th>test preparation course</th>\n",
       "      <th>math score</th>\n",
       "      <th>reading score</th>\n",
       "      <th>writing score</th>\n",
       "    </tr>\n",
       "  </thead>\n",
       "  <tbody>\n",
       "    <tr>\n",
       "      <th>0</th>\n",
       "      <td>female</td>\n",
       "      <td>group B</td>\n",
       "      <td>bachelor's degree</td>\n",
       "      <td>standard</td>\n",
       "      <td>none</td>\n",
       "      <td>72</td>\n",
       "      <td>72</td>\n",
       "      <td>74</td>\n",
       "    </tr>\n",
       "    <tr>\n",
       "      <th>1</th>\n",
       "      <td>female</td>\n",
       "      <td>group C</td>\n",
       "      <td>some college</td>\n",
       "      <td>standard</td>\n",
       "      <td>completed</td>\n",
       "      <td>69</td>\n",
       "      <td>90</td>\n",
       "      <td>88</td>\n",
       "    </tr>\n",
       "    <tr>\n",
       "      <th>2</th>\n",
       "      <td>female</td>\n",
       "      <td>group B</td>\n",
       "      <td>master's degree</td>\n",
       "      <td>standard</td>\n",
       "      <td>none</td>\n",
       "      <td>90</td>\n",
       "      <td>95</td>\n",
       "      <td>93</td>\n",
       "    </tr>\n",
       "    <tr>\n",
       "      <th>3</th>\n",
       "      <td>male</td>\n",
       "      <td>group A</td>\n",
       "      <td>associate's degree</td>\n",
       "      <td>free/reduced</td>\n",
       "      <td>none</td>\n",
       "      <td>47</td>\n",
       "      <td>57</td>\n",
       "      <td>44</td>\n",
       "    </tr>\n",
       "    <tr>\n",
       "      <th>4</th>\n",
       "      <td>male</td>\n",
       "      <td>group C</td>\n",
       "      <td>some college</td>\n",
       "      <td>standard</td>\n",
       "      <td>none</td>\n",
       "      <td>76</td>\n",
       "      <td>78</td>\n",
       "      <td>75</td>\n",
       "    </tr>\n",
       "  </tbody>\n",
       "</table>\n",
       "</div>"
      ],
      "text/plain": [
       "   gender race/ethnicity parental level of education         lunch  \\\n",
       "0  female        group B           bachelor's degree      standard   \n",
       "1  female        group C                some college      standard   \n",
       "2  female        group B             master's degree      standard   \n",
       "3    male        group A          associate's degree  free/reduced   \n",
       "4    male        group C                some college      standard   \n",
       "\n",
       "  test preparation course  math score  reading score  writing score  \n",
       "0                    none          72             72             74  \n",
       "1               completed          69             90             88  \n",
       "2                    none          90             95             93  \n",
       "3                    none          47             57             44  \n",
       "4                    none          76             78             75  "
      ]
     },
     "execution_count": 31,
     "metadata": {},
     "output_type": "execute_result"
    }
   ],
   "source": [
    "df.head()"
   ]
  },
  {
   "cell_type": "code",
   "execution_count": 32,
   "id": "2677bed8",
   "metadata": {
    "execution": {
     "iopub.execute_input": "2022-07-19T06:53:16.885641Z",
     "iopub.status.busy": "2022-07-19T06:53:16.885229Z",
     "iopub.status.idle": "2022-07-19T06:53:16.892146Z",
     "shell.execute_reply": "2022-07-19T06:53:16.891018Z"
    },
    "papermill": {
     "duration": 0.034163,
     "end_time": "2022-07-19T06:53:16.894294",
     "exception": false,
     "start_time": "2022-07-19T06:53:16.860131",
     "status": "completed"
    },
    "tags": []
   },
   "outputs": [
    {
     "data": {
      "text/plain": [
       "66.089"
      ]
     },
     "execution_count": 32,
     "metadata": {},
     "output_type": "execute_result"
    }
   ],
   "source": [
    "df['math score'].mean()"
   ]
  },
  {
   "cell_type": "code",
   "execution_count": 33,
   "id": "53d65f58",
   "metadata": {
    "execution": {
     "iopub.execute_input": "2022-07-19T06:53:16.944515Z",
     "iopub.status.busy": "2022-07-19T06:53:16.943860Z",
     "iopub.status.idle": "2022-07-19T06:53:16.967335Z",
     "shell.execute_reply": "2022-07-19T06:53:16.966120Z"
    },
    "papermill": {
     "duration": 0.051464,
     "end_time": "2022-07-19T06:53:16.969610",
     "exception": false,
     "start_time": "2022-07-19T06:53:16.918146",
     "status": "completed"
    },
    "tags": []
   },
   "outputs": [
    {
     "data": {
      "text/html": [
       "<div>\n",
       "<style scoped>\n",
       "    .dataframe tbody tr th:only-of-type {\n",
       "        vertical-align: middle;\n",
       "    }\n",
       "\n",
       "    .dataframe tbody tr th {\n",
       "        vertical-align: top;\n",
       "    }\n",
       "\n",
       "    .dataframe thead th {\n",
       "        text-align: right;\n",
       "    }\n",
       "</style>\n",
       "<table border=\"1\" class=\"dataframe\">\n",
       "  <thead>\n",
       "    <tr style=\"text-align: right;\">\n",
       "      <th></th>\n",
       "      <th>count</th>\n",
       "      <th>mean</th>\n",
       "      <th>std</th>\n",
       "      <th>min</th>\n",
       "      <th>25%</th>\n",
       "      <th>50%</th>\n",
       "      <th>75%</th>\n",
       "      <th>max</th>\n",
       "    </tr>\n",
       "  </thead>\n",
       "  <tbody>\n",
       "    <tr>\n",
       "      <th>math score</th>\n",
       "      <td>1000.0</td>\n",
       "      <td>66.089</td>\n",
       "      <td>15.163080</td>\n",
       "      <td>0.0</td>\n",
       "      <td>57.00</td>\n",
       "      <td>66.0</td>\n",
       "      <td>77.0</td>\n",
       "      <td>100.0</td>\n",
       "    </tr>\n",
       "    <tr>\n",
       "      <th>reading score</th>\n",
       "      <td>1000.0</td>\n",
       "      <td>69.169</td>\n",
       "      <td>14.600192</td>\n",
       "      <td>17.0</td>\n",
       "      <td>59.00</td>\n",
       "      <td>70.0</td>\n",
       "      <td>79.0</td>\n",
       "      <td>100.0</td>\n",
       "    </tr>\n",
       "    <tr>\n",
       "      <th>writing score</th>\n",
       "      <td>1000.0</td>\n",
       "      <td>68.054</td>\n",
       "      <td>15.195657</td>\n",
       "      <td>10.0</td>\n",
       "      <td>57.75</td>\n",
       "      <td>69.0</td>\n",
       "      <td>79.0</td>\n",
       "      <td>100.0</td>\n",
       "    </tr>\n",
       "  </tbody>\n",
       "</table>\n",
       "</div>"
      ],
      "text/plain": [
       "                count    mean        std   min    25%   50%   75%    max\n",
       "math score     1000.0  66.089  15.163080   0.0  57.00  66.0  77.0  100.0\n",
       "reading score  1000.0  69.169  14.600192  17.0  59.00  70.0  79.0  100.0\n",
       "writing score  1000.0  68.054  15.195657  10.0  57.75  69.0  79.0  100.0"
      ]
     },
     "execution_count": 33,
     "metadata": {},
     "output_type": "execute_result"
    }
   ],
   "source": [
    "df.describe().T"
   ]
  },
  {
   "cell_type": "markdown",
   "id": "e7095f63",
   "metadata": {
    "papermill": {
     "duration": 0.025095,
     "end_time": "2022-07-19T06:53:17.019471",
     "exception": false,
     "start_time": "2022-07-19T06:53:16.994376",
     "status": "completed"
    },
    "tags": []
   },
   "source": [
    "reading scores "
   ]
  },
  {
   "cell_type": "code",
   "execution_count": 34,
   "id": "4e93d8ac",
   "metadata": {
    "execution": {
     "iopub.execute_input": "2022-07-19T06:53:17.069520Z",
     "iopub.status.busy": "2022-07-19T06:53:17.068554Z",
     "iopub.status.idle": "2022-07-19T06:53:18.139710Z",
     "shell.execute_reply": "2022-07-19T06:53:18.138376Z"
    },
    "papermill": {
     "duration": 1.098955,
     "end_time": "2022-07-19T06:53:18.142216",
     "exception": false,
     "start_time": "2022-07-19T06:53:17.043261",
     "status": "completed"
    },
    "tags": []
   },
   "outputs": [
    {
     "data": {
      "text/html": [
       "        <script type=\"text/javascript\">\n",
       "        window.PlotlyConfig = {MathJaxConfig: 'local'};\n",
       "        if (window.MathJax && window.MathJax.Hub && window.MathJax.Hub.Config) {window.MathJax.Hub.Config({SVG: {font: \"STIX-Web\"}});}\n",
       "        if (typeof require !== 'undefined') {\n",
       "        require.undef(\"plotly\");\n",
       "        requirejs.config({\n",
       "            paths: {\n",
       "                'plotly': ['https://cdn.plot.ly/plotly-2.12.1.min']\n",
       "            }\n",
       "        });\n",
       "        require(['plotly'], function(Plotly) {\n",
       "            window._Plotly = Plotly;\n",
       "        });\n",
       "        }\n",
       "        </script>\n",
       "        "
      ]
     },
     "metadata": {},
     "output_type": "display_data"
    },
    {
     "data": {
      "text/html": [
       "<div>                            <div id=\"7c3bb735-b8bd-420a-b32e-c8cc4db333a0\" class=\"plotly-graph-div\" style=\"height:525px; width:100%;\"></div>            <script type=\"text/javascript\">                require([\"plotly\"], function(Plotly) {                    window.PLOTLYENV=window.PLOTLYENV || {};                                    if (document.getElementById(\"7c3bb735-b8bd-420a-b32e-c8cc4db333a0\")) {                    Plotly.newPlot(                        \"7c3bb735-b8bd-420a-b32e-c8cc4db333a0\",                        [{\"hovertemplate\":\"gender=female<br>index=%{x}<br>reading score=%{y}<extra></extra>\",\"legendgroup\":\"female\",\"line\":{\"color\":\"#636efa\",\"dash\":\"solid\"},\"marker\":{\"symbol\":\"circle\"},\"mode\":\"lines\",\"name\":\"female\",\"orientation\":\"v\",\"showlegend\":true,\"x\":[0,1,2,5,6,9,12,14,15,17,19,21,23,27,29,30,31,32,36,37,38,41,42,44,46,47,48,54,55,56,59,63,64,67,69,70,72,78,79,80,85,86,87,88,89,90,94,97,98,99,102,105,106,108,109,110,113,114,116,117,118,119,120,122,125,129,133,138,140,141,142,145,148,152,155,156,158,161,164,165,167,168,169,172,173,174,175,176,177,178,179,181,182,183,189,190,192,194,198,199,200,201,203,208,209,212,216,217,220,222,224,225,226,229,232,237,241,242,247,248,251,252,255,256,258,259,260,262,263,266,267,268,269,272,273,276,277,278,282,283,284,287,293,302,304,308,309,310,313,314,316,319,320,321,322,323,324,325,329,334,335,338,339,341,342,345,347,350,352,353,354,355,357,359,360,362,363,368,369,371,373,374,376,377,378,380,383,384,385,386,387,388,391,394,396,397,400,402,403,404,405,407,408,410,414,420,421,422,423,425,431,433,440,441,442,443,445,450,451,452,454,456,458,462,463,465,466,468,470,471,472,473,474,475,478,481,484,487,490,491,492,493,494,496,497,498,500,501,503,504,505,509,513,514,515,516,517,518,519,521,527,528,529,530,531,533,535,537,542,543,544,546,548,552,555,556,558,560,561,563,566,567,572,573,574,577,578,579,580,581,582,583,584,585,586,587,588,589,593,594,595,598,599,600,601,602,606,607,608,609,611,613,614,615,616,620,624,629,632,633,636,637,639,641,642,643,645,646,647,648,649,651,652,653,654,655,658,662,663,665,666,667,670,672,673,674,675,676,677,680,683,685,690,691,692,693,694,695,696,697,698,700,701,703,704,709,711,712,714,715,717,718,720,722,726,728,730,732,734,737,741,742,743,748,753,755,758,760,761,763,765,766,768,772,773,775,776,777,778,780,781,782,783,785,786,787,789,790,791,794,795,797,799,802,803,804,806,807,812,814,816,818,819,820,821,823,824,826,827,828,830,831,833,835,837,839,840,842,844,848,851,852,855,857,860,861,863,871,874,878,879,881,882,884,885,886,888,890,891,892,894,895,897,899,901,902,903,904,907,908,911,912,913,914,915,917,918,921,923,927,929,937,941,944,945,947,949,951,952,954,957,958,960,961,962,963,965,968,969,970,972,973,974,975,979,980,983,984,986,988,989,991,992,993,995,997,998,999],\"xaxis\":\"x\",\"y\":[72,90,95,83,95,60,81,53,75,32,58,75,73,69,70,74,65,72,81,64,90,73,58,56,65,71,74,84,41,85,17,80,58,72,64,63,51,74,68,49,80,83,71,70,86,72,86,72,67,67,91,67,100,76,64,89,58,100,85,82,63,69,92,93,95,49,81,66,72,62,55,39,75,70,89,74,86,88,92,100,76,83,75,86,67,51,91,54,77,70,100,64,50,69,88,65,64,84,53,79,84,81,69,81,61,62,86,42,68,65,66,56,72,95,86,60,83,52,70,64,83,70,73,73,75,81,79,50,93,75,72,92,76,53,70,92,63,86,79,78,46,89,73,84,75,71,57,76,67,64,82,65,79,86,81,53,46,90,55,93,68,38,55,73,76,80,94,65,78,58,71,72,66,90,62,58,34,64,84,73,97,70,90,95,83,86,49,43,76,73,78,64,68,74,67,89,54,65,99,59,73,80,57,71,72,93,58,58,85,67,72,59,81,81,73,83,74,85,92,77,61,89,100,70,90,87,31,88,85,69,86,67,90,76,64,59,52,75,85,64,83,88,64,48,78,69,79,87,89,59,82,92,61,97,87,89,74,78,78,86,53,41,74,67,54,88,83,66,77,95,63,100,67,48,39,72,70,75,74,80,100,71,62,66,81,91,56,61,97,79,73,75,77,76,73,63,64,66,76,100,79,77,82,60,29,78,84,58,64,63,59,77,93,68,45,61,58,51,74,88,80,92,74,88,81,79,81,70,62,53,79,80,86,70,79,67,60,71,69,60,73,85,76,78,84,77,64,78,82,72,40,99,53,76,74,77,63,89,82,72,78,81,67,64,63,61,85,100,70,94,96,76,72,90,75,92,77,89,58,66,57,84,73,60,90,95,59,72,58,62,72,75,71,67,78,58,72,44,79,56,90,85,59,51,79,38,65,62,66,52,68,84,55,94,85,76,74,45,64,80,59,72,91,90,90,87,58,68,69,86,60,86,82,64,82,77,52,44,65,72,68,85,97,79,62,86,71,72,62,72,76,70,73,51,76,100,65,85,92,67,62,34,78,78,78,48,100,84,84,75,84,61,62,61,70,61,77,53,65,61,56,58,91,68,61,58,75,77,74,69,100,63,58,54,100,76,70,76,84,100,50,65,63,82,95,24,87,75,59,45,86,82,76,72,99,71,78,86],\"yaxis\":\"y\",\"type\":\"scatter\"},{\"hovertemplate\":\"gender=male<br>index=%{x}<br>reading score=%{y}<extra></extra>\",\"legendgroup\":\"male\",\"line\":{\"color\":\"#EF553B\",\"dash\":\"solid\"},\"marker\":{\"symbol\":\"circle\"},\"mode\":\"lines\",\"name\":\"male\",\"orientation\":\"v\",\"showlegend\":true,\"x\":[3,4,7,8,10,11,13,16,18,20,22,24,25,26,28,33,34,35,39,40,43,45,49,50,51,52,53,57,58,60,61,62,65,66,68,71,73,74,75,76,77,81,82,83,84,91,92,93,95,96,100,101,103,104,107,111,112,115,121,123,124,126,127,128,130,131,132,134,135,136,137,139,143,144,146,147,149,150,151,153,154,157,159,160,162,163,166,170,171,180,184,185,186,187,188,191,193,195,196,197,202,204,205,206,207,210,211,213,214,215,218,219,221,223,227,228,230,231,233,234,235,236,238,239,240,243,244,245,246,249,250,253,254,257,261,264,265,270,271,274,275,279,280,281,285,286,288,289,290,291,292,294,295,296,297,298,299,300,301,303,305,306,307,311,312,315,317,318,326,327,328,330,331,332,333,336,337,340,343,344,346,348,349,351,356,358,361,364,365,366,367,370,372,375,379,381,382,389,390,392,393,395,398,399,401,406,409,411,412,413,415,416,417,418,419,424,426,427,428,429,430,432,434,435,436,437,438,439,444,446,447,448,449,453,455,457,459,460,461,464,467,469,476,477,479,480,482,483,485,486,488,489,495,499,502,506,507,508,510,511,512,520,522,523,524,525,526,532,534,536,538,539,540,541,545,547,549,550,551,553,554,557,559,562,564,565,568,569,570,571,575,576,590,591,592,596,597,603,604,605,610,612,617,618,619,621,622,623,625,626,627,628,630,631,634,635,638,640,644,650,656,657,659,660,661,664,668,669,671,678,679,681,682,684,686,687,688,689,699,702,705,706,707,708,710,713,716,719,721,723,724,725,727,729,731,733,735,736,738,739,740,744,745,746,747,749,750,751,752,754,756,757,759,762,764,767,769,770,771,774,779,784,788,792,793,796,798,800,801,805,808,809,810,811,813,815,817,822,825,829,832,834,836,838,841,843,845,846,847,849,850,853,854,856,858,859,862,864,865,866,867,868,869,870,872,873,875,876,877,880,883,887,889,893,896,898,900,905,906,909,910,916,919,920,922,924,925,926,928,930,931,932,933,934,935,936,938,939,940,942,943,946,948,950,953,955,956,959,964,966,967,971,976,977,978,981,982,985,987,990,994,996],\"xaxis\":\"x\",\"y\":[57,78,43,64,54,52,72,89,42,69,54,71,74,54,70,42,87,81,56,61,65,54,84,55,69,44,78,55,59,74,39,61,64,37,58,55,57,49,41,26,78,45,47,64,39,34,79,45,81,66,67,74,44,86,63,55,53,77,89,57,80,68,77,82,84,37,74,79,55,54,55,61,43,73,84,68,100,67,67,49,67,60,62,78,53,53,51,73,88,68,52,67,76,66,52,83,62,55,69,56,77,41,71,62,80,79,28,51,91,83,77,56,85,80,50,72,64,43,87,82,75,66,52,80,68,51,74,76,76,60,49,80,52,77,79,73,42,63,49,85,78,56,52,48,82,82,75,76,70,73,60,77,62,41,74,46,87,78,54,76,67,87,52,60,61,66,72,71,61,23,75,60,37,56,78,70,51,61,72,73,61,74,74,57,61,62,84,60,58,58,66,77,74,43,64,100,81,70,67,67,54,45,63,59,43,65,84,83,66,67,73,74,73,59,56,39,83,71,59,63,66,56,66,48,68,66,56,88,82,66,81,46,73,58,56,54,65,58,54,58,67,74,62,68,71,71,68,52,74,47,53,82,64,71,61,70,59,78,71,50,49,49,58,59,52,60,61,61,69,60,66,92,69,82,83,67,72,76,90,62,45,67,66,90,51,43,48,68,75,96,55,51,57,62,68,24,54,57,89,72,60,90,78,81,73,63,51,96,97,70,48,57,64,60,84,74,76,52,65,56,67,66,87,77,66,63,74,72,57,75,61,68,55,66,75,78,58,90,66,84,72,34,59,87,84,81,78,73,59,48,43,74,51,39,46,47,57,79,71,60,73,55,79,75,64,84,69,72,77,55,58,68,77,81,63,62,60,48,73,65,85,81,65,74,84,70,60,73,80,81,75,54,31,47,84,86,70,52,67,54,60,50,64,57,58,77,85,85,54,75,67,67,64,68,49,73,42,93,82,53,42,74,51,58,84,90,64,82,61,64,46,72,51,74,29,54,84,77,48,64,42,100,96,70,66,70,64,56,43,74,57,71,75,87,63,57,81,68,66,66,62,82,50,73,52,57,87,81,57,68,63,72,62,65,41,78,85,51,75,81,63,55],\"yaxis\":\"y\",\"type\":\"scatter\"}],                        {\"template\":{\"data\":{\"histogram2dcontour\":[{\"type\":\"histogram2dcontour\",\"colorbar\":{\"outlinewidth\":0,\"ticks\":\"\"},\"colorscale\":[[0.0,\"#0d0887\"],[0.1111111111111111,\"#46039f\"],[0.2222222222222222,\"#7201a8\"],[0.3333333333333333,\"#9c179e\"],[0.4444444444444444,\"#bd3786\"],[0.5555555555555556,\"#d8576b\"],[0.6666666666666666,\"#ed7953\"],[0.7777777777777778,\"#fb9f3a\"],[0.8888888888888888,\"#fdca26\"],[1.0,\"#f0f921\"]]}],\"choropleth\":[{\"type\":\"choropleth\",\"colorbar\":{\"outlinewidth\":0,\"ticks\":\"\"}}],\"histogram2d\":[{\"type\":\"histogram2d\",\"colorbar\":{\"outlinewidth\":0,\"ticks\":\"\"},\"colorscale\":[[0.0,\"#0d0887\"],[0.1111111111111111,\"#46039f\"],[0.2222222222222222,\"#7201a8\"],[0.3333333333333333,\"#9c179e\"],[0.4444444444444444,\"#bd3786\"],[0.5555555555555556,\"#d8576b\"],[0.6666666666666666,\"#ed7953\"],[0.7777777777777778,\"#fb9f3a\"],[0.8888888888888888,\"#fdca26\"],[1.0,\"#f0f921\"]]}],\"heatmap\":[{\"type\":\"heatmap\",\"colorbar\":{\"outlinewidth\":0,\"ticks\":\"\"},\"colorscale\":[[0.0,\"#0d0887\"],[0.1111111111111111,\"#46039f\"],[0.2222222222222222,\"#7201a8\"],[0.3333333333333333,\"#9c179e\"],[0.4444444444444444,\"#bd3786\"],[0.5555555555555556,\"#d8576b\"],[0.6666666666666666,\"#ed7953\"],[0.7777777777777778,\"#fb9f3a\"],[0.8888888888888888,\"#fdca26\"],[1.0,\"#f0f921\"]]}],\"heatmapgl\":[{\"type\":\"heatmapgl\",\"colorbar\":{\"outlinewidth\":0,\"ticks\":\"\"},\"colorscale\":[[0.0,\"#0d0887\"],[0.1111111111111111,\"#46039f\"],[0.2222222222222222,\"#7201a8\"],[0.3333333333333333,\"#9c179e\"],[0.4444444444444444,\"#bd3786\"],[0.5555555555555556,\"#d8576b\"],[0.6666666666666666,\"#ed7953\"],[0.7777777777777778,\"#fb9f3a\"],[0.8888888888888888,\"#fdca26\"],[1.0,\"#f0f921\"]]}],\"contourcarpet\":[{\"type\":\"contourcarpet\",\"colorbar\":{\"outlinewidth\":0,\"ticks\":\"\"}}],\"contour\":[{\"type\":\"contour\",\"colorbar\":{\"outlinewidth\":0,\"ticks\":\"\"},\"colorscale\":[[0.0,\"#0d0887\"],[0.1111111111111111,\"#46039f\"],[0.2222222222222222,\"#7201a8\"],[0.3333333333333333,\"#9c179e\"],[0.4444444444444444,\"#bd3786\"],[0.5555555555555556,\"#d8576b\"],[0.6666666666666666,\"#ed7953\"],[0.7777777777777778,\"#fb9f3a\"],[0.8888888888888888,\"#fdca26\"],[1.0,\"#f0f921\"]]}],\"surface\":[{\"type\":\"surface\",\"colorbar\":{\"outlinewidth\":0,\"ticks\":\"\"},\"colorscale\":[[0.0,\"#0d0887\"],[0.1111111111111111,\"#46039f\"],[0.2222222222222222,\"#7201a8\"],[0.3333333333333333,\"#9c179e\"],[0.4444444444444444,\"#bd3786\"],[0.5555555555555556,\"#d8576b\"],[0.6666666666666666,\"#ed7953\"],[0.7777777777777778,\"#fb9f3a\"],[0.8888888888888888,\"#fdca26\"],[1.0,\"#f0f921\"]]}],\"mesh3d\":[{\"type\":\"mesh3d\",\"colorbar\":{\"outlinewidth\":0,\"ticks\":\"\"}}],\"scatter\":[{\"fillpattern\":{\"fillmode\":\"overlay\",\"size\":10,\"solidity\":0.2},\"type\":\"scatter\"}],\"parcoords\":[{\"type\":\"parcoords\",\"line\":{\"colorbar\":{\"outlinewidth\":0,\"ticks\":\"\"}}}],\"scatterpolargl\":[{\"type\":\"scatterpolargl\",\"marker\":{\"colorbar\":{\"outlinewidth\":0,\"ticks\":\"\"}}}],\"bar\":[{\"error_x\":{\"color\":\"#2a3f5f\"},\"error_y\":{\"color\":\"#2a3f5f\"},\"marker\":{\"line\":{\"color\":\"#E5ECF6\",\"width\":0.5},\"pattern\":{\"fillmode\":\"overlay\",\"size\":10,\"solidity\":0.2}},\"type\":\"bar\"}],\"scattergeo\":[{\"type\":\"scattergeo\",\"marker\":{\"colorbar\":{\"outlinewidth\":0,\"ticks\":\"\"}}}],\"scatterpolar\":[{\"type\":\"scatterpolar\",\"marker\":{\"colorbar\":{\"outlinewidth\":0,\"ticks\":\"\"}}}],\"histogram\":[{\"marker\":{\"pattern\":{\"fillmode\":\"overlay\",\"size\":10,\"solidity\":0.2}},\"type\":\"histogram\"}],\"scattergl\":[{\"type\":\"scattergl\",\"marker\":{\"colorbar\":{\"outlinewidth\":0,\"ticks\":\"\"}}}],\"scatter3d\":[{\"type\":\"scatter3d\",\"line\":{\"colorbar\":{\"outlinewidth\":0,\"ticks\":\"\"}},\"marker\":{\"colorbar\":{\"outlinewidth\":0,\"ticks\":\"\"}}}],\"scattermapbox\":[{\"type\":\"scattermapbox\",\"marker\":{\"colorbar\":{\"outlinewidth\":0,\"ticks\":\"\"}}}],\"scatterternary\":[{\"type\":\"scatterternary\",\"marker\":{\"colorbar\":{\"outlinewidth\":0,\"ticks\":\"\"}}}],\"scattercarpet\":[{\"type\":\"scattercarpet\",\"marker\":{\"colorbar\":{\"outlinewidth\":0,\"ticks\":\"\"}}}],\"carpet\":[{\"aaxis\":{\"endlinecolor\":\"#2a3f5f\",\"gridcolor\":\"white\",\"linecolor\":\"white\",\"minorgridcolor\":\"white\",\"startlinecolor\":\"#2a3f5f\"},\"baxis\":{\"endlinecolor\":\"#2a3f5f\",\"gridcolor\":\"white\",\"linecolor\":\"white\",\"minorgridcolor\":\"white\",\"startlinecolor\":\"#2a3f5f\"},\"type\":\"carpet\"}],\"table\":[{\"cells\":{\"fill\":{\"color\":\"#EBF0F8\"},\"line\":{\"color\":\"white\"}},\"header\":{\"fill\":{\"color\":\"#C8D4E3\"},\"line\":{\"color\":\"white\"}},\"type\":\"table\"}],\"barpolar\":[{\"marker\":{\"line\":{\"color\":\"#E5ECF6\",\"width\":0.5},\"pattern\":{\"fillmode\":\"overlay\",\"size\":10,\"solidity\":0.2}},\"type\":\"barpolar\"}],\"pie\":[{\"automargin\":true,\"type\":\"pie\"}]},\"layout\":{\"autotypenumbers\":\"strict\",\"colorway\":[\"#636efa\",\"#EF553B\",\"#00cc96\",\"#ab63fa\",\"#FFA15A\",\"#19d3f3\",\"#FF6692\",\"#B6E880\",\"#FF97FF\",\"#FECB52\"],\"font\":{\"color\":\"#2a3f5f\"},\"hovermode\":\"closest\",\"hoverlabel\":{\"align\":\"left\"},\"paper_bgcolor\":\"white\",\"plot_bgcolor\":\"#E5ECF6\",\"polar\":{\"bgcolor\":\"#E5ECF6\",\"angularaxis\":{\"gridcolor\":\"white\",\"linecolor\":\"white\",\"ticks\":\"\"},\"radialaxis\":{\"gridcolor\":\"white\",\"linecolor\":\"white\",\"ticks\":\"\"}},\"ternary\":{\"bgcolor\":\"#E5ECF6\",\"aaxis\":{\"gridcolor\":\"white\",\"linecolor\":\"white\",\"ticks\":\"\"},\"baxis\":{\"gridcolor\":\"white\",\"linecolor\":\"white\",\"ticks\":\"\"},\"caxis\":{\"gridcolor\":\"white\",\"linecolor\":\"white\",\"ticks\":\"\"}},\"coloraxis\":{\"colorbar\":{\"outlinewidth\":0,\"ticks\":\"\"}},\"colorscale\":{\"sequential\":[[0.0,\"#0d0887\"],[0.1111111111111111,\"#46039f\"],[0.2222222222222222,\"#7201a8\"],[0.3333333333333333,\"#9c179e\"],[0.4444444444444444,\"#bd3786\"],[0.5555555555555556,\"#d8576b\"],[0.6666666666666666,\"#ed7953\"],[0.7777777777777778,\"#fb9f3a\"],[0.8888888888888888,\"#fdca26\"],[1.0,\"#f0f921\"]],\"sequentialminus\":[[0.0,\"#0d0887\"],[0.1111111111111111,\"#46039f\"],[0.2222222222222222,\"#7201a8\"],[0.3333333333333333,\"#9c179e\"],[0.4444444444444444,\"#bd3786\"],[0.5555555555555556,\"#d8576b\"],[0.6666666666666666,\"#ed7953\"],[0.7777777777777778,\"#fb9f3a\"],[0.8888888888888888,\"#fdca26\"],[1.0,\"#f0f921\"]],\"diverging\":[[0,\"#8e0152\"],[0.1,\"#c51b7d\"],[0.2,\"#de77ae\"],[0.3,\"#f1b6da\"],[0.4,\"#fde0ef\"],[0.5,\"#f7f7f7\"],[0.6,\"#e6f5d0\"],[0.7,\"#b8e186\"],[0.8,\"#7fbc41\"],[0.9,\"#4d9221\"],[1,\"#276419\"]]},\"xaxis\":{\"gridcolor\":\"white\",\"linecolor\":\"white\",\"ticks\":\"\",\"title\":{\"standoff\":15},\"zerolinecolor\":\"white\",\"automargin\":true,\"zerolinewidth\":2},\"yaxis\":{\"gridcolor\":\"white\",\"linecolor\":\"white\",\"ticks\":\"\",\"title\":{\"standoff\":15},\"zerolinecolor\":\"white\",\"automargin\":true,\"zerolinewidth\":2},\"scene\":{\"xaxis\":{\"backgroundcolor\":\"#E5ECF6\",\"gridcolor\":\"white\",\"linecolor\":\"white\",\"showbackground\":true,\"ticks\":\"\",\"zerolinecolor\":\"white\",\"gridwidth\":2},\"yaxis\":{\"backgroundcolor\":\"#E5ECF6\",\"gridcolor\":\"white\",\"linecolor\":\"white\",\"showbackground\":true,\"ticks\":\"\",\"zerolinecolor\":\"white\",\"gridwidth\":2},\"zaxis\":{\"backgroundcolor\":\"#E5ECF6\",\"gridcolor\":\"white\",\"linecolor\":\"white\",\"showbackground\":true,\"ticks\":\"\",\"zerolinecolor\":\"white\",\"gridwidth\":2}},\"shapedefaults\":{\"line\":{\"color\":\"#2a3f5f\"}},\"annotationdefaults\":{\"arrowcolor\":\"#2a3f5f\",\"arrowhead\":0,\"arrowwidth\":1},\"geo\":{\"bgcolor\":\"white\",\"landcolor\":\"#E5ECF6\",\"subunitcolor\":\"white\",\"showland\":true,\"showlakes\":true,\"lakecolor\":\"white\"},\"title\":{\"x\":0.05},\"mapbox\":{\"style\":\"light\"}}},\"xaxis\":{\"anchor\":\"y\",\"domain\":[0.0,1.0],\"title\":{\"text\":\"index\"}},\"yaxis\":{\"anchor\":\"x\",\"domain\":[0.0,1.0],\"title\":{\"text\":\"reading score\"}},\"legend\":{\"title\":{\"text\":\"gender\"},\"tracegroupgap\":0},\"margin\":{\"t\":60}},                        {\"responsive\": true}                    ).then(function(){\n",
       "                            \n",
       "var gd = document.getElementById('7c3bb735-b8bd-420a-b32e-c8cc4db333a0');\n",
       "var x = new MutationObserver(function (mutations, observer) {{\n",
       "        var display = window.getComputedStyle(gd).display;\n",
       "        if (!display || display === 'none') {{\n",
       "            console.log([gd, 'removed!']);\n",
       "            Plotly.purge(gd);\n",
       "            observer.disconnect();\n",
       "        }}\n",
       "}});\n",
       "\n",
       "// Listen for the removal of the full notebook cells\n",
       "var notebookContainer = gd.closest('#notebook-container');\n",
       "if (notebookContainer) {{\n",
       "    x.observe(notebookContainer, {childList: true});\n",
       "}}\n",
       "\n",
       "// Listen for the clearing of the current output cell\n",
       "var outputEl = gd.closest('.output');\n",
       "if (outputEl) {{\n",
       "    x.observe(outputEl, {childList: true});\n",
       "}}\n",
       "\n",
       "                        })                };                });            </script>        </div>"
      ]
     },
     "metadata": {},
     "output_type": "display_data"
    }
   ],
   "source": [
    "fig = px.line(df, y='reading score', color='gender')\n",
    "\n",
    "fig.show()"
   ]
  },
  {
   "cell_type": "code",
   "execution_count": 35,
   "id": "86ae65bd",
   "metadata": {
    "execution": {
     "iopub.execute_input": "2022-07-19T06:53:18.197228Z",
     "iopub.status.busy": "2022-07-19T06:53:18.196238Z",
     "iopub.status.idle": "2022-07-19T06:53:18.209474Z",
     "shell.execute_reply": "2022-07-19T06:53:18.208658Z"
    },
    "papermill": {
     "duration": 0.042583,
     "end_time": "2022-07-19T06:53:18.211419",
     "exception": false,
     "start_time": "2022-07-19T06:53:18.168836",
     "status": "completed"
    },
    "scrolled": true,
    "tags": []
   },
   "outputs": [
    {
     "data": {
      "text/html": [
       "<div>\n",
       "<style scoped>\n",
       "    .dataframe tbody tr th:only-of-type {\n",
       "        vertical-align: middle;\n",
       "    }\n",
       "\n",
       "    .dataframe tbody tr th {\n",
       "        vertical-align: top;\n",
       "    }\n",
       "\n",
       "    .dataframe thead th {\n",
       "        text-align: right;\n",
       "    }\n",
       "</style>\n",
       "<table border=\"1\" class=\"dataframe\">\n",
       "  <thead>\n",
       "    <tr style=\"text-align: right;\">\n",
       "      <th></th>\n",
       "      <th>gender</th>\n",
       "      <th>race/ethnicity</th>\n",
       "      <th>parental level of education</th>\n",
       "      <th>lunch</th>\n",
       "      <th>test preparation course</th>\n",
       "      <th>math score</th>\n",
       "      <th>reading score</th>\n",
       "      <th>writing score</th>\n",
       "    </tr>\n",
       "  </thead>\n",
       "  <tbody>\n",
       "    <tr>\n",
       "      <th>0</th>\n",
       "      <td>female</td>\n",
       "      <td>group B</td>\n",
       "      <td>bachelor's degree</td>\n",
       "      <td>standard</td>\n",
       "      <td>none</td>\n",
       "      <td>72</td>\n",
       "      <td>72</td>\n",
       "      <td>74</td>\n",
       "    </tr>\n",
       "    <tr>\n",
       "      <th>1</th>\n",
       "      <td>female</td>\n",
       "      <td>group C</td>\n",
       "      <td>some college</td>\n",
       "      <td>standard</td>\n",
       "      <td>completed</td>\n",
       "      <td>69</td>\n",
       "      <td>90</td>\n",
       "      <td>88</td>\n",
       "    </tr>\n",
       "    <tr>\n",
       "      <th>2</th>\n",
       "      <td>female</td>\n",
       "      <td>group B</td>\n",
       "      <td>master's degree</td>\n",
       "      <td>standard</td>\n",
       "      <td>none</td>\n",
       "      <td>90</td>\n",
       "      <td>95</td>\n",
       "      <td>93</td>\n",
       "    </tr>\n",
       "    <tr>\n",
       "      <th>3</th>\n",
       "      <td>male</td>\n",
       "      <td>group A</td>\n",
       "      <td>associate's degree</td>\n",
       "      <td>free/reduced</td>\n",
       "      <td>none</td>\n",
       "      <td>47</td>\n",
       "      <td>57</td>\n",
       "      <td>44</td>\n",
       "    </tr>\n",
       "    <tr>\n",
       "      <th>4</th>\n",
       "      <td>male</td>\n",
       "      <td>group C</td>\n",
       "      <td>some college</td>\n",
       "      <td>standard</td>\n",
       "      <td>none</td>\n",
       "      <td>76</td>\n",
       "      <td>78</td>\n",
       "      <td>75</td>\n",
       "    </tr>\n",
       "  </tbody>\n",
       "</table>\n",
       "</div>"
      ],
      "text/plain": [
       "   gender race/ethnicity parental level of education         lunch  \\\n",
       "0  female        group B           bachelor's degree      standard   \n",
       "1  female        group C                some college      standard   \n",
       "2  female        group B             master's degree      standard   \n",
       "3    male        group A          associate's degree  free/reduced   \n",
       "4    male        group C                some college      standard   \n",
       "\n",
       "  test preparation course  math score  reading score  writing score  \n",
       "0                    none          72             72             74  \n",
       "1               completed          69             90             88  \n",
       "2                    none          90             95             93  \n",
       "3                    none          47             57             44  \n",
       "4                    none          76             78             75  "
      ]
     },
     "execution_count": 35,
     "metadata": {},
     "output_type": "execute_result"
    }
   ],
   "source": [
    "df.head()"
   ]
  },
  {
   "cell_type": "markdown",
   "id": "bbf48987",
   "metadata": {
    "papermill": {
     "duration": 0.023973,
     "end_time": "2022-07-19T06:53:18.261175",
     "exception": false,
     "start_time": "2022-07-19T06:53:18.237202",
     "status": "completed"
    },
    "tags": []
   },
   "source": [
    "groups and their writing scores"
   ]
  },
  {
   "cell_type": "code",
   "execution_count": 36,
   "id": "f869922b",
   "metadata": {
    "execution": {
     "iopub.execute_input": "2022-07-19T06:53:18.312205Z",
     "iopub.status.busy": "2022-07-19T06:53:18.311089Z",
     "iopub.status.idle": "2022-07-19T06:53:18.389533Z",
     "shell.execute_reply": "2022-07-19T06:53:18.388678Z"
    },
    "papermill": {
     "duration": 0.106354,
     "end_time": "2022-07-19T06:53:18.391869",
     "exception": false,
     "start_time": "2022-07-19T06:53:18.285515",
     "status": "completed"
    },
    "tags": []
   },
   "outputs": [
    {
     "data": {
      "text/html": [
       "<div>                            <div id=\"54e1591e-e6a3-4d4e-9e02-953d2646ecde\" class=\"plotly-graph-div\" style=\"height:525px; width:100%;\"></div>            <script type=\"text/javascript\">                require([\"plotly\"], function(Plotly) {                    window.PLOTLYENV=window.PLOTLYENV || {};                                    if (document.getElementById(\"54e1591e-e6a3-4d4e-9e02-953d2646ecde\")) {                    Plotly.newPlot(                        \"54e1591e-e6a3-4d4e-9e02-953d2646ecde\",                        [{\"alignmentgroup\":\"True\",\"hovertemplate\":\"gender=female<br>writing score=%{x}<br>race/ethnicity=%{y}<extra></extra>\",\"legendgroup\":\"female\",\"marker\":{\"color\":\"#636efa\",\"pattern\":{\"shape\":\"\"}},\"name\":\"female\",\"offsetgroup\":\"female\",\"orientation\":\"h\",\"showlegend\":true,\"textposition\":\"auto\",\"x\":[74,88,93,78,92,50,73,58,78,28,61,70,73,75,75,74,61,65,83,59,88,68,65,54,62,76,76,87,43,86,10,71,59,74,57,73,48,72,68,50,82,88,74,67,82,74,92,70,62,62,89,72,100,70,72,98,54,100,82,79,61,65,89,93,86,51,84,67,71,64,54,33,81,66,88,78,87,85,91,100,78,78,70,81,70,54,87,58,77,62,100,66,47,70,87,69,66,85,55,76,86,77,68,76,66,60,88,39,74,62,73,54,71,94,83,74,83,55,68,62,83,70,70,68,78,81,77,51,90,81,77,95,70,58,71,93,75,80,84,78,46,82,75,81,83,67,52,80,69,75,91,63,84,79,80,53,43,94,51,95,66,27,60,63,74,75,95,69,80,57,70,70,69,89,59,58,32,58,85,70,96,73,82,100,77,83,45,43,75,70,67,64,77,77,63,95,67,55,100,62,68,77,56,74,79,93,64,67,80,62,70,50,79,80,69,76,77,85,97,74,62,89,100,76,91,91,38,85,90,74,84,61,91,83,70,56,54,74,76,70,90,90,68,52,76,68,82,92,92,54,80,87,62,94,85,84,73,78,79,84,43,47,70,73,53,94,83,62,79,89,66,97,64,50,33,79,70,79,74,80,100,78,56,64,71,89,58,68,96,80,78,80,77,76,73,62,65,65,73,99,72,73,81,63,30,80,82,54,62,65,66,74,93,72,38,54,62,55,81,85,81,88,73,90,79,80,81,65,68,55,81,76,98,74,79,67,58,69,67,60,71,87,68,76,84,78,66,76,76,74,44,100,53,78,81,73,56,86,90,70,79,82,72,67,64,58,85,99,74,87,99,74,70,88,77,84,80,94,57,73,56,82,72,59,85,92,65,64,54,63,72,77,75,72,79,55,70,43,82,57,84,82,62,44,77,32,61,60,70,51,73,81,57,95,87,78,75,40,67,83,64,68,88,92,93,82,52,70,76,81,57,89,89,74,79,73,46,36,64,68,63,93,96,81,53,87,80,76,61,80,74,70,71,54,80,95,74,91,85,73,69,38,79,82,74,41,100,84,91,72,82,66,66,55,66,52,80,46,65,71,51,57,96,61,58,60,73,83,72,69,100,59,64,53,100,75,72,67,80,100,60,61,67,77,94,23,91,82,51,45,83,78,76,74,95,65,77,86],\"xaxis\":\"x\",\"y\":[\"group B\",\"group C\",\"group B\",\"group B\",\"group B\",\"group B\",\"group B\",\"group A\",\"group C\",\"group B\",\"group C\",\"group B\",\"group C\",\"group C\",\"group D\",\"group D\",\"group B\",\"group E\",\"group D\",\"group D\",\"group D\",\"group C\",\"group B\",\"group E\",\"group A\",\"group C\",\"group D\",\"group C\",\"group C\",\"group E\",\"group C\",\"group C\",\"group D\",\"group C\",\"group C\",\"group D\",\"group A\",\"group D\",\"group E\",\"group B\",\"group C\",\"group C\",\"group D\",\"group A\",\"group D\",\"group C\",\"group B\",\"group E\",\"group D\",\"group D\",\"group D\",\"group C\",\"group D\",\"group B\",\"group B\",\"group D\",\"group D\",\"group E\",\"group B\",\"group D\",\"group D\",\"group C\",\"group C\",\"group C\",\"group B\",\"group A\",\"group C\",\"group C\",\"group D\",\"group C\",\"group E\",\"group C\",\"group D\",\"group B\",\"group C\",\"group E\",\"group B\",\"group E\",\"group E\",\"group C\",\"group B\",\"group B\",\"group C\",\"group D\",\"group C\",\"group C\",\"group C\",\"group B\",\"group C\",\"group B\",\"group D\",\"group C\",\"group E\",\"group D\",\"group C\",\"group E\",\"group B\",\"group C\",\"group B\",\"group B\",\"group C\",\"group D\",\"group B\",\"group B\",\"group B\",\"group C\",\"group E\",\"group C\",\"group D\",\"group C\",\"group B\",\"group E\",\"group C\",\"group C\",\"group B\",\"group D\",\"group E\",\"group D\",\"group B\",\"group B\",\"group D\",\"group B\",\"group E\",\"group C\",\"group B\",\"group C\",\"group C\",\"group C\",\"group E\",\"group C\",\"group D\",\"group D\",\"group E\",\"group D\",\"group D\",\"group C\",\"group E\",\"group C\",\"group D\",\"group D\",\"group B\",\"group B\",\"group E\",\"group C\",\"group C\",\"group B\",\"group D\",\"group B\",\"group C\",\"group C\",\"group D\",\"group D\",\"group C\",\"group E\",\"group C\",\"group C\",\"group C\",\"group C\",\"group B\",\"group C\",\"group B\",\"group B\",\"group D\",\"group C\",\"group B\",\"group C\",\"group C\",\"group B\",\"group C\",\"group C\",\"group C\",\"group B\",\"group C\",\"group D\",\"group B\",\"group C\",\"group D\",\"group A\",\"group D\",\"group C\",\"group D\",\"group D\",\"group D\",\"group D\",\"group A\",\"group B\",\"group E\",\"group A\",\"group E\",\"group E\",\"group C\",\"group D\",\"group D\",\"group C\",\"group B\",\"group C\",\"group C\",\"group A\",\"group D\",\"group C\",\"group C\",\"group B\",\"group D\",\"group D\",\"group C\",\"group C\",\"group D\",\"group D\",\"group A\",\"group C\",\"group C\",\"group A\",\"group C\",\"group D\",\"group A\",\"group B\",\"group C\",\"group C\",\"group E\",\"group C\",\"group C\",\"group D\",\"group E\",\"group E\",\"group C\",\"group C\",\"group D\",\"group A\",\"group C\",\"group C\",\"group C\",\"group D\",\"group B\",\"group D\",\"group D\",\"group D\",\"group B\",\"group C\",\"group A\",\"group C\",\"group C\",\"group C\",\"group B\",\"group C\",\"group D\",\"group B\",\"group D\",\"group B\",\"group E\",\"group D\",\"group B\",\"group C\",\"group B\",\"group B\",\"group C\",\"group D\",\"group E\",\"group D\",\"group B\",\"group C\",\"group C\",\"group D\",\"group C\",\"group C\",\"group C\",\"group E\",\"group C\",\"group D\",\"group C\",\"group D\",\"group D\",\"group A\",\"group C\",\"group B\",\"group C\",\"group C\",\"group B\",\"group D\",\"group C\",\"group D\",\"group E\",\"group D\",\"group C\",\"group C\",\"group E\",\"group B\",\"group B\",\"group D\",\"group D\",\"group E\",\"group D\",\"group D\",\"group D\",\"group C\",\"group A\",\"group C\",\"group C\",\"group A\",\"group E\",\"group C\",\"group C\",\"group D\",\"group D\",\"group D\",\"group C\",\"group E\",\"group C\",\"group C\",\"group E\",\"group B\",\"group C\",\"group C\",\"group A\",\"group C\",\"group E\",\"group C\",\"group E\",\"group C\",\"group B\",\"group C\",\"group B\",\"group D\",\"group D\",\"group D\",\"group B\",\"group E\",\"group B\",\"group D\",\"group E\",\"group B\",\"group D\",\"group A\",\"group D\",\"group A\",\"group B\",\"group B\",\"group D\",\"group D\",\"group C\",\"group C\",\"group C\",\"group B\",\"group C\",\"group C\",\"group C\",\"group D\",\"group B\",\"group E\",\"group C\",\"group D\",\"group C\",\"group E\",\"group C\",\"group E\",\"group C\",\"group D\",\"group C\",\"group D\",\"group C\",\"group A\",\"group D\",\"group E\",\"group B\",\"group D\",\"group B\",\"group D\",\"group E\",\"group D\",\"group B\",\"group B\",\"group C\",\"group C\",\"group C\",\"group B\",\"group E\",\"group D\",\"group B\",\"group C\",\"group E\",\"group B\",\"group A\",\"group C\",\"group C\",\"group C\",\"group C\",\"group E\",\"group D\",\"group C\",\"group D\",\"group B\",\"group B\",\"group C\",\"group D\",\"group B\",\"group C\",\"group B\",\"group B\",\"group C\",\"group A\",\"group D\",\"group B\",\"group B\",\"group C\",\"group B\",\"group E\",\"group B\",\"group C\",\"group B\",\"group D\",\"group B\",\"group E\",\"group E\",\"group C\",\"group E\",\"group B\",\"group C\",\"group D\",\"group E\",\"group C\",\"group C\",\"group A\",\"group B\",\"group C\",\"group A\",\"group D\",\"group B\",\"group C\",\"group C\",\"group C\",\"group D\",\"group A\",\"group C\",\"group B\",\"group C\",\"group A\",\"group C\",\"group D\",\"group B\",\"group D\",\"group C\",\"group A\",\"group E\",\"group B\",\"group C\",\"group C\",\"group E\",\"group C\",\"group C\",\"group C\",\"group D\",\"group D\",\"group E\",\"group B\",\"group E\",\"group C\",\"group E\",\"group D\",\"group E\",\"group E\",\"group A\",\"group E\",\"group E\",\"group B\",\"group D\",\"group C\",\"group A\",\"group D\",\"group D\",\"group D\",\"group C\",\"group A\",\"group C\",\"group C\",\"group B\",\"group E\",\"group C\",\"group C\",\"group C\",\"group B\",\"group D\",\"group C\",\"group E\",\"group D\",\"group B\",\"group C\",\"group D\",\"group E\",\"group D\",\"group E\",\"group C\",\"group D\",\"group D\",\"group A\",\"group D\",\"group E\",\"group C\",\"group D\",\"group E\",\"group B\",\"group D\",\"group A\",\"group D\",\"group A\",\"group C\",\"group C\",\"group B\",\"group A\",\"group C\",\"group C\",\"group A\",\"group D\",\"group B\",\"group D\",\"group D\",\"group E\",\"group C\",\"group D\",\"group D\"],\"yaxis\":\"y\",\"type\":\"bar\"},{\"alignmentgroup\":\"True\",\"hovertemplate\":\"gender=male<br>writing score=%{x}<br>race/ethnicity=%{y}<extra></extra>\",\"legendgroup\":\"male\",\"marker\":{\"color\":\"#EF553B\",\"pattern\":{\"shape\":\"\"}},\"name\":\"male\",\"offsetgroup\":\"male\",\"orientation\":\"h\",\"showlegend\":true,\"textposition\":\"auto\",\"x\":[44,75,39,67,52,43,70,86,46,63,53,80,72,55,65,38,82,79,57,54,66,57,82,48,68,42,75,49,58,72,34,55,61,37,56,63,56,41,38,22,81,45,54,63,34,36,71,50,82,62,67,74,47,90,64,49,47,74,92,56,73,67,74,74,82,40,70,75,48,41,56,69,47,78,75,66,93,69,68,47,61,60,64,74,52,49,51,74,78,75,49,65,65,68,45,79,62,52,65,51,69,42,78,62,76,79,27,56,81,75,70,56,73,75,54,64,66,42,78,84,77,67,51,80,66,43,69,71,74,53,49,72,52,77,78,68,41,61,42,76,73,57,42,46,82,88,76,77,68,70,57,80,60,43,68,50,75,81,52,64,69,81,44,57,68,65,78,69,62,19,77,61,35,53,81,69,43,52,67,67,57,66,76,52,61,61,78,58,60,53,61,71,72,41,62,95,71,75,59,67,56,41,57,54,43,63,85,78,60,67,69,68,67,62,54,34,86,65,53,54,59,55,66,53,64,73,51,82,73,60,80,42,72,49,47,48,68,55,45,62,65,76,66,72,67,68,61,46,71,56,57,82,66,72,54,66,54,77,73,43,52,52,57,50,49,59,60,58,68,58,71,86,68,80,80,64,69,65,88,64,40,66,62,92,46,45,47,67,70,92,53,52,54,50,64,15,48,51,90,62,63,91,83,84,68,56,52,86,99,63,46,46,70,65,80,64,74,51,60,53,64,61,85,73,63,63,61,77,50,78,60,60,54,68,68,73,44,83,59,87,65,36,52,79,90,84,72,80,59,42,41,71,57,37,43,44,59,84,73,55,72,47,74,71,68,86,68,65,75,53,52,72,77,86,59,60,57,49,74,60,82,79,61,69,77,70,54,68,73,74,69,51,36,49,76,87,76,51,58,53,58,45,57,53,51,76,84,85,50,69,67,61,55,65,46,72,38,91,88,52,41,72,51,47,78,82,66,84,54,66,44,59,48,75,27,63,89,77,51,70,48,100,91,67,66,69,60,52,44,70,62,73,74,90,58,53,85,69,72,64,61,80,52,71,54,62,81,71,58,64,60,69,60,58,48,78,86,54,76,75,62,55],\"xaxis\":\"x\",\"y\":[\"group A\",\"group C\",\"group B\",\"group D\",\"group C\",\"group D\",\"group A\",\"group C\",\"group C\",\"group D\",\"group D\",\"group D\",\"group A\",\"group B\",\"group C\",\"group D\",\"group E\",\"group E\",\"group B\",\"group C\",\"group B\",\"group B\",\"group C\",\"group E\",\"group E\",\"group C\",\"group D\",\"group D\",\"group D\",\"group E\",\"group A\",\"group A\",\"group B\",\"group D\",\"group B\",\"group D\",\"group C\",\"group C\",\"group B\",\"group E\",\"group A\",\"group B\",\"group A\",\"group E\",\"group D\",\"group C\",\"group C\",\"group C\",\"group C\",\"group B\",\"group B\",\"group D\",\"group B\",\"group C\",\"group E\",\"group C\",\"group A\",\"group C\",\"group B\",\"group D\",\"group E\",\"group B\",\"group D\",\"group D\",\"group D\",\"group C\",\"group E\",\"group D\",\"group C\",\"group B\",\"group E\",\"group D\",\"group A\",\"group D\",\"group B\",\"group C\",\"group E\",\"group A\",\"group A\",\"group D\",\"group D\",\"group B\",\"group D\",\"group B\",\"group B\",\"group C\",\"group C\",\"group A\",\"group E\",\"group C\",\"group C\",\"group C\",\"group E\",\"group D\",\"group B\",\"group D\",\"group D\",\"group D\",\"group C\",\"group E\",\"group C\",\"group C\",\"group D\",\"group E\",\"group E\",\"group D\",\"group C\",\"group C\",\"group E\",\"group B\",\"group B\",\"group B\",\"group B\",\"group D\",\"group D\",\"group A\",\"group D\",\"group C\",\"group E\",\"group C\",\"group D\",\"group D\",\"group B\",\"group C\",\"group D\",\"group E\",\"group D\",\"group C\",\"group E\",\"group C\",\"group A\",\"group D\",\"group D\",\"group C\",\"group C\",\"group D\",\"group D\",\"group C\",\"group C\",\"group B\",\"group C\",\"group B\",\"group D\",\"group D\",\"group B\",\"group E\",\"group B\",\"group E\",\"group C\",\"group D\",\"group C\",\"group D\",\"group B\",\"group A\",\"group E\",\"group C\",\"group D\",\"group A\",\"group D\",\"group B\",\"group A\",\"group E\",\"group C\",\"group B\",\"group D\",\"group C\",\"group C\",\"group B\",\"group C\",\"group A\",\"group C\",\"group C\",\"group C\",\"group E\",\"group B\",\"group D\",\"group C\",\"group C\",\"group D\",\"group D\",\"group B\",\"group D\",\"group E\",\"group E\",\"group A\",\"group D\",\"group B\",\"group C\",\"group A\",\"group C\",\"group C\",\"group E\",\"group D\",\"group E\",\"group A\",\"group C\",\"group C\",\"group D\",\"group E\",\"group E\",\"group C\",\"group A\",\"group B\",\"group D\",\"group A\",\"group B\",\"group D\",\"group E\",\"group D\",\"group B\",\"group E\",\"group C\",\"group C\",\"group D\",\"group E\",\"group B\",\"group C\",\"group C\",\"group A\",\"group C\",\"group C\",\"group C\",\"group C\",\"group C\",\"group D\",\"group D\",\"group C\",\"group D\",\"group A\",\"group D\",\"group C\",\"group B\",\"group B\",\"group C\",\"group C\",\"group D\",\"group B\",\"group C\",\"group B\",\"group A\",\"group A\",\"group C\",\"group E\",\"group D\",\"group E\",\"group B\",\"group C\",\"group A\",\"group C\",\"group D\",\"group B\",\"group A\",\"group D\",\"group E\",\"group C\",\"group A\",\"group B\",\"group C\",\"group D\",\"group A\",\"group D\",\"group D\",\"group D\",\"group C\",\"group C\",\"group E\",\"group C\",\"group E\",\"group B\",\"group C\",\"group E\",\"group A\",\"group C\",\"group D\",\"group E\",\"group C\",\"group C\",\"group C\",\"group B\",\"group D\",\"group E\",\"group C\",\"group D\",\"group C\",\"group B\",\"group B\",\"group B\",\"group D\",\"group B\",\"group A\",\"group A\",\"group A\",\"group C\",\"group A\",\"group E\",\"group B\",\"group A\",\"group D\",\"group D\",\"group C\",\"group D\",\"group C\",\"group D\",\"group D\",\"group C\",\"group B\",\"group C\",\"group A\",\"group D\",\"group B\",\"group D\",\"group D\",\"group D\",\"group B\",\"group D\",\"group A\",\"group E\",\"group D\",\"group B\",\"group C\",\"group C\",\"group D\",\"group D\",\"group C\",\"group C\",\"group D\",\"group C\",\"group D\",\"group D\",\"group D\",\"group D\",\"group B\",\"group B\",\"group B\",\"group E\",\"group D\",\"group A\",\"group E\",\"group C\",\"group A\",\"group A\",\"group D\",\"group C\",\"group D\",\"group C\",\"group D\",\"group C\",\"group E\",\"group D\",\"group C\",\"group B\",\"group E\",\"group E\",\"group C\",\"group A\",\"group D\",\"group C\",\"group C\",\"group D\",\"group C\",\"group D\",\"group B\",\"group D\",\"group D\",\"group C\",\"group B\",\"group D\",\"group E\",\"group C\",\"group C\",\"group D\",\"group E\",\"group B\",\"group D\",\"group D\",\"group B\",\"group A\",\"group B\",\"group D\",\"group B\",\"group E\",\"group C\",\"group C\",\"group D\",\"group E\",\"group D\",\"group E\",\"group C\",\"group C\",\"group A\",\"group C\",\"group B\",\"group A\",\"group A\",\"group E\",\"group B\",\"group D\",\"group E\",\"group C\",\"group B\",\"group A\",\"group B\",\"group E\",\"group B\",\"group C\",\"group B\",\"group E\",\"group C\",\"group D\",\"group D\",\"group C\",\"group E\",\"group C\",\"group B\",\"group B\",\"group C\",\"group D\",\"group C\",\"group D\",\"group C\",\"group B\",\"group E\",\"group C\",\"group B\",\"group B\",\"group E\",\"group C\",\"group D\",\"group C\",\"group C\",\"group D\",\"group C\",\"group D\",\"group D\",\"group B\",\"group D\",\"group D\",\"group D\",\"group B\",\"group E\",\"group D\",\"group E\",\"group B\",\"group D\",\"group D\",\"group D\",\"group E\",\"group E\",\"group E\",\"group C\",\"group D\",\"group D\",\"group C\",\"group C\",\"group D\",\"group A\",\"group D\",\"group D\",\"group C\",\"group C\",\"group A\",\"group B\",\"group B\",\"group E\",\"group C\",\"group E\",\"group C\",\"group C\",\"group D\",\"group A\",\"group C\",\"group C\",\"group B\",\"group C\",\"group D\",\"group D\",\"group B\",\"group A\",\"group E\",\"group E\",\"group A\",\"group C\"],\"yaxis\":\"y\",\"type\":\"bar\"}],                        {\"template\":{\"data\":{\"histogram2dcontour\":[{\"type\":\"histogram2dcontour\",\"colorbar\":{\"outlinewidth\":0,\"ticks\":\"\"},\"colorscale\":[[0.0,\"#0d0887\"],[0.1111111111111111,\"#46039f\"],[0.2222222222222222,\"#7201a8\"],[0.3333333333333333,\"#9c179e\"],[0.4444444444444444,\"#bd3786\"],[0.5555555555555556,\"#d8576b\"],[0.6666666666666666,\"#ed7953\"],[0.7777777777777778,\"#fb9f3a\"],[0.8888888888888888,\"#fdca26\"],[1.0,\"#f0f921\"]]}],\"choropleth\":[{\"type\":\"choropleth\",\"colorbar\":{\"outlinewidth\":0,\"ticks\":\"\"}}],\"histogram2d\":[{\"type\":\"histogram2d\",\"colorbar\":{\"outlinewidth\":0,\"ticks\":\"\"},\"colorscale\":[[0.0,\"#0d0887\"],[0.1111111111111111,\"#46039f\"],[0.2222222222222222,\"#7201a8\"],[0.3333333333333333,\"#9c179e\"],[0.4444444444444444,\"#bd3786\"],[0.5555555555555556,\"#d8576b\"],[0.6666666666666666,\"#ed7953\"],[0.7777777777777778,\"#fb9f3a\"],[0.8888888888888888,\"#fdca26\"],[1.0,\"#f0f921\"]]}],\"heatmap\":[{\"type\":\"heatmap\",\"colorbar\":{\"outlinewidth\":0,\"ticks\":\"\"},\"colorscale\":[[0.0,\"#0d0887\"],[0.1111111111111111,\"#46039f\"],[0.2222222222222222,\"#7201a8\"],[0.3333333333333333,\"#9c179e\"],[0.4444444444444444,\"#bd3786\"],[0.5555555555555556,\"#d8576b\"],[0.6666666666666666,\"#ed7953\"],[0.7777777777777778,\"#fb9f3a\"],[0.8888888888888888,\"#fdca26\"],[1.0,\"#f0f921\"]]}],\"heatmapgl\":[{\"type\":\"heatmapgl\",\"colorbar\":{\"outlinewidth\":0,\"ticks\":\"\"},\"colorscale\":[[0.0,\"#0d0887\"],[0.1111111111111111,\"#46039f\"],[0.2222222222222222,\"#7201a8\"],[0.3333333333333333,\"#9c179e\"],[0.4444444444444444,\"#bd3786\"],[0.5555555555555556,\"#d8576b\"],[0.6666666666666666,\"#ed7953\"],[0.7777777777777778,\"#fb9f3a\"],[0.8888888888888888,\"#fdca26\"],[1.0,\"#f0f921\"]]}],\"contourcarpet\":[{\"type\":\"contourcarpet\",\"colorbar\":{\"outlinewidth\":0,\"ticks\":\"\"}}],\"contour\":[{\"type\":\"contour\",\"colorbar\":{\"outlinewidth\":0,\"ticks\":\"\"},\"colorscale\":[[0.0,\"#0d0887\"],[0.1111111111111111,\"#46039f\"],[0.2222222222222222,\"#7201a8\"],[0.3333333333333333,\"#9c179e\"],[0.4444444444444444,\"#bd3786\"],[0.5555555555555556,\"#d8576b\"],[0.6666666666666666,\"#ed7953\"],[0.7777777777777778,\"#fb9f3a\"],[0.8888888888888888,\"#fdca26\"],[1.0,\"#f0f921\"]]}],\"surface\":[{\"type\":\"surface\",\"colorbar\":{\"outlinewidth\":0,\"ticks\":\"\"},\"colorscale\":[[0.0,\"#0d0887\"],[0.1111111111111111,\"#46039f\"],[0.2222222222222222,\"#7201a8\"],[0.3333333333333333,\"#9c179e\"],[0.4444444444444444,\"#bd3786\"],[0.5555555555555556,\"#d8576b\"],[0.6666666666666666,\"#ed7953\"],[0.7777777777777778,\"#fb9f3a\"],[0.8888888888888888,\"#fdca26\"],[1.0,\"#f0f921\"]]}],\"mesh3d\":[{\"type\":\"mesh3d\",\"colorbar\":{\"outlinewidth\":0,\"ticks\":\"\"}}],\"scatter\":[{\"fillpattern\":{\"fillmode\":\"overlay\",\"size\":10,\"solidity\":0.2},\"type\":\"scatter\"}],\"parcoords\":[{\"type\":\"parcoords\",\"line\":{\"colorbar\":{\"outlinewidth\":0,\"ticks\":\"\"}}}],\"scatterpolargl\":[{\"type\":\"scatterpolargl\",\"marker\":{\"colorbar\":{\"outlinewidth\":0,\"ticks\":\"\"}}}],\"bar\":[{\"error_x\":{\"color\":\"#2a3f5f\"},\"error_y\":{\"color\":\"#2a3f5f\"},\"marker\":{\"line\":{\"color\":\"#E5ECF6\",\"width\":0.5},\"pattern\":{\"fillmode\":\"overlay\",\"size\":10,\"solidity\":0.2}},\"type\":\"bar\"}],\"scattergeo\":[{\"type\":\"scattergeo\",\"marker\":{\"colorbar\":{\"outlinewidth\":0,\"ticks\":\"\"}}}],\"scatterpolar\":[{\"type\":\"scatterpolar\",\"marker\":{\"colorbar\":{\"outlinewidth\":0,\"ticks\":\"\"}}}],\"histogram\":[{\"marker\":{\"pattern\":{\"fillmode\":\"overlay\",\"size\":10,\"solidity\":0.2}},\"type\":\"histogram\"}],\"scattergl\":[{\"type\":\"scattergl\",\"marker\":{\"colorbar\":{\"outlinewidth\":0,\"ticks\":\"\"}}}],\"scatter3d\":[{\"type\":\"scatter3d\",\"line\":{\"colorbar\":{\"outlinewidth\":0,\"ticks\":\"\"}},\"marker\":{\"colorbar\":{\"outlinewidth\":0,\"ticks\":\"\"}}}],\"scattermapbox\":[{\"type\":\"scattermapbox\",\"marker\":{\"colorbar\":{\"outlinewidth\":0,\"ticks\":\"\"}}}],\"scatterternary\":[{\"type\":\"scatterternary\",\"marker\":{\"colorbar\":{\"outlinewidth\":0,\"ticks\":\"\"}}}],\"scattercarpet\":[{\"type\":\"scattercarpet\",\"marker\":{\"colorbar\":{\"outlinewidth\":0,\"ticks\":\"\"}}}],\"carpet\":[{\"aaxis\":{\"endlinecolor\":\"#2a3f5f\",\"gridcolor\":\"white\",\"linecolor\":\"white\",\"minorgridcolor\":\"white\",\"startlinecolor\":\"#2a3f5f\"},\"baxis\":{\"endlinecolor\":\"#2a3f5f\",\"gridcolor\":\"white\",\"linecolor\":\"white\",\"minorgridcolor\":\"white\",\"startlinecolor\":\"#2a3f5f\"},\"type\":\"carpet\"}],\"table\":[{\"cells\":{\"fill\":{\"color\":\"#EBF0F8\"},\"line\":{\"color\":\"white\"}},\"header\":{\"fill\":{\"color\":\"#C8D4E3\"},\"line\":{\"color\":\"white\"}},\"type\":\"table\"}],\"barpolar\":[{\"marker\":{\"line\":{\"color\":\"#E5ECF6\",\"width\":0.5},\"pattern\":{\"fillmode\":\"overlay\",\"size\":10,\"solidity\":0.2}},\"type\":\"barpolar\"}],\"pie\":[{\"automargin\":true,\"type\":\"pie\"}]},\"layout\":{\"autotypenumbers\":\"strict\",\"colorway\":[\"#636efa\",\"#EF553B\",\"#00cc96\",\"#ab63fa\",\"#FFA15A\",\"#19d3f3\",\"#FF6692\",\"#B6E880\",\"#FF97FF\",\"#FECB52\"],\"font\":{\"color\":\"#2a3f5f\"},\"hovermode\":\"closest\",\"hoverlabel\":{\"align\":\"left\"},\"paper_bgcolor\":\"white\",\"plot_bgcolor\":\"#E5ECF6\",\"polar\":{\"bgcolor\":\"#E5ECF6\",\"angularaxis\":{\"gridcolor\":\"white\",\"linecolor\":\"white\",\"ticks\":\"\"},\"radialaxis\":{\"gridcolor\":\"white\",\"linecolor\":\"white\",\"ticks\":\"\"}},\"ternary\":{\"bgcolor\":\"#E5ECF6\",\"aaxis\":{\"gridcolor\":\"white\",\"linecolor\":\"white\",\"ticks\":\"\"},\"baxis\":{\"gridcolor\":\"white\",\"linecolor\":\"white\",\"ticks\":\"\"},\"caxis\":{\"gridcolor\":\"white\",\"linecolor\":\"white\",\"ticks\":\"\"}},\"coloraxis\":{\"colorbar\":{\"outlinewidth\":0,\"ticks\":\"\"}},\"colorscale\":{\"sequential\":[[0.0,\"#0d0887\"],[0.1111111111111111,\"#46039f\"],[0.2222222222222222,\"#7201a8\"],[0.3333333333333333,\"#9c179e\"],[0.4444444444444444,\"#bd3786\"],[0.5555555555555556,\"#d8576b\"],[0.6666666666666666,\"#ed7953\"],[0.7777777777777778,\"#fb9f3a\"],[0.8888888888888888,\"#fdca26\"],[1.0,\"#f0f921\"]],\"sequentialminus\":[[0.0,\"#0d0887\"],[0.1111111111111111,\"#46039f\"],[0.2222222222222222,\"#7201a8\"],[0.3333333333333333,\"#9c179e\"],[0.4444444444444444,\"#bd3786\"],[0.5555555555555556,\"#d8576b\"],[0.6666666666666666,\"#ed7953\"],[0.7777777777777778,\"#fb9f3a\"],[0.8888888888888888,\"#fdca26\"],[1.0,\"#f0f921\"]],\"diverging\":[[0,\"#8e0152\"],[0.1,\"#c51b7d\"],[0.2,\"#de77ae\"],[0.3,\"#f1b6da\"],[0.4,\"#fde0ef\"],[0.5,\"#f7f7f7\"],[0.6,\"#e6f5d0\"],[0.7,\"#b8e186\"],[0.8,\"#7fbc41\"],[0.9,\"#4d9221\"],[1,\"#276419\"]]},\"xaxis\":{\"gridcolor\":\"white\",\"linecolor\":\"white\",\"ticks\":\"\",\"title\":{\"standoff\":15},\"zerolinecolor\":\"white\",\"automargin\":true,\"zerolinewidth\":2},\"yaxis\":{\"gridcolor\":\"white\",\"linecolor\":\"white\",\"ticks\":\"\",\"title\":{\"standoff\":15},\"zerolinecolor\":\"white\",\"automargin\":true,\"zerolinewidth\":2},\"scene\":{\"xaxis\":{\"backgroundcolor\":\"#E5ECF6\",\"gridcolor\":\"white\",\"linecolor\":\"white\",\"showbackground\":true,\"ticks\":\"\",\"zerolinecolor\":\"white\",\"gridwidth\":2},\"yaxis\":{\"backgroundcolor\":\"#E5ECF6\",\"gridcolor\":\"white\",\"linecolor\":\"white\",\"showbackground\":true,\"ticks\":\"\",\"zerolinecolor\":\"white\",\"gridwidth\":2},\"zaxis\":{\"backgroundcolor\":\"#E5ECF6\",\"gridcolor\":\"white\",\"linecolor\":\"white\",\"showbackground\":true,\"ticks\":\"\",\"zerolinecolor\":\"white\",\"gridwidth\":2}},\"shapedefaults\":{\"line\":{\"color\":\"#2a3f5f\"}},\"annotationdefaults\":{\"arrowcolor\":\"#2a3f5f\",\"arrowhead\":0,\"arrowwidth\":1},\"geo\":{\"bgcolor\":\"white\",\"landcolor\":\"#E5ECF6\",\"subunitcolor\":\"white\",\"showland\":true,\"showlakes\":true,\"lakecolor\":\"white\"},\"title\":{\"x\":0.05},\"mapbox\":{\"style\":\"light\"}}},\"xaxis\":{\"anchor\":\"y\",\"domain\":[0.0,1.0],\"title\":{\"text\":\"writing score\"}},\"yaxis\":{\"anchor\":\"x\",\"domain\":[0.0,1.0],\"title\":{\"text\":\"race/ethnicity\"}},\"legend\":{\"title\":{\"text\":\"gender\"},\"tracegroupgap\":0},\"margin\":{\"t\":60},\"barmode\":\"relative\"},                        {\"responsive\": true}                    ).then(function(){\n",
       "                            \n",
       "var gd = document.getElementById('54e1591e-e6a3-4d4e-9e02-953d2646ecde');\n",
       "var x = new MutationObserver(function (mutations, observer) {{\n",
       "        var display = window.getComputedStyle(gd).display;\n",
       "        if (!display || display === 'none') {{\n",
       "            console.log([gd, 'removed!']);\n",
       "            Plotly.purge(gd);\n",
       "            observer.disconnect();\n",
       "        }}\n",
       "}});\n",
       "\n",
       "// Listen for the removal of the full notebook cells\n",
       "var notebookContainer = gd.closest('#notebook-container');\n",
       "if (notebookContainer) {{\n",
       "    x.observe(notebookContainer, {childList: true});\n",
       "}}\n",
       "\n",
       "// Listen for the clearing of the current output cell\n",
       "var outputEl = gd.closest('.output');\n",
       "if (outputEl) {{\n",
       "    x.observe(outputEl, {childList: true});\n",
       "}}\n",
       "\n",
       "                        })                };                });            </script>        </div>"
      ]
     },
     "metadata": {},
     "output_type": "display_data"
    }
   ],
   "source": [
    "fig = px.bar(df, x='writing score', y='race/ethnicity', color='gender')\n",
    "\n",
    "fig.show()"
   ]
  },
  {
   "cell_type": "markdown",
   "id": "844305b7",
   "metadata": {
    "papermill": {
     "duration": 0.025195,
     "end_time": "2022-07-19T06:53:18.443028",
     "exception": false,
     "start_time": "2022-07-19T06:53:18.417833",
     "status": "completed"
    },
    "tags": []
   },
   "source": [
    "level of education for gender"
   ]
  },
  {
   "cell_type": "code",
   "execution_count": 37,
   "id": "02c2f02f",
   "metadata": {
    "execution": {
     "iopub.execute_input": "2022-07-19T06:53:18.496368Z",
     "iopub.status.busy": "2022-07-19T06:53:18.495150Z",
     "iopub.status.idle": "2022-07-19T06:53:18.737196Z",
     "shell.execute_reply": "2022-07-19T06:53:18.736040Z"
    },
    "papermill": {
     "duration": 0.270974,
     "end_time": "2022-07-19T06:53:18.739530",
     "exception": false,
     "start_time": "2022-07-19T06:53:18.468556",
     "status": "completed"
    },
    "tags": []
   },
   "outputs": [
    {
     "data": {
      "image/png": "[encoded data removed]",
      "text/plain": [
       "<Figure size 864x648 with 1 Axes>"
      ]
     },
     "metadata": {
      "needs_background": "light"
     },
     "output_type": "display_data"
    }
   ],
   "source": [
    "sns.set_palette('dark')\n",
    "plt.figure(figsize=(12,9))\n",
    "sns.countplot(x='parental level of education', hue='gender', data=df)\n",
    "plt.xticks(rotation=90)\n",
    "plt.show()"
   ]
  },
  {
   "cell_type": "code",
   "execution_count": 38,
   "id": "65b84696",
   "metadata": {
    "execution": {
     "iopub.execute_input": "2022-07-19T06:53:18.793270Z",
     "iopub.status.busy": "2022-07-19T06:53:18.792269Z",
     "iopub.status.idle": "2022-07-19T06:53:19.101885Z",
     "shell.execute_reply": "2022-07-19T06:53:19.100557Z"
    },
    "papermill": {
     "duration": 0.339043,
     "end_time": "2022-07-19T06:53:19.104456",
     "exception": false,
     "start_time": "2022-07-19T06:53:18.765413",
     "status": "completed"
    },
    "tags": []
   },
   "outputs": [
    {
     "data": {
      "image/png": "[encoded data removed]",
      "text/plain": [
       "<Figure size 432x288 with 1 Axes>"
      ]
     },
     "metadata": {
      "needs_background": "light"
     },
     "output_type": "display_data"
    }
   ],
   "source": [
    "sns.set_palette('pastel')\n",
    "sns.barplot(y='race/ethnicity',x='math score',data=df)\n",
    "plt.title('math scores of groups')\n",
    "plt.xlabel('math score')\n",
    "plt.ylabel('groups')\n",
    "plt.xticks(rotation=90)\n",
    "plt.show()"
   ]
  },
  {
   "cell_type": "code",
   "execution_count": 39,
   "id": "3bbae744",
   "metadata": {
    "execution": {
     "iopub.execute_input": "2022-07-19T06:53:19.157634Z",
     "iopub.status.busy": "2022-07-19T06:53:19.157199Z",
     "iopub.status.idle": "2022-07-19T06:53:19.347259Z",
     "shell.execute_reply": "2022-07-19T06:53:19.346426Z"
    },
    "papermill": {
     "duration": 0.21947,
     "end_time": "2022-07-19T06:53:19.349749",
     "exception": false,
     "start_time": "2022-07-19T06:53:19.130279",
     "status": "completed"
    },
    "tags": []
   },
   "outputs": [
    {
     "data": {
      "image/png": "[encoded data removed]",
      "text/plain": [
       "<Figure size 432x288 with 1 Axes>"
      ]
     },
     "metadata": {
      "needs_background": "light"
     },
     "output_type": "display_data"
    }
   ],
   "source": [
    "df.plot(x=\"reading score\", y=\"math score\", kind=\"scatter\")\n",
    "plt.title('reading and math score matching')\n",
    "plt.show() "
   ]
  },
  {
   "cell_type": "code",
   "execution_count": 40,
   "id": "ff678740",
   "metadata": {
    "execution": {
     "iopub.execute_input": "2022-07-19T06:53:19.404407Z",
     "iopub.status.busy": "2022-07-19T06:53:19.403725Z",
     "iopub.status.idle": "2022-07-19T06:53:19.411423Z",
     "shell.execute_reply": "2022-07-19T06:53:19.409726Z"
    },
    "papermill": {
     "duration": 0.037551,
     "end_time": "2022-07-19T06:53:19.413940",
     "exception": false,
     "start_time": "2022-07-19T06:53:19.376389",
     "status": "completed"
    },
    "tags": []
   },
   "outputs": [
    {
     "name": "stdout",
     "output_type": "stream",
     "text": [
      "female    518\n",
      "male      482\n",
      "Name: gender, dtype: int64\n"
     ]
    }
   ],
   "source": [
    "gender=df['gender'].value_counts()\n",
    "print(gender)"
   ]
  },
  {
   "cell_type": "code",
   "execution_count": 41,
   "id": "7b08ff8a",
   "metadata": {
    "execution": {
     "iopub.execute_input": "2022-07-19T06:53:19.467364Z",
     "iopub.status.busy": "2022-07-19T06:53:19.466971Z",
     "iopub.status.idle": "2022-07-19T06:53:19.571634Z",
     "shell.execute_reply": "2022-07-19T06:53:19.569972Z"
    },
    "papermill": {
     "duration": 0.134768,
     "end_time": "2022-07-19T06:53:19.574572",
     "exception": false,
     "start_time": "2022-07-19T06:53:19.439804",
     "status": "completed"
    },
    "tags": []
   },
   "outputs": [
    {
     "data": {
      "image/png": "[encoded data removed]",
      "text/plain": [
       "<Figure size 864x432 with 1 Axes>"
      ]
     },
     "metadata": {},
     "output_type": "display_data"
    }
   ],
   "source": [
    "labels=gender.index\n",
    "sizes=gender.values\n",
    "plt.figure(figsize=(12,6))\n",
    "plt.pie(sizes,labels=labels,autopct='%1.1f%%',\n",
    "        shadow=True,startangle=90)\n",
    "plt.show()"
   ]
  },
  {
   "cell_type": "code",
   "execution_count": 42,
   "id": "f4fbd342",
   "metadata": {
    "execution": {
     "iopub.execute_input": "2022-07-19T06:53:19.634052Z",
     "iopub.status.busy": "2022-07-19T06:53:19.632312Z",
     "iopub.status.idle": "2022-07-19T06:53:19.655341Z",
     "shell.execute_reply": "2022-07-19T06:53:19.654561Z"
    },
    "papermill": {
     "duration": 0.056302,
     "end_time": "2022-07-19T06:53:19.658059",
     "exception": false,
     "start_time": "2022-07-19T06:53:19.601757",
     "status": "completed"
    },
    "tags": []
   },
   "outputs": [
    {
     "data": {
      "text/html": [
       "<div>\n",
       "<style scoped>\n",
       "    .dataframe tbody tr th:only-of-type {\n",
       "        vertical-align: middle;\n",
       "    }\n",
       "\n",
       "    .dataframe tbody tr th {\n",
       "        vertical-align: top;\n",
       "    }\n",
       "\n",
       "    .dataframe thead th {\n",
       "        text-align: right;\n",
       "    }\n",
       "</style>\n",
       "<table border=\"1\" class=\"dataframe\">\n",
       "  <thead>\n",
       "    <tr style=\"text-align: right;\">\n",
       "      <th></th>\n",
       "      <th>gender</th>\n",
       "      <th>race/ethnicity</th>\n",
       "      <th>parental level of education</th>\n",
       "      <th>lunch</th>\n",
       "      <th>test preparation course</th>\n",
       "      <th>math score</th>\n",
       "      <th>reading score</th>\n",
       "      <th>writing score</th>\n",
       "    </tr>\n",
       "  </thead>\n",
       "  <tbody>\n",
       "    <tr>\n",
       "      <th>0</th>\n",
       "      <td>female</td>\n",
       "      <td>group B</td>\n",
       "      <td>bachelor's degree</td>\n",
       "      <td>standard</td>\n",
       "      <td>none</td>\n",
       "      <td>72</td>\n",
       "      <td>72</td>\n",
       "      <td>74</td>\n",
       "    </tr>\n",
       "    <tr>\n",
       "      <th>1</th>\n",
       "      <td>female</td>\n",
       "      <td>group C</td>\n",
       "      <td>some college</td>\n",
       "      <td>standard</td>\n",
       "      <td>completed</td>\n",
       "      <td>69</td>\n",
       "      <td>90</td>\n",
       "      <td>88</td>\n",
       "    </tr>\n",
       "    <tr>\n",
       "      <th>2</th>\n",
       "      <td>female</td>\n",
       "      <td>group B</td>\n",
       "      <td>master's degree</td>\n",
       "      <td>standard</td>\n",
       "      <td>none</td>\n",
       "      <td>90</td>\n",
       "      <td>95</td>\n",
       "      <td>93</td>\n",
       "    </tr>\n",
       "    <tr>\n",
       "      <th>3</th>\n",
       "      <td>male</td>\n",
       "      <td>group A</td>\n",
       "      <td>associate's degree</td>\n",
       "      <td>free/reduced</td>\n",
       "      <td>none</td>\n",
       "      <td>47</td>\n",
       "      <td>57</td>\n",
       "      <td>44</td>\n",
       "    </tr>\n",
       "    <tr>\n",
       "      <th>4</th>\n",
       "      <td>male</td>\n",
       "      <td>group C</td>\n",
       "      <td>some college</td>\n",
       "      <td>standard</td>\n",
       "      <td>none</td>\n",
       "      <td>76</td>\n",
       "      <td>78</td>\n",
       "      <td>75</td>\n",
       "    </tr>\n",
       "  </tbody>\n",
       "</table>\n",
       "</div>"
      ],
      "text/plain": [
       "   gender race/ethnicity parental level of education         lunch  \\\n",
       "0  female        group B           bachelor's degree      standard   \n",
       "1  female        group C                some college      standard   \n",
       "2  female        group B             master's degree      standard   \n",
       "3    male        group A          associate's degree  free/reduced   \n",
       "4    male        group C                some college      standard   \n",
       "\n",
       "  test preparation course  math score  reading score  writing score  \n",
       "0                    none          72             72             74  \n",
       "1               completed          69             90             88  \n",
       "2                    none          90             95             93  \n",
       "3                    none          47             57             44  \n",
       "4                    none          76             78             75  "
      ]
     },
     "execution_count": 42,
     "metadata": {},
     "output_type": "execute_result"
    }
   ],
   "source": [
    "df.head()"
   ]
  },
  {
   "cell_type": "code",
   "execution_count": 43,
   "id": "fa0258f8",
   "metadata": {
    "execution": {
     "iopub.execute_input": "2022-07-19T06:53:19.712044Z",
     "iopub.status.busy": "2022-07-19T06:53:19.711690Z",
     "iopub.status.idle": "2022-07-19T06:53:19.718462Z",
     "shell.execute_reply": "2022-07-19T06:53:19.717655Z"
    },
    "papermill": {
     "duration": 0.036552,
     "end_time": "2022-07-19T06:53:19.720658",
     "exception": false,
     "start_time": "2022-07-19T06:53:19.684106",
     "status": "completed"
    },
    "tags": []
   },
   "outputs": [],
   "source": [
    "df['result']=df['math score']+df['reading score']+df['writing score']"
   ]
  },
  {
   "cell_type": "markdown",
   "id": "f6fa015e",
   "metadata": {
    "papermill": {
     "duration": 0.027444,
     "end_time": "2022-07-19T06:53:19.775388",
     "exception": false,
     "start_time": "2022-07-19T06:53:19.747944",
     "status": "completed"
    },
    "tags": []
   },
   "source": [
    "Let's find outliers"
   ]
  },
  {
   "cell_type": "code",
   "execution_count": 44,
   "id": "99113736",
   "metadata": {
    "execution": {
     "iopub.execute_input": "2022-07-19T06:53:19.832835Z",
     "iopub.status.busy": "2022-07-19T06:53:19.832049Z",
     "iopub.status.idle": "2022-07-19T06:53:19.997824Z",
     "shell.execute_reply": "2022-07-19T06:53:19.996796Z"
    },
    "papermill": {
     "duration": 0.197658,
     "end_time": "2022-07-19T06:53:20.000095",
     "exception": false,
     "start_time": "2022-07-19T06:53:19.802437",
     "status": "completed"
    },
    "tags": []
   },
   "outputs": [
    {
     "data": {
      "image/png": "[encoded data removed]",
      "text/plain": [
       "<Figure size 864x432 with 1 Axes>"
      ]
     },
     "metadata": {
      "needs_background": "light"
     },
     "output_type": "display_data"
    }
   ],
   "source": [
    "plt.figure(figsize=(12,6))\n",
    "sns.boxplot(df['result'])\n",
    "plt.title('result outliers')\n",
    "plt.show()"
   ]
  },
  {
   "cell_type": "markdown",
   "id": "504f73e7",
   "metadata": {
    "papermill": {
     "duration": 0.026152,
     "end_time": "2022-07-19T06:53:20.053166",
     "exception": false,
     "start_time": "2022-07-19T06:53:20.027014",
     "status": "completed"
    },
    "tags": []
   },
   "source": [
    "we can remove outliers and also replace.if we remove our data shape will be reduced,you can see at the end,\n",
    "if we replace data we will change data outliers,you can also see this one at the end."
   ]
  },
  {
   "cell_type": "markdown",
   "id": "5aad0e56",
   "metadata": {
    "papermill": {
     "duration": 0.025754,
     "end_time": "2022-07-19T06:53:20.106440",
     "exception": false,
     "start_time": "2022-07-19T06:53:20.080686",
     "status": "completed"
    },
    "tags": []
   },
   "source": [
    "remove outliers"
   ]
  },
  {
   "cell_type": "code",
   "execution_count": 45,
   "id": "dda93a71",
   "metadata": {
    "execution": {
     "iopub.execute_input": "2022-07-19T06:53:20.192762Z",
     "iopub.status.busy": "2022-07-19T06:53:20.191452Z",
     "iopub.status.idle": "2022-07-19T06:53:20.198141Z",
     "shell.execute_reply": "2022-07-19T06:53:20.197348Z"
    },
    "papermill": {
     "duration": 0.065943,
     "end_time": "2022-07-19T06:53:20.200370",
     "exception": false,
     "start_time": "2022-07-19T06:53:20.134427",
     "status": "completed"
    },
    "tags": []
   },
   "outputs": [],
   "source": [
    "def out_bound(df, col):\n",
    "    Q1=df[col].quantile(0.25)\n",
    "    Q3=df[col].quantile(0.75)\n",
    "    IQR=Q3-Q1\n",
    "    lower_bound=Q1-1.5*IQR\n",
    "    upper_bound=Q3+1.5*IQR\n",
    "    \n",
    "    return lower_bound, upper_bound"
   ]
  },
  {
   "cell_type": "code",
   "execution_count": 46,
   "id": "95a66003",
   "metadata": {
    "execution": {
     "iopub.execute_input": "2022-07-19T06:53:20.254655Z",
     "iopub.status.busy": "2022-07-19T06:53:20.253902Z",
     "iopub.status.idle": "2022-07-19T06:53:20.262624Z",
     "shell.execute_reply": "2022-07-19T06:53:20.260940Z"
    },
    "papermill": {
     "duration": 0.039387,
     "end_time": "2022-07-19T06:53:20.265736",
     "exception": false,
     "start_time": "2022-07-19T06:53:20.226349",
     "status": "completed"
    },
    "tags": []
   },
   "outputs": [
    {
     "name": "stdout",
     "output_type": "stream",
     "text": [
      "(88.0, 320.0)\n"
     ]
    }
   ],
   "source": [
    "print(out_bound(df, 'result'))"
   ]
  },
  {
   "cell_type": "code",
   "execution_count": 47,
   "id": "5ee37c94",
   "metadata": {
    "execution": {
     "iopub.execute_input": "2022-07-19T06:53:20.320819Z",
     "iopub.status.busy": "2022-07-19T06:53:20.320190Z",
     "iopub.status.idle": "2022-07-19T06:53:20.325840Z",
     "shell.execute_reply": "2022-07-19T06:53:20.325003Z"
    },
    "papermill": {
     "duration": 0.035676,
     "end_time": "2022-07-19T06:53:20.328056",
     "exception": false,
     "start_time": "2022-07-19T06:53:20.292380",
     "status": "completed"
    },
    "tags": []
   },
   "outputs": [],
   "source": [
    "def remove_outliers(data, col):\n",
    "    l_b, u_b=out_bound(data, col)\n",
    "    \n",
    "    return data[ (data[col]>l_b) & (data[col]<u_b) ]"
   ]
  },
  {
   "cell_type": "code",
   "execution_count": 48,
   "id": "a28b3c25",
   "metadata": {
    "execution": {
     "iopub.execute_input": "2022-07-19T06:53:20.381781Z",
     "iopub.status.busy": "2022-07-19T06:53:20.381040Z",
     "iopub.status.idle": "2022-07-19T06:53:20.389053Z",
     "shell.execute_reply": "2022-07-19T06:53:20.388095Z"
    },
    "papermill": {
     "duration": 0.03748,
     "end_time": "2022-07-19T06:53:20.391265",
     "exception": false,
     "start_time": "2022-07-19T06:53:20.353785",
     "status": "completed"
    },
    "tags": []
   },
   "outputs": [],
   "source": [
    "df1=remove_outliers(df, 'result')"
   ]
  },
  {
   "cell_type": "code",
   "execution_count": 49,
   "id": "e494abeb",
   "metadata": {
    "execution": {
     "iopub.execute_input": "2022-07-19T06:53:20.445130Z",
     "iopub.status.busy": "2022-07-19T06:53:20.444492Z",
     "iopub.status.idle": "2022-07-19T06:53:20.577792Z",
     "shell.execute_reply": "2022-07-19T06:53:20.576503Z"
    },
    "papermill": {
     "duration": 0.164293,
     "end_time": "2022-07-19T06:53:20.581324",
     "exception": false,
     "start_time": "2022-07-19T06:53:20.417031",
     "status": "completed"
    },
    "tags": []
   },
   "outputs": [
    {
     "data": {
      "image/png": "[encoded data removed]",
      "text/plain": [
       "<Figure size 432x288 with 1 Axes>"
      ]
     },
     "metadata": {
      "needs_background": "light"
     },
     "output_type": "display_data"
    }
   ],
   "source": [
    "sns.boxplot(df1['result'])\n",
    "plt.title('result outliers')\n",
    "plt.show()"
   ]
  },
  {
   "cell_type": "markdown",
   "id": "da182439",
   "metadata": {
    "papermill": {
     "duration": 0.026059,
     "end_time": "2022-07-19T06:53:20.638424",
     "exception": false,
     "start_time": "2022-07-19T06:53:20.612365",
     "status": "completed"
    },
    "tags": []
   },
   "source": [
    "replace outliers"
   ]
  },
  {
   "cell_type": "code",
   "execution_count": 50,
   "id": "85ac9488",
   "metadata": {
    "execution": {
     "iopub.execute_input": "2022-07-19T06:53:20.695270Z",
     "iopub.status.busy": "2022-07-19T06:53:20.694541Z",
     "iopub.status.idle": "2022-07-19T06:53:20.699576Z",
     "shell.execute_reply": "2022-07-19T06:53:20.698742Z"
    },
    "papermill": {
     "duration": 0.035891,
     "end_time": "2022-07-19T06:53:20.701678",
     "exception": false,
     "start_time": "2022-07-19T06:53:20.665787",
     "status": "completed"
    },
    "tags": []
   },
   "outputs": [],
   "source": [
    "def outliers_equal_bounds(data, col):\n",
    "    l_b, u_b=out_bound(data, col)\n",
    "    \n",
    "    data.loc[(data[col]<l_b), col]=l_b\n",
    "    data.loc[(data[col]>u_b), col]=u_b\n",
    "    \n",
    "    return data\n",
    "    "
   ]
  },
  {
   "cell_type": "code",
   "execution_count": 51,
   "id": "ebd327ab",
   "metadata": {
    "execution": {
     "iopub.execute_input": "2022-07-19T06:53:20.758939Z",
     "iopub.status.busy": "2022-07-19T06:53:20.758229Z",
     "iopub.status.idle": "2022-07-19T06:53:20.766366Z",
     "shell.execute_reply": "2022-07-19T06:53:20.765421Z"
    },
    "papermill": {
     "duration": 0.040004,
     "end_time": "2022-07-19T06:53:20.768858",
     "exception": false,
     "start_time": "2022-07-19T06:53:20.728854",
     "status": "completed"
    },
    "tags": []
   },
   "outputs": [],
   "source": [
    "df2=outliers_equal_bounds(df, 'result')"
   ]
  },
  {
   "cell_type": "code",
   "execution_count": 52,
   "id": "727714fb",
   "metadata": {
    "execution": {
     "iopub.execute_input": "2022-07-19T06:53:20.826799Z",
     "iopub.status.busy": "2022-07-19T06:53:20.826371Z",
     "iopub.status.idle": "2022-07-19T06:53:20.962443Z",
     "shell.execute_reply": "2022-07-19T06:53:20.961111Z"
    },
    "papermill": {
     "duration": 0.170151,
     "end_time": "2022-07-19T06:53:20.966041",
     "exception": false,
     "start_time": "2022-07-19T06:53:20.795890",
     "status": "completed"
    },
    "tags": []
   },
   "outputs": [
    {
     "data": {
      "text/plain": [
       "<AxesSubplot:xlabel='result'>"
      ]
     },
     "execution_count": 52,
     "metadata": {},
     "output_type": "execute_result"
    },
    {
     "data": {
      "image/png": "[encoded data removed]",
      "text/plain": [
       "<Figure size 432x288 with 1 Axes>"
      ]
     },
     "metadata": {
      "needs_background": "light"
     },
     "output_type": "display_data"
    }
   ],
   "source": [
    "sns.boxplot(df2['result'])"
   ]
  },
  {
   "cell_type": "code",
   "execution_count": 53,
   "id": "7506469d",
   "metadata": {
    "execution": {
     "iopub.execute_input": "2022-07-19T06:53:21.027298Z",
     "iopub.status.busy": "2022-07-19T06:53:21.026571Z",
     "iopub.status.idle": "2022-07-19T06:53:21.032011Z",
     "shell.execute_reply": "2022-07-19T06:53:21.031249Z"
    },
    "papermill": {
     "duration": 0.035415,
     "end_time": "2022-07-19T06:53:21.033956",
     "exception": false,
     "start_time": "2022-07-19T06:53:20.998541",
     "status": "completed"
    },
    "tags": []
   },
   "outputs": [
    {
     "data": {
      "text/plain": [
       "(1000, 9)"
      ]
     },
     "execution_count": 53,
     "metadata": {},
     "output_type": "execute_result"
    }
   ],
   "source": [
    "df.shape     #the real data"
   ]
  },
  {
   "cell_type": "code",
   "execution_count": 54,
   "id": "1c66c140",
   "metadata": {
    "execution": {
     "iopub.execute_input": "2022-07-19T06:53:21.089484Z",
     "iopub.status.busy": "2022-07-19T06:53:21.088827Z",
     "iopub.status.idle": "2022-07-19T06:53:21.094311Z",
     "shell.execute_reply": "2022-07-19T06:53:21.093320Z"
    },
    "papermill": {
     "duration": 0.035998,
     "end_time": "2022-07-19T06:53:21.096522",
     "exception": false,
     "start_time": "2022-07-19T06:53:21.060524",
     "status": "completed"
    },
    "tags": []
   },
   "outputs": [
    {
     "data": {
      "text/plain": [
       "(993, 9)"
      ]
     },
     "execution_count": 54,
     "metadata": {},
     "output_type": "execute_result"
    }
   ],
   "source": [
    "df1.shape  "
   ]
  },
  {
   "cell_type": "markdown",
   "id": "dcd50929",
   "metadata": {
    "papermill": {
     "duration": 0.026659,
     "end_time": "2022-07-19T06:53:21.149951",
     "exception": false,
     "start_time": "2022-07-19T06:53:21.123292",
     "status": "completed"
    },
    "tags": []
   },
   "source": [
    "removed outliers data -df1 ,as you can see the shape of data is reduced"
   ]
  },
  {
   "cell_type": "code",
   "execution_count": 55,
   "id": "20a7a234",
   "metadata": {
    "execution": {
     "iopub.execute_input": "2022-07-19T06:53:21.206085Z",
     "iopub.status.busy": "2022-07-19T06:53:21.205664Z",
     "iopub.status.idle": "2022-07-19T06:53:21.211422Z",
     "shell.execute_reply": "2022-07-19T06:53:21.210663Z"
    },
    "papermill": {
     "duration": 0.036036,
     "end_time": "2022-07-19T06:53:21.213546",
     "exception": false,
     "start_time": "2022-07-19T06:53:21.177510",
     "status": "completed"
    },
    "tags": []
   },
   "outputs": [
    {
     "data": {
      "text/plain": [
       "(1000, 9)"
      ]
     },
     "execution_count": 55,
     "metadata": {},
     "output_type": "execute_result"
    }
   ],
   "source": [
    "df2.shape      "
   ]
  },
  {
   "cell_type": "markdown",
   "id": "c84ef4b2",
   "metadata": {
    "papermill": {
     "duration": 0.02684,
     "end_time": "2022-07-19T06:53:21.267805",
     "exception": false,
     "start_time": "2022-07-19T06:53:21.240965",
     "status": "completed"
    },
    "tags": []
   },
   "source": [
    "replaced outliers data-df2,nothing has changed"
   ]
  },
  {
   "cell_type": "markdown",
   "id": "0c17388a",
   "metadata": {
    "papermill": {
     "duration": 0.026563,
     "end_time": "2022-07-19T06:53:21.321095",
     "exception": false,
     "start_time": "2022-07-19T06:53:21.294532",
     "status": "completed"
    },
    "tags": []
   },
   "source": [
    "using seaborn boxplot to see gender values outliers"
   ]
  },
  {
   "cell_type": "code",
   "execution_count": 56,
   "id": "d88c681a",
   "metadata": {
    "execution": {
     "iopub.execute_input": "2022-07-19T06:53:21.377417Z",
     "iopub.status.busy": "2022-07-19T06:53:21.376193Z",
     "iopub.status.idle": "2022-07-19T06:53:21.534578Z",
     "shell.execute_reply": "2022-07-19T06:53:21.533784Z"
    },
    "papermill": {
     "duration": 0.188616,
     "end_time": "2022-07-19T06:53:21.536710",
     "exception": false,
     "start_time": "2022-07-19T06:53:21.348094",
     "status": "completed"
    },
    "tags": []
   },
   "outputs": [
    {
     "data": {
      "image/png": "[encoded data removed]",
      "text/plain": [
       "<Figure size 432x288 with 1 Axes>"
      ]
     },
     "metadata": {
      "needs_background": "light"
     },
     "output_type": "display_data"
    }
   ],
   "source": [
    "sns.boxplot(x='gender', y='result', data=df)\n",
    "plt.show()"
   ]
  },
  {
   "cell_type": "code",
   "execution_count": 57,
   "id": "2f9b72ae",
   "metadata": {
    "execution": {
     "iopub.execute_input": "2022-07-19T06:53:21.593189Z",
     "iopub.status.busy": "2022-07-19T06:53:21.592555Z",
     "iopub.status.idle": "2022-07-19T06:53:21.806944Z",
     "shell.execute_reply": "2022-07-19T06:53:21.805410Z"
    },
    "papermill": {
     "duration": 0.246249,
     "end_time": "2022-07-19T06:53:21.809831",
     "exception": false,
     "start_time": "2022-07-19T06:53:21.563582",
     "status": "completed"
    },
    "tags": []
   },
   "outputs": [
    {
     "data": {
      "image/png": "[encoded data removed]",
      "text/plain": [
       "<Figure size 432x288 with 1 Axes>"
      ]
     },
     "metadata": {
      "needs_background": "light"
     },
     "output_type": "display_data"
    }
   ],
   "source": [
    "sns.distplot(df['result'])\n",
    "plt.title('result density')\n",
    "plt.show()"
   ]
  },
  {
   "cell_type": "markdown",
   "id": "0a2beb73",
   "metadata": {
    "papermill": {
     "duration": 0.027897,
     "end_time": "2022-07-19T06:53:21.866133",
     "exception": false,
     "start_time": "2022-07-19T06:53:21.838236",
     "status": "completed"
    },
    "tags": []
   },
   "source": [
    "male and female students performance results"
   ]
  },
  {
   "cell_type": "code",
   "execution_count": 58,
   "id": "7b761127",
   "metadata": {
    "execution": {
     "iopub.execute_input": "2022-07-19T06:53:21.924246Z",
     "iopub.status.busy": "2022-07-19T06:53:21.923886Z",
     "iopub.status.idle": "2022-07-19T06:53:22.124353Z",
     "shell.execute_reply": "2022-07-19T06:53:22.123219Z"
    },
    "papermill": {
     "duration": 0.231827,
     "end_time": "2022-07-19T06:53:22.126840",
     "exception": false,
     "start_time": "2022-07-19T06:53:21.895013",
     "status": "completed"
    },
    "tags": []
   },
   "outputs": [
    {
     "data": {
      "image/png": "[encoded data removed]",
      "text/plain": [
       "<Figure size 864x504 with 1 Axes>"
      ]
     },
     "metadata": {
      "needs_background": "light"
     },
     "output_type": "display_data"
    }
   ],
   "source": [
    "plt.figure(figsize=(12,7))\n",
    "sns.violinplot(x=df['gender'],y=df['result'])\n",
    "plt.title('male and female performance results')\n",
    "plt.show()"
   ]
  },
  {
   "cell_type": "code",
   "execution_count": 59,
   "id": "36a8c5b8",
   "metadata": {
    "execution": {
     "iopub.execute_input": "2022-07-19T06:53:22.186573Z",
     "iopub.status.busy": "2022-07-19T06:53:22.186172Z",
     "iopub.status.idle": "2022-07-19T06:53:22.200644Z",
     "shell.execute_reply": "2022-07-19T06:53:22.199587Z"
    },
    "papermill": {
     "duration": 0.047111,
     "end_time": "2022-07-19T06:53:22.202940",
     "exception": false,
     "start_time": "2022-07-19T06:53:22.155829",
     "status": "completed"
    },
    "tags": []
   },
   "outputs": [
    {
     "data": {
      "text/html": [
       "<div>\n",
       "<style scoped>\n",
       "    .dataframe tbody tr th:only-of-type {\n",
       "        vertical-align: middle;\n",
       "    }\n",
       "\n",
       "    .dataframe tbody tr th {\n",
       "        vertical-align: top;\n",
       "    }\n",
       "\n",
       "    .dataframe thead th {\n",
       "        text-align: right;\n",
       "    }\n",
       "</style>\n",
       "<table border=\"1\" class=\"dataframe\">\n",
       "  <thead>\n",
       "    <tr style=\"text-align: right;\">\n",
       "      <th></th>\n",
       "      <th>gender</th>\n",
       "      <th>race/ethnicity</th>\n",
       "      <th>parental level of education</th>\n",
       "      <th>lunch</th>\n",
       "      <th>test preparation course</th>\n",
       "      <th>math score</th>\n",
       "      <th>reading score</th>\n",
       "      <th>writing score</th>\n",
       "      <th>result</th>\n",
       "    </tr>\n",
       "  </thead>\n",
       "  <tbody>\n",
       "    <tr>\n",
       "      <th>0</th>\n",
       "      <td>female</td>\n",
       "      <td>group B</td>\n",
       "      <td>bachelor's degree</td>\n",
       "      <td>standard</td>\n",
       "      <td>none</td>\n",
       "      <td>72</td>\n",
       "      <td>72</td>\n",
       "      <td>74</td>\n",
       "      <td>218</td>\n",
       "    </tr>\n",
       "    <tr>\n",
       "      <th>1</th>\n",
       "      <td>female</td>\n",
       "      <td>group C</td>\n",
       "      <td>some college</td>\n",
       "      <td>standard</td>\n",
       "      <td>completed</td>\n",
       "      <td>69</td>\n",
       "      <td>90</td>\n",
       "      <td>88</td>\n",
       "      <td>247</td>\n",
       "    </tr>\n",
       "    <tr>\n",
       "      <th>2</th>\n",
       "      <td>female</td>\n",
       "      <td>group B</td>\n",
       "      <td>master's degree</td>\n",
       "      <td>standard</td>\n",
       "      <td>none</td>\n",
       "      <td>90</td>\n",
       "      <td>95</td>\n",
       "      <td>93</td>\n",
       "      <td>278</td>\n",
       "    </tr>\n",
       "    <tr>\n",
       "      <th>3</th>\n",
       "      <td>male</td>\n",
       "      <td>group A</td>\n",
       "      <td>associate's degree</td>\n",
       "      <td>free/reduced</td>\n",
       "      <td>none</td>\n",
       "      <td>47</td>\n",
       "      <td>57</td>\n",
       "      <td>44</td>\n",
       "      <td>148</td>\n",
       "    </tr>\n",
       "    <tr>\n",
       "      <th>4</th>\n",
       "      <td>male</td>\n",
       "      <td>group C</td>\n",
       "      <td>some college</td>\n",
       "      <td>standard</td>\n",
       "      <td>none</td>\n",
       "      <td>76</td>\n",
       "      <td>78</td>\n",
       "      <td>75</td>\n",
       "      <td>229</td>\n",
       "    </tr>\n",
       "  </tbody>\n",
       "</table>\n",
       "</div>"
      ],
      "text/plain": [
       "   gender race/ethnicity parental level of education         lunch  \\\n",
       "0  female        group B           bachelor's degree      standard   \n",
       "1  female        group C                some college      standard   \n",
       "2  female        group B             master's degree      standard   \n",
       "3    male        group A          associate's degree  free/reduced   \n",
       "4    male        group C                some college      standard   \n",
       "\n",
       "  test preparation course  math score  reading score  writing score  result  \n",
       "0                    none          72             72             74     218  \n",
       "1               completed          69             90             88     247  \n",
       "2                    none          90             95             93     278  \n",
       "3                    none          47             57             44     148  \n",
       "4                    none          76             78             75     229  "
      ]
     },
     "execution_count": 59,
     "metadata": {},
     "output_type": "execute_result"
    }
   ],
   "source": [
    "df.head()"
   ]
  },
  {
   "cell_type": "code",
   "execution_count": 60,
   "id": "10a93f9d",
   "metadata": {
    "execution": {
     "iopub.execute_input": "2022-07-19T06:53:22.261411Z",
     "iopub.status.busy": "2022-07-19T06:53:22.260670Z",
     "iopub.status.idle": "2022-07-19T06:53:22.486100Z",
     "shell.execute_reply": "2022-07-19T06:53:22.485254Z"
    },
    "papermill": {
     "duration": 0.256811,
     "end_time": "2022-07-19T06:53:22.488371",
     "exception": false,
     "start_time": "2022-07-19T06:53:22.231560",
     "status": "completed"
    },
    "tags": []
   },
   "outputs": [
    {
     "data": {
      "image/png": "[encoded data removed]",
      "text/plain": [
       "<Figure size 432x288 with 1 Axes>"
      ]
     },
     "metadata": {
      "needs_background": "light"
     },
     "output_type": "display_data"
    }
   ],
   "source": [
    "sns.set_palette('pastel')\n",
    "sns.countplot(x='race/ethnicity', hue='lunch', data=df)\n",
    "plt.xticks(rotation=90)\n",
    "plt.show()"
   ]
  },
  {
   "cell_type": "code",
   "execution_count": 61,
   "id": "b48adeaf",
   "metadata": {
    "execution": {
     "iopub.execute_input": "2022-07-19T06:53:22.548580Z",
     "iopub.status.busy": "2022-07-19T06:53:22.547834Z",
     "iopub.status.idle": "2022-07-19T06:53:22.567871Z",
     "shell.execute_reply": "2022-07-19T06:53:22.566989Z"
    },
    "papermill": {
     "duration": 0.053572,
     "end_time": "2022-07-19T06:53:22.570176",
     "exception": false,
     "start_time": "2022-07-19T06:53:22.516604",
     "status": "completed"
    },
    "tags": []
   },
   "outputs": [
    {
     "data": {
      "text/html": [
       "<div>\n",
       "<style scoped>\n",
       "    .dataframe tbody tr th:only-of-type {\n",
       "        vertical-align: middle;\n",
       "    }\n",
       "\n",
       "    .dataframe tbody tr th {\n",
       "        vertical-align: top;\n",
       "    }\n",
       "\n",
       "    .dataframe thead th {\n",
       "        text-align: right;\n",
       "    }\n",
       "</style>\n",
       "<table border=\"1\" class=\"dataframe\">\n",
       "  <thead>\n",
       "    <tr style=\"text-align: right;\">\n",
       "      <th></th>\n",
       "      <th>count</th>\n",
       "      <th>unique</th>\n",
       "      <th>top</th>\n",
       "      <th>freq</th>\n",
       "    </tr>\n",
       "  </thead>\n",
       "  <tbody>\n",
       "    <tr>\n",
       "      <th>gender</th>\n",
       "      <td>1000</td>\n",
       "      <td>2</td>\n",
       "      <td>female</td>\n",
       "      <td>518</td>\n",
       "    </tr>\n",
       "    <tr>\n",
       "      <th>race/ethnicity</th>\n",
       "      <td>1000</td>\n",
       "      <td>5</td>\n",
       "      <td>group C</td>\n",
       "      <td>319</td>\n",
       "    </tr>\n",
       "    <tr>\n",
       "      <th>parental level of education</th>\n",
       "      <td>1000</td>\n",
       "      <td>6</td>\n",
       "      <td>some college</td>\n",
       "      <td>226</td>\n",
       "    </tr>\n",
       "    <tr>\n",
       "      <th>lunch</th>\n",
       "      <td>1000</td>\n",
       "      <td>2</td>\n",
       "      <td>standard</td>\n",
       "      <td>645</td>\n",
       "    </tr>\n",
       "    <tr>\n",
       "      <th>test preparation course</th>\n",
       "      <td>1000</td>\n",
       "      <td>2</td>\n",
       "      <td>none</td>\n",
       "      <td>642</td>\n",
       "    </tr>\n",
       "  </tbody>\n",
       "</table>\n",
       "</div>"
      ],
      "text/plain": [
       "                            count unique           top freq\n",
       "gender                       1000      2        female  518\n",
       "race/ethnicity               1000      5       group C  319\n",
       "parental level of education  1000      6  some college  226\n",
       "lunch                        1000      2      standard  645\n",
       "test preparation course      1000      2          none  642"
      ]
     },
     "execution_count": 61,
     "metadata": {},
     "output_type": "execute_result"
    }
   ],
   "source": [
    "df.describe(include=['object']).T"
   ]
  },
  {
   "cell_type": "code",
   "execution_count": 62,
   "id": "822d7078",
   "metadata": {
    "execution": {
     "iopub.execute_input": "2022-07-19T06:53:22.630351Z",
     "iopub.status.busy": "2022-07-19T06:53:22.629962Z",
     "iopub.status.idle": "2022-07-19T06:53:22.635821Z",
     "shell.execute_reply": "2022-07-19T06:53:22.634754Z"
    },
    "papermill": {
     "duration": 0.03928,
     "end_time": "2022-07-19T06:53:22.638024",
     "exception": false,
     "start_time": "2022-07-19T06:53:22.598744",
     "status": "completed"
    },
    "tags": []
   },
   "outputs": [],
   "source": [
    "df['percentage']=df['result']/3"
   ]
  },
  {
   "cell_type": "code",
   "execution_count": 63,
   "id": "0bb74b0f",
   "metadata": {
    "execution": {
     "iopub.execute_input": "2022-07-19T06:53:22.699542Z",
     "iopub.status.busy": "2022-07-19T06:53:22.698773Z",
     "iopub.status.idle": "2022-07-19T06:53:22.713242Z",
     "shell.execute_reply": "2022-07-19T06:53:22.712146Z"
    },
    "papermill": {
     "duration": 0.048255,
     "end_time": "2022-07-19T06:53:22.715503",
     "exception": false,
     "start_time": "2022-07-19T06:53:22.667248",
     "status": "completed"
    },
    "scrolled": true,
    "tags": []
   },
   "outputs": [
    {
     "data": {
      "text/html": [
       "<div>\n",
       "<style scoped>\n",
       "    .dataframe tbody tr th:only-of-type {\n",
       "        vertical-align: middle;\n",
       "    }\n",
       "\n",
       "    .dataframe tbody tr th {\n",
       "        vertical-align: top;\n",
       "    }\n",
       "\n",
       "    .dataframe thead th {\n",
       "        text-align: right;\n",
       "    }\n",
       "</style>\n",
       "<table border=\"1\" class=\"dataframe\">\n",
       "  <thead>\n",
       "    <tr style=\"text-align: right;\">\n",
       "      <th></th>\n",
       "      <th>gender</th>\n",
       "      <th>race/ethnicity</th>\n",
       "      <th>parental level of education</th>\n",
       "      <th>lunch</th>\n",
       "      <th>test preparation course</th>\n",
       "      <th>math score</th>\n",
       "      <th>reading score</th>\n",
       "      <th>writing score</th>\n",
       "      <th>result</th>\n",
       "      <th>percentage</th>\n",
       "    </tr>\n",
       "  </thead>\n",
       "  <tbody>\n",
       "    <tr>\n",
       "      <th>0</th>\n",
       "      <td>female</td>\n",
       "      <td>group B</td>\n",
       "      <td>bachelor's degree</td>\n",
       "      <td>standard</td>\n",
       "      <td>none</td>\n",
       "      <td>72</td>\n",
       "      <td>72</td>\n",
       "      <td>74</td>\n",
       "      <td>218</td>\n",
       "      <td>72.666667</td>\n",
       "    </tr>\n",
       "    <tr>\n",
       "      <th>1</th>\n",
       "      <td>female</td>\n",
       "      <td>group C</td>\n",
       "      <td>some college</td>\n",
       "      <td>standard</td>\n",
       "      <td>completed</td>\n",
       "      <td>69</td>\n",
       "      <td>90</td>\n",
       "      <td>88</td>\n",
       "      <td>247</td>\n",
       "      <td>82.333333</td>\n",
       "    </tr>\n",
       "    <tr>\n",
       "      <th>2</th>\n",
       "      <td>female</td>\n",
       "      <td>group B</td>\n",
       "      <td>master's degree</td>\n",
       "      <td>standard</td>\n",
       "      <td>none</td>\n",
       "      <td>90</td>\n",
       "      <td>95</td>\n",
       "      <td>93</td>\n",
       "      <td>278</td>\n",
       "      <td>92.666667</td>\n",
       "    </tr>\n",
       "    <tr>\n",
       "      <th>3</th>\n",
       "      <td>male</td>\n",
       "      <td>group A</td>\n",
       "      <td>associate's degree</td>\n",
       "      <td>free/reduced</td>\n",
       "      <td>none</td>\n",
       "      <td>47</td>\n",
       "      <td>57</td>\n",
       "      <td>44</td>\n",
       "      <td>148</td>\n",
       "      <td>49.333333</td>\n",
       "    </tr>\n",
       "    <tr>\n",
       "      <th>4</th>\n",
       "      <td>male</td>\n",
       "      <td>group C</td>\n",
       "      <td>some college</td>\n",
       "      <td>standard</td>\n",
       "      <td>none</td>\n",
       "      <td>76</td>\n",
       "      <td>78</td>\n",
       "      <td>75</td>\n",
       "      <td>229</td>\n",
       "      <td>76.333333</td>\n",
       "    </tr>\n",
       "  </tbody>\n",
       "</table>\n",
       "</div>"
      ],
      "text/plain": [
       "   gender race/ethnicity parental level of education         lunch  \\\n",
       "0  female        group B           bachelor's degree      standard   \n",
       "1  female        group C                some college      standard   \n",
       "2  female        group B             master's degree      standard   \n",
       "3    male        group A          associate's degree  free/reduced   \n",
       "4    male        group C                some college      standard   \n",
       "\n",
       "  test preparation course  math score  reading score  writing score  result  \\\n",
       "0                    none          72             72             74     218   \n",
       "1               completed          69             90             88     247   \n",
       "2                    none          90             95             93     278   \n",
       "3                    none          47             57             44     148   \n",
       "4                    none          76             78             75     229   \n",
       "\n",
       "   percentage  \n",
       "0   72.666667  \n",
       "1   82.333333  \n",
       "2   92.666667  \n",
       "3   49.333333  \n",
       "4   76.333333  "
      ]
     },
     "execution_count": 63,
     "metadata": {},
     "output_type": "execute_result"
    }
   ],
   "source": [
    "df.head()"
   ]
  },
  {
   "cell_type": "markdown",
   "id": "f97ffbc9",
   "metadata": {
    "papermill": {
     "duration": 0.030014,
     "end_time": "2022-07-19T06:53:22.774026",
     "exception": false,
     "start_time": "2022-07-19T06:53:22.744012",
     "status": "completed"
    },
    "tags": []
   },
   "source": [
    "let's do something different,extract grades using python codes"
   ]
  },
  {
   "cell_type": "code",
   "execution_count": 64,
   "id": "13c10f3d",
   "metadata": {
    "execution": {
     "iopub.execute_input": "2022-07-19T06:53:22.836553Z",
     "iopub.status.busy": "2022-07-19T06:53:22.836193Z",
     "iopub.status.idle": "2022-07-19T06:53:22.842704Z",
     "shell.execute_reply": "2022-07-19T06:53:22.841626Z"
    },
    "papermill": {
     "duration": 0.040597,
     "end_time": "2022-07-19T06:53:22.844968",
     "exception": false,
     "start_time": "2022-07-19T06:53:22.804371",
     "status": "completed"
    },
    "tags": []
   },
   "outputs": [],
   "source": [
    "def Grade(Percentage):\n",
    "    if Percentage >= 95:\n",
    "        return 'O'\n",
    "    \n",
    "    if Percentage >= 81:\n",
    "        return 'A'\n",
    "    \n",
    "    if Percentage >= 71:\n",
    "        return 'B'\n",
    "    \n",
    "    if Percentage >= 61:\n",
    "        return 'C'\n",
    "    \n",
    "    if Percentage >= 51:\n",
    "        return 'D'\n",
    "    \n",
    "    if Percentage >= 41:\n",
    "        return 'E'\n",
    "    \n",
    "    return 'F'"
   ]
  },
  {
   "cell_type": "code",
   "execution_count": 65,
   "id": "43d6ddc9",
   "metadata": {
    "execution": {
     "iopub.execute_input": "2022-07-19T06:53:22.905176Z",
     "iopub.status.busy": "2022-07-19T06:53:22.904771Z",
     "iopub.status.idle": "2022-07-19T06:53:22.921260Z",
     "shell.execute_reply": "2022-07-19T06:53:22.920056Z"
    },
    "papermill": {
     "duration": 0.049485,
     "end_time": "2022-07-19T06:53:22.923502",
     "exception": false,
     "start_time": "2022-07-19T06:53:22.874017",
     "status": "completed"
    },
    "tags": []
   },
   "outputs": [],
   "source": [
    "df['Grade']=df.apply(lambda x: Grade(x['percentage']),axis=1)"
   ]
  },
  {
   "cell_type": "code",
   "execution_count": 66,
   "id": "2fc136c7",
   "metadata": {
    "execution": {
     "iopub.execute_input": "2022-07-19T06:53:22.995429Z",
     "iopub.status.busy": "2022-07-19T06:53:22.994730Z",
     "iopub.status.idle": "2022-07-19T06:53:23.015311Z",
     "shell.execute_reply": "2022-07-19T06:53:23.014250Z"
    },
    "papermill": {
     "duration": 0.062986,
     "end_time": "2022-07-19T06:53:23.017615",
     "exception": false,
     "start_time": "2022-07-19T06:53:22.954629",
     "status": "completed"
    },
    "tags": []
   },
   "outputs": [
    {
     "data": {
      "text/html": [
       "<div>\n",
       "<style scoped>\n",
       "    .dataframe tbody tr th:only-of-type {\n",
       "        vertical-align: middle;\n",
       "    }\n",
       "\n",
       "    .dataframe tbody tr th {\n",
       "        vertical-align: top;\n",
       "    }\n",
       "\n",
       "    .dataframe thead th {\n",
       "        text-align: right;\n",
       "    }\n",
       "</style>\n",
       "<table border=\"1\" class=\"dataframe\">\n",
       "  <thead>\n",
       "    <tr style=\"text-align: right;\">\n",
       "      <th></th>\n",
       "      <th>gender</th>\n",
       "      <th>race/ethnicity</th>\n",
       "      <th>parental level of education</th>\n",
       "      <th>lunch</th>\n",
       "      <th>test preparation course</th>\n",
       "      <th>math score</th>\n",
       "      <th>reading score</th>\n",
       "      <th>writing score</th>\n",
       "      <th>result</th>\n",
       "      <th>percentage</th>\n",
       "      <th>Grade</th>\n",
       "    </tr>\n",
       "  </thead>\n",
       "  <tbody>\n",
       "    <tr>\n",
       "      <th>0</th>\n",
       "      <td>female</td>\n",
       "      <td>group B</td>\n",
       "      <td>bachelor's degree</td>\n",
       "      <td>standard</td>\n",
       "      <td>none</td>\n",
       "      <td>72</td>\n",
       "      <td>72</td>\n",
       "      <td>74</td>\n",
       "      <td>218</td>\n",
       "      <td>72.666667</td>\n",
       "      <td>B</td>\n",
       "    </tr>\n",
       "    <tr>\n",
       "      <th>1</th>\n",
       "      <td>female</td>\n",
       "      <td>group C</td>\n",
       "      <td>some college</td>\n",
       "      <td>standard</td>\n",
       "      <td>completed</td>\n",
       "      <td>69</td>\n",
       "      <td>90</td>\n",
       "      <td>88</td>\n",
       "      <td>247</td>\n",
       "      <td>82.333333</td>\n",
       "      <td>A</td>\n",
       "    </tr>\n",
       "    <tr>\n",
       "      <th>2</th>\n",
       "      <td>female</td>\n",
       "      <td>group B</td>\n",
       "      <td>master's degree</td>\n",
       "      <td>standard</td>\n",
       "      <td>none</td>\n",
       "      <td>90</td>\n",
       "      <td>95</td>\n",
       "      <td>93</td>\n",
       "      <td>278</td>\n",
       "      <td>92.666667</td>\n",
       "      <td>A</td>\n",
       "    </tr>\n",
       "    <tr>\n",
       "      <th>3</th>\n",
       "      <td>male</td>\n",
       "      <td>group A</td>\n",
       "      <td>associate's degree</td>\n",
       "      <td>free/reduced</td>\n",
       "      <td>none</td>\n",
       "      <td>47</td>\n",
       "      <td>57</td>\n",
       "      <td>44</td>\n",
       "      <td>148</td>\n",
       "      <td>49.333333</td>\n",
       "      <td>E</td>\n",
       "    </tr>\n",
       "    <tr>\n",
       "      <th>4</th>\n",
       "      <td>male</td>\n",
       "      <td>group C</td>\n",
       "      <td>some college</td>\n",
       "      <td>standard</td>\n",
       "      <td>none</td>\n",
       "      <td>76</td>\n",
       "      <td>78</td>\n",
       "      <td>75</td>\n",
       "      <td>229</td>\n",
       "      <td>76.333333</td>\n",
       "      <td>B</td>\n",
       "    </tr>\n",
       "  </tbody>\n",
       "</table>\n",
       "</div>"
      ],
      "text/plain": [
       "   gender race/ethnicity parental level of education         lunch  \\\n",
       "0  female        group B           bachelor's degree      standard   \n",
       "1  female        group C                some college      standard   \n",
       "2  female        group B             master's degree      standard   \n",
       "3    male        group A          associate's degree  free/reduced   \n",
       "4    male        group C                some college      standard   \n",
       "\n",
       "  test preparation course  math score  reading score  writing score  result  \\\n",
       "0                    none          72             72             74     218   \n",
       "1               completed          69             90             88     247   \n",
       "2                    none          90             95             93     278   \n",
       "3                    none          47             57             44     148   \n",
       "4                    none          76             78             75     229   \n",
       "\n",
       "   percentage Grade  \n",
       "0   72.666667     B  \n",
       "1   82.333333     A  \n",
       "2   92.666667     A  \n",
       "3   49.333333     E  \n",
       "4   76.333333     B  "
      ]
     },
     "execution_count": 66,
     "metadata": {},
     "output_type": "execute_result"
    }
   ],
   "source": [
    "df.head()"
   ]
  },
  {
   "cell_type": "code",
   "execution_count": 67,
   "id": "f673494d",
   "metadata": {
    "execution": {
     "iopub.execute_input": "2022-07-19T06:53:23.085628Z",
     "iopub.status.busy": "2022-07-19T06:53:23.084778Z",
     "iopub.status.idle": "2022-07-19T06:53:23.099178Z",
     "shell.execute_reply": "2022-07-19T06:53:23.097784Z"
    },
    "papermill": {
     "duration": 0.047736,
     "end_time": "2022-07-19T06:53:23.101858",
     "exception": false,
     "start_time": "2022-07-19T06:53:23.054122",
     "status": "completed"
    },
    "tags": []
   },
   "outputs": [
    {
     "data": {
      "text/html": [
       "<div>\n",
       "<style scoped>\n",
       "    .dataframe tbody tr th:only-of-type {\n",
       "        vertical-align: middle;\n",
       "    }\n",
       "\n",
       "    .dataframe tbody tr th {\n",
       "        vertical-align: top;\n",
       "    }\n",
       "\n",
       "    .dataframe thead th {\n",
       "        text-align: right;\n",
       "    }\n",
       "</style>\n",
       "<table border=\"1\" class=\"dataframe\">\n",
       "  <thead>\n",
       "    <tr style=\"text-align: right;\">\n",
       "      <th></th>\n",
       "      <th>math score</th>\n",
       "      <th>reading score</th>\n",
       "      <th>writing score</th>\n",
       "      <th>result</th>\n",
       "      <th>percentage</th>\n",
       "    </tr>\n",
       "  </thead>\n",
       "  <tbody>\n",
       "    <tr>\n",
       "      <th>math score</th>\n",
       "      <td>1.000000</td>\n",
       "      <td>0.817580</td>\n",
       "      <td>0.802642</td>\n",
       "      <td>0.916370</td>\n",
       "      <td>0.916370</td>\n",
       "    </tr>\n",
       "    <tr>\n",
       "      <th>reading score</th>\n",
       "      <td>0.817580</td>\n",
       "      <td>1.000000</td>\n",
       "      <td>0.954598</td>\n",
       "      <td>0.969660</td>\n",
       "      <td>0.969660</td>\n",
       "    </tr>\n",
       "    <tr>\n",
       "      <th>writing score</th>\n",
       "      <td>0.802642</td>\n",
       "      <td>0.954598</td>\n",
       "      <td>1.000000</td>\n",
       "      <td>0.964442</td>\n",
       "      <td>0.964442</td>\n",
       "    </tr>\n",
       "    <tr>\n",
       "      <th>result</th>\n",
       "      <td>0.916370</td>\n",
       "      <td>0.969660</td>\n",
       "      <td>0.964442</td>\n",
       "      <td>1.000000</td>\n",
       "      <td>1.000000</td>\n",
       "    </tr>\n",
       "    <tr>\n",
       "      <th>percentage</th>\n",
       "      <td>0.916370</td>\n",
       "      <td>0.969660</td>\n",
       "      <td>0.964442</td>\n",
       "      <td>1.000000</td>\n",
       "      <td>1.000000</td>\n",
       "    </tr>\n",
       "  </tbody>\n",
       "</table>\n",
       "</div>"
      ],
      "text/plain": [
       "               math score  reading score  writing score    result  percentage\n",
       "math score       1.000000       0.817580       0.802642  0.916370    0.916370\n",
       "reading score    0.817580       1.000000       0.954598  0.969660    0.969660\n",
       "writing score    0.802642       0.954598       1.000000  0.964442    0.964442\n",
       "result           0.916370       0.969660       0.964442  1.000000    1.000000\n",
       "percentage       0.916370       0.969660       0.964442  1.000000    1.000000"
      ]
     },
     "execution_count": 67,
     "metadata": {},
     "output_type": "execute_result"
    }
   ],
   "source": [
    "df.corr()"
   ]
  },
  {
   "cell_type": "markdown",
   "id": "383be11e",
   "metadata": {
    "papermill": {
     "duration": 0.031118,
     "end_time": "2022-07-19T06:53:23.162097",
     "exception": false,
     "start_time": "2022-07-19T06:53:23.130979",
     "status": "completed"
    },
    "tags": []
   },
   "source": [
    "# correlation analysis"
   ]
  },
  {
   "cell_type": "code",
   "execution_count": 68,
   "id": "88304e4a",
   "metadata": {
    "execution": {
     "iopub.execute_input": "2022-07-19T06:53:23.222431Z",
     "iopub.status.busy": "2022-07-19T06:53:23.222089Z",
     "iopub.status.idle": "2022-07-19T06:53:23.227792Z",
     "shell.execute_reply": "2022-07-19T06:53:23.226763Z"
    },
    "papermill": {
     "duration": 0.038551,
     "end_time": "2022-07-19T06:53:23.229980",
     "exception": false,
     "start_time": "2022-07-19T06:53:23.191429",
     "status": "completed"
    },
    "tags": []
   },
   "outputs": [],
   "source": [
    "corr=df.corr()"
   ]
  },
  {
   "cell_type": "code",
   "execution_count": 69,
   "id": "dd5e1870",
   "metadata": {
    "execution": {
     "iopub.execute_input": "2022-07-19T06:53:23.291041Z",
     "iopub.status.busy": "2022-07-19T06:53:23.289754Z",
     "iopub.status.idle": "2022-07-19T06:53:23.742618Z",
     "shell.execute_reply": "2022-07-19T06:53:23.741483Z"
    },
    "papermill": {
     "duration": 0.486133,
     "end_time": "2022-07-19T06:53:23.745278",
     "exception": false,
     "start_time": "2022-07-19T06:53:23.259145",
     "status": "completed"
    },
    "tags": []
   },
   "outputs": [
    {
     "data": {
      "image/png": "[encoded data removed]",
      "text/plain": [
       "<Figure size 576x576 with 2 Axes>"
      ]
     },
     "metadata": {
      "needs_background": "light"
     },
     "output_type": "display_data"
    }
   ],
   "source": [
    "plt.figure(figsize=(8,8))\n",
    "plt.title('Correlation Analysis',color='Red',fontsize=20,pad=40)\n",
    "mask = np.triu(np.ones_like(corr, dtype = bool))\n",
    "sns.heatmap(df.corr(), mask=mask, annot=True, linewidths=.5);\n",
    "plt.xticks(rotation=60)\n",
    "plt.yticks(rotation = 60)\n",
    "plt.show()"
   ]
  },
  {
   "cell_type": "markdown",
   "id": "9f4e0ec9",
   "metadata": {
    "papermill": {
     "duration": 0.029991,
     "end_time": "2022-07-19T06:53:23.805430",
     "exception": false,
     "start_time": "2022-07-19T06:53:23.775439",
     "status": "completed"
    },
    "tags": []
   },
   "source": [
    "# Data visualization"
   ]
  },
  {
   "cell_type": "code",
   "execution_count": 70,
   "id": "8b9fc613",
   "metadata": {
    "execution": {
     "iopub.execute_input": "2022-07-19T06:53:23.869462Z",
     "iopub.status.busy": "2022-07-19T06:53:23.869087Z",
     "iopub.status.idle": "2022-07-19T06:53:24.788781Z",
     "shell.execute_reply": "2022-07-19T06:53:24.787866Z"
    },
    "papermill": {
     "duration": 0.954676,
     "end_time": "2022-07-19T06:53:24.791023",
     "exception": false,
     "start_time": "2022-07-19T06:53:23.836347",
     "status": "completed"
    },
    "tags": []
   },
   "outputs": [
    {
     "data": {
      "image/png": "[encoded data removed]",
      "text/plain": [
       "<Figure size 1152x432 with 1 Axes>"
      ]
     },
     "metadata": {
      "needs_background": "light"
     },
     "output_type": "display_data"
    }
   ],
   "source": [
    "plt.figure(figsize=(16, 6))\n",
    "sns.barplot(x=df['math score'].value_counts().index, y=df['math score'].value_counts())\n",
    "plt.title('acquired math scores')\n",
    "plt.xticks(rotation=90)\n",
    "plt.show()"
   ]
  },
  {
   "cell_type": "code",
   "execution_count": 71,
   "id": "f2302729",
   "metadata": {
    "execution": {
     "iopub.execute_input": "2022-07-19T06:53:24.856371Z",
     "iopub.status.busy": "2022-07-19T06:53:24.855961Z",
     "iopub.status.idle": "2022-07-19T06:53:25.022202Z",
     "shell.execute_reply": "2022-07-19T06:53:25.020886Z"
    },
    "papermill": {
     "duration": 0.201702,
     "end_time": "2022-07-19T06:53:25.024750",
     "exception": false,
     "start_time": "2022-07-19T06:53:24.823048",
     "status": "completed"
    },
    "tags": []
   },
   "outputs": [
    {
     "data": {
      "image/png": "[encoded data removed]",
      "text/plain": [
       "<Figure size 864x432 with 1 Axes>"
      ]
     },
     "metadata": {
      "needs_background": "light"
     },
     "output_type": "display_data"
    }
   ],
   "source": [
    "plt.figure(figsize=(12,6))\n",
    "sns.countplot(x='lunch',data=df)\n",
    "plt.title('lunch values')\n",
    "plt.show()"
   ]
  },
  {
   "cell_type": "markdown",
   "id": "bfe54206",
   "metadata": {
    "papermill": {
     "duration": 0.030914,
     "end_time": "2022-07-19T06:53:25.085631",
     "exception": false,
     "start_time": "2022-07-19T06:53:25.054717",
     "status": "completed"
    },
    "tags": []
   },
   "source": [
    "# math scores of male and female participants"
   ]
  },
  {
   "cell_type": "code",
   "execution_count": 72,
   "id": "09e58723",
   "metadata": {
    "execution": {
     "iopub.execute_input": "2022-07-19T06:53:25.153091Z",
     "iopub.status.busy": "2022-07-19T06:53:25.152371Z",
     "iopub.status.idle": "2022-07-19T06:53:25.390749Z",
     "shell.execute_reply": "2022-07-19T06:53:25.389645Z"
    },
    "papermill": {
     "duration": 0.274306,
     "end_time": "2022-07-19T06:53:25.393305",
     "exception": false,
     "start_time": "2022-07-19T06:53:25.118999",
     "status": "completed"
    },
    "tags": []
   },
   "outputs": [
    {
     "data": {
      "image/png": "[encoded data removed]",
      "text/plain": [
       "<Figure size 864x432 with 1 Axes>"
      ]
     },
     "metadata": {
      "needs_background": "light"
     },
     "output_type": "display_data"
    }
   ],
   "source": [
    "plt.figure(figsize=(12,6))\n",
    "sns.kdeplot(df[df['gender']=='female']['math score'], color='purple', label='female')\n",
    "sns.kdeplot(df[df['gender']=='male']['math score'], color='orange', label='male')\n",
    "plt.title('math scores of male and female participants')\n",
    "plt.xticks(rotation='vertical')\n",
    "plt.legend()\n",
    "plt.show()"
   ]
  }
 ],
 "metadata": {
  "kernelspec": {
   "display_name": "Python 3",
   "language": "python",
   "name": "python3"
  },
  "language_info": {
   "codemirror_mode": {
    "name": "ipython",
    "version": 3
   },
   "file_extension": ".py",
   "mimetype": "text/x-python",
   "name": "python",
   "nbconvert_exporter": "python",
   "pygments_lexer": "ipython3",
   "version": "3.7.12"
  },
  "papermill": {
   "default_parameters": {},
   "duration": 24.987573,
   "end_time": "2022-07-19T06:53:26.246634",
   "environment_variables": {},
   "exception": null,
   "input_path": "__notebook__.ipynb",
   "output_path": "__notebook__.ipynb",
   "parameters": {},
   "start_time": "2022-07-19T06:53:01.259061",
   "version": "2.3.4"
  }
 },
 "nbformat": 4,
 "nbformat_minor": 5
}
